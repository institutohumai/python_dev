{
  "cells": [
    {
      "cell_type": "markdown",
      "metadata": {
        "id": "62FtgJTGvB4r"
      },
      "source": [
        "# Logging: cómo generar logs a partir de tu código\n",
        "\n",
        "La librería estándar de Python `logging` nos permite implementar un sistema de _logs_ o archivos de registro en cualquier script o aplicación que estemos desarrollando.\n",
        "\n",
        "## ¿Qué es un log?\n",
        "\n",
        "¿Qué es un log, y qué es el logging? Aquí traducimos un párrafo de la [documentación](https://docs.python.org/3/library/logging.html) de la librería: \n",
        "\n",
        "> El _logging_ es un modo de trackear eventos que ocurren a medida que ocurre un determinado _software_. El desarrollador del _software_ añade llamadas de _logging_/registro a su código para indicar que ciertos eventos han ocurrido. Un evento es indicado mediante un mensaje descriptivo, el cual puede contener data variable (i.e. data que es potencialmente distinta cada vez que ocurre el evento). Los eventos también tienen asignada por el desarrollador una importancia, que también puede ser llamada nivel o severidad.\n",
        "\n",
        "### Diferencia entre un _log_ y un _print_\n",
        "\n",
        "Muchas veces cuando empezamos a analizar nuestro código usamos comandos _print_ para hacer _debugging_ (por más que hay herramientas especializadas mucho más poderosas para hacerlo). También a veces usamos comandos _print_ para generar, por ejemplo al llamar nuestro script desde la consola, un registro de lo que va ocurriendo que vaya informando al usuario sobre qué está saliendo bien o está saliendo mal.\n",
        "\n",
        "El concepto de logging es similar a estos dos casos, con la diferencia de que los mensajes no serán impresos en pantalla sino que se guardarán en un archivo de texto (o más de uno, como veremos más abajo) determinado previamente por nosotros.\n",
        "\n",
        "## Niveles de \"severidad\"\n",
        "\n",
        "Como indica el párrafo traducido más arriba, cada mensaje de logging tiene asignado un \"nivel\" o \"severidad\". De menor a mayor grado de severidad, son los siguientes.\n",
        "1. `DEBUG`: se usa para detalles y debugging\n",
        "2. `INFO`: información sobre el desarrollo (correcto) del proceso\n",
        "3. `WARNING`: se indica algo inesperado o potencialmente peligroso pero que no impide la ejecución correcta del _software_\n",
        "4. `ERROR`: algo falló y el _software_ no está ejecutándose como debería\n",
        "5. `CRITICAL`: error grave.\n",
        "\n",
        "\n",
        "\n",
        "## Uso básico\n",
        "\n",
        "Antes de cualquier otra llamada a la librería, debemos comenzar inicializando los parámetros de la librería con `logging.basicConfig`, donde por ejemplo se especifica el nombre del archivo de log. Luego llamamos a la librería para generar los mensajes de nuestro interés. A continuación un ejemplo de uso básico:\n",
        "\n"
      ]
    },
    {
      "cell_type": "code",
      "execution_count": 1,
      "metadata": {},
      "outputs": [],
      "source": [
        "import logging\n",
        "\n",
        "def saludar_comunidad_humai(saludo : bool = True):\n",
        "    if saludo:\n",
        "        print(\"Hola comunidad de Humai!\")\n",
        "    else:\n",
        "        raise ValueError\n",
        "\n",
        "def main(saludo : bool):\n",
        "    logging.basicConfig(filename='mi_archivo_log.log', encoding='utf-8')\n",
        "    logging.info(\"Comenzando proceso de saludado\")\n",
        "    try:\n",
        "        saludar_comunidad_humai(saludo)\n",
        "    except ValueError:\n",
        "        logging.warning(\"El argumento debía ser True. Como pusiste False, se generó una excepción ValueError pero no te preocupes, yo te lo resuelvo ;)\")\n",
        "        print(\"Hola comunidad de Humai! (uf, eso estuvo cerca)\")\n",
        "    logging.info(\"Proceso de saludado finalizó correctamente.\")\n",
        "\n",
        "# main(saludo=True) # no genera mensaje de error\n",
        "# main(saludo=False) # genera mensaje de error"
      ]
    },
    {
      "cell_type": "markdown",
      "metadata": {},
      "source": [
        "Si prueban descomentando alguna de las dos últimas líneas, verán que los mensajes de nivel `INFO` nunca se escriben en nuestro archivo de log. Esto se debe a que, por defecto, solo los mensajes de nivel `WARNING` para arriba se guardan en el log. Para modificar esto, agregamos el parámetro `level=logging.INFO` a la línea de configuración de la librería. De esta manera, los mensajes de nivel `INFO` para arriba quedarán guardados en el archivo.\n",
        "\n",
        "Además, podemos hacer que cada mensaje quede etiquetado con la fecha y horario de su creación. Esto requiere modificar el formato de los mensajes, agregando a la línea de configuración el parámetro `format`. Una forma de hacer esto es con `format='%(asctime)s %(levelname)s:%(message)s'`. Nuestro código modificado queda así:"
      ]
    },
    {
      "cell_type": "code",
      "execution_count": 2,
      "metadata": {},
      "outputs": [
        {
          "name": "stdout",
          "output_type": "stream",
          "text": [
            "Hola comunidad de Humai! (uf, eso estuvo cerca)\n"
          ]
        }
      ],
      "source": [
        "%%python\n",
        "import logging\n",
        "\n",
        "def saludar_comunidad_humai(saludo : bool = True):\n",
        "    if saludo:\n",
        "        print(\"Hola comunidad de Humai!\")\n",
        "    else:\n",
        "        raise ValueError\n",
        "\n",
        "def main_2(saludo : bool):\n",
        "    logging.basicConfig(format='%(asctime)s %(levelname)s:%(message)s',\n",
        "                        filename='mi_archivo_log.log', encoding='utf-8',\n",
        "                        level=logging.INFO)\n",
        "    logging.info(\"Comenzando proceso de saludado\")\n",
        "    try:\n",
        "        saludar_comunidad_humai(saludo)\n",
        "    except ValueError:\n",
        "        logging.warning(\"El argumento debía ser True. Como pusiste False, se generó una excepción ValueError pero no te preocupes, yo te lo resuelvo ;)\")\n",
        "        print(\"Hola comunidad de Humai! (uf, eso estuvo cerca)\")\n",
        "    logging.info(\"Proceso de saludado finalizó correctamente.\")\n",
        "\n",
        "# main_2(saludo=True) # no genera mensaje de error\n",
        "main_2(saludo=False) # genera mensaje de error"
      ]
    },
    {
      "cell_type": "markdown",
      "metadata": {},
      "source": [
        "**Nota**: ¿Por qué pusimos el comando \"mágico\"\\* `%%python` arriba de todo en la celda anterior? El comando mágico `%%python` indica que toda la celda debe ser ejecutada independientemente en una nueva sesión de python (es como pasarle la celda al comando `python` en la terminal). ¿Por qué hacemos esto?\n",
        "\n",
        "Resulta que en cada sesión de Python, solo la primera llamada a la función `logging.basicConfig` importa. Es decir que si dentro de este notebook volvemos a llamarla con nuevos parámetros, es lo mismo que no hacer nada. Por eso, para no tener que pedirle al usuario de esta notebook que reinicie el kernel de Jupyter _y evite correr la celda de más arriba_, ejecutamos esta segunda celda en un proceso de Python independiente.\n",
        "\n",
        "Dicho sea de paso, esta es la misma razón por la cual es fundamental llamar a `logging.basicConfig` antes de generar el primer mensaje de logging, dado que si usamos por ejemplo `logging.error` antes de `logging.basicConfig`, la primera función llama silenciosamente a la segunda con los parámetros por defecto, y por lo tanto la siguiente llamada a `logging.basicConfig` (la nuestra) ya no surtirá efecto.\n",
        "\n",
        "\\* En el contexto de sesiones interactivas de Python, se le dice comandos \"mágicos\" a aquellos que comienzan con % o %%."
      ]
    },
    {
      "cell_type": "markdown",
      "metadata": {},
      "source": [
        "\n",
        "## Ejemplo de uso\n",
        "\n",
        "En [la primera clase](https://github.com/institutohumai/cursos-python/blob/master/PracticasDeDesarrollo/1_Desarrollo_I/bash_cli_vscode.ipynb) del curso de Desarrollo y Buenas Prácticas en Python de Humai, para aprender a usar `cron` para programar ejecuciones de código, vimos un ejemplo de script que levanta los precios de dos criptomonedas, bitcoin (BTC) y ethereum (ETH). Aquí lo tenemos nuevamente:"
      ]
    },
    {
      "cell_type": "code",
      "execution_count": 3,
      "metadata": {
        "colab": {
          "base_uri": "https://localhost:8080/"
        },
        "id": "dfMGWTSNu7dc",
        "outputId": "8239a985-1b90-4cda-f412-fd173ba4a6df"
      },
      "outputs": [
        {
          "name": "stdout",
          "output_type": "stream",
          "text": [
            "Overwriting crypto_price.py\n"
          ]
        }
      ],
      "source": [
        "%%writefile crypto_price.py\n",
        "import os\n",
        "import json\n",
        "import requests\n",
        "import pandas as pd\n",
        "from datetime import datetime\n",
        "\n",
        "# tenemos que hacer dos funciones: una para recibir el btc y otra para recibir el eth\n",
        "def btc_price():\n",
        "    # el endpoint de la API que compara BTC y dólar\n",
        "    key = \"https://api.binance.com/api/v3/ticker/price?symbol=BTCUSDT\"\n",
        "  \n",
        "    # pedimos la data, la transformamos a dataframe y la devolvemos\n",
        "    data = requests.get(key)  \n",
        "    data = data.json()\n",
        "    btc = pd.DataFrame([data])\n",
        "    return btc\n",
        "\n",
        "def eth_price():\n",
        "    # el endpoint de la API que compara ETH y dólar \n",
        "    key = \"https://api.binance.com/api/v3/ticker/price?symbol=ETHUSDT\"\n",
        "  \n",
        "    data = requests.get(key)  \n",
        "    data = data.json()\n",
        "    eth = pd.DataFrame([data])\n",
        "    return eth\n",
        "\n",
        "def main():\n",
        "    # armamos una carpeta para almacenar todo, si no existe la crea\n",
        "    path = 'crypto_prices'\n",
        "    os.makedirs(path, exist_ok=True)\n",
        "    \n",
        "    # al momento de ejecutar esto en consola pedimos los precios de ambas monedas\n",
        "    btc = btc_price()\n",
        "    eth = eth_price()\n",
        "    \n",
        "    # las unimos\n",
        "    price = pd.concat([btc, eth])\n",
        "    \n",
        "    # identificamos a nivel de segundo cuándo hicimos el request para pegar en el dataframe\n",
        "    TIMESTAMP = datetime.now().strftime(\"%Y%m%d%H%M%S\")\n",
        "    price['timestamp'] = TIMESTAMP\n",
        "    \n",
        "    # armamos el nombre del archivo usando el path con la carpeta que creamos y el timestamp\n",
        "    FILENAME = f'{path}/prices_{TIMESTAMP}.csv'\n",
        "    price.to_csv(FILENAME)\n",
        "    print(f'Data exportada a {FILENAME}')\n",
        "\n",
        "if __name__ == '__main__':\n",
        "   main()"
      ]
    },
    {
      "cell_type": "markdown",
      "metadata": {
        "id": "20VhH9-Z3Ho_"
      },
      "source": [
        "Luego programábamos la ejecución periódica de este script modificando nuestro archivo de configuración crontab. Por ejemplo, para que se ejecute el script una vez por minuto durante los días de semana, el código correspondiente es `* * * * 1-5` (lo cual podemos chequear en [crontab.guru](https://crontab.guru/#*_*_*_*_1-5)), luego debemos agregar a nuestro crontab la línea\n",
        "\n",
        "`* * * * 1-5 path/a/nuestro/binario/de/python path/a/nuestro/script.py`.\n",
        "\n",
        "(Si hacen esto en sus sistemas locales, noten que el directorio crypto_prices estará en su carpeta _home_).\n",
        "\n",
        "Usando la librería `logging` podemos dejar registro de cualquier situación inesperada o error que ocurra durante alguna de las ejecuciones, como por ejemplo un error de conexión al intentar levantar los datos. A continuación, mostramos una manera rápida de _envolver_ el código previo en un entorno `try`/`except`, que justamente maneja el caso en que la función `requests.get` eleva una excepción de tipo `ConnectionError`, agregando el evento al log."
      ]
    },
    {
      "cell_type": "code",
      "execution_count": 6,
      "metadata": {
        "colab": {
          "base_uri": "https://localhost:8080/"
        },
        "id": "grugnCS6_2XW",
        "outputId": "7b1e7c4a-3515-4909-9df4-22d9106616fb"
      },
      "outputs": [
        {
          "name": "stdout",
          "output_type": "stream",
          "text": [
            "Overwriting crypto_price_logging.py\n"
          ]
        }
      ],
      "source": [
        "%%writefile crypto_price_logging.py\n",
        "import logging\n",
        "import requests\n",
        "from crypto_price import main as get_crypto_price\n",
        "\n",
        "def main():\n",
        "    logging.basicConfig(filename='connection_errors.log', encoding='utf-8')\n",
        "    try:\n",
        "      get_crypto_price()\n",
        "    except requests.exceptions.ConnectionError as e:\n",
        "        logging.error('Error de conexión: %s', e)\n",
        "        raise\n",
        "\n",
        "if __name__ == '__main__':\n",
        "    main()"
      ]
    },
    {
      "cell_type": "markdown",
      "metadata": {
        "id": "QnxOxQlYFv9r"
      },
      "source": [
        "Si ahora desactivamos nuestra conexión a internet y ejecutamos el script desde la consola, veremos que el script deja registrado correctamente que se intentó ejecutar pero hubo un error de conexión, copiando al final el output de dicho error: "
      ]
    },
    {
      "cell_type": "code",
      "execution_count": 5,
      "metadata": {},
      "outputs": [],
      "source": [
        "# desconectarse de internet antes de descomentar y correr esta línea!\n",
        "# !python crypto_price_logging.py"
      ]
    },
    {
      "cell_type": "markdown",
      "metadata": {},
      "source": [
        "Veremos en nuestro archivo connection_errors.log algo como esto:\n",
        "\n",
        "![image](imgs/error_de_conexion.png)\n",
        "\n",
        "Si ahora programamos nuestro script agregándolo al archivo `crontab`, siempre que la ejecución falle por un error de conexión, esto quedará informado en nuestro log.\n",
        "\n",
        "### Sobre variables en los mensajes de log\n",
        "\n",
        "El mensaje de error de arriba es un ejemplo de mensaje con datos variables, en este caso la variable `e` contiene el error elevado por el módulo `requests`. En estos casos debemos usar necesariamente la sintaxis vieja para formateo de strings, conocida como \"%-style\". Debido a cuestiones de compatibilidad, las sintaxis más nuevas requieren una configuración más avanzada de la librería que no cubriremos en esta ocasión."
      ]
    },
    {
      "cell_type": "markdown",
      "metadata": {},
      "source": [
        "# Conclusión\n",
        "\n",
        "Vimos cómo usar la librería `logging` para agregar un registro de errores (u otras informaciones útiles) a nuestro código. La librería permite usos mucho más sofisticados; con respecto a ellos recomendamos leer la [documentación oficial](https://docs.python.org/3/library/logging.html)."
      ]
    }
  ],
  "metadata": {
    "colab": {
      "collapsed_sections": [],
      "provenance": []
    },
    "kernelspec": {
      "display_name": "Python 3.9.12 ('base')",
      "language": "python",
      "name": "python3"
    },
    "language_info": {
      "codemirror_mode": {
        "name": "ipython",
        "version": 3
      },
      "file_extension": ".py",
      "mimetype": "text/x-python",
      "name": "python",
      "nbconvert_exporter": "python",
      "pygments_lexer": "ipython3",
      "version": "3.9.12"
    },
    "vscode": {
      "interpreter": {
        "hash": "10ab406787690db56ff51ad7581454f335c3037e126665b390c71ea96662c76e"
      }
    }
  },
  "nbformat": 4,
  "nbformat_minor": 0
}
