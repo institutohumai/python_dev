{
  "cells": [
    {
      "cell_type": "code",
      "execution_count": 1,
      "metadata": {
        "colab": {
          "base_uri": "https://localhost:8080/"
        },
        "id": "RAiweW35dmNC",
        "outputId": "0390909f-2d78-4066-fb72-bbda6aa18577"
      },
      "outputs": [
        {
          "name": "stdout",
          "output_type": "stream",
          "text": [
            "\u001b[2K     \u001b[90m━━━━━━━━━━━━━━━━━━━━━━━━━━━━━━━━━━━━━━━━\u001b[0m \u001b[32m249.4/249.4 kB\u001b[0m \u001b[31m2.0 MB/s\u001b[0m eta \u001b[36m0:00:00\u001b[0m\n",
            "\u001b[2K     \u001b[90m━━━━━━━━━━━━━━━━━━━━━━━━━━━━━━━━━━━━━━━━\u001b[0m \u001b[32m78.7/78.7 kB\u001b[0m \u001b[31m7.2 MB/s\u001b[0m eta \u001b[36m0:00:00\u001b[0m\n",
            "\u001b[2K     \u001b[90m━━━━━━━━━━━━━━━━━━━━━━━━━━━━━━━━━━━━━━━━\u001b[0m \u001b[32m514.7/514.7 kB\u001b[0m \u001b[31m8.7 MB/s\u001b[0m eta \u001b[36m0:00:00\u001b[0m\n",
            "\u001b[2K     \u001b[90m━━━━━━━━━━━━━━━━━━━━━━━━━━━━━━━━━━━━━━━━\u001b[0m \u001b[32m453.8/453.8 kB\u001b[0m \u001b[31m15.4 MB/s\u001b[0m eta \u001b[36m0:00:00\u001b[0m\n",
            "\u001b[2K     \u001b[90m━━━━━━━━━━━━━━━━━━━━━━━━━━━━━━━━━━━━━━━━\u001b[0m \u001b[32m309.5/309.5 kB\u001b[0m \u001b[31m10.8 MB/s\u001b[0m eta \u001b[36m0:00:00\u001b[0m\n",
            "\u001b[2K     \u001b[90m━━━━━━━━━━━━━━━━━━━━━━━━━━━━━━━━━━━━━━━━\u001b[0m \u001b[32m54.5/54.5 kB\u001b[0m \u001b[31m2.8 MB/s\u001b[0m eta \u001b[36m0:00:00\u001b[0m\n",
            "\u001b[2K     \u001b[90m━━━━━━━━━━━━━━━━━━━━━━━━━━━━━━━━━━━━━━━━\u001b[0m \u001b[32m3.8/3.8 MB\u001b[0m \u001b[31m27.0 MB/s\u001b[0m eta \u001b[36m0:00:00\u001b[0m\n",
            "\u001b[2K     \u001b[90m━━━━━━━━━━━━━━━━━━━━━━━━━━━━━━━━━━━━━━━━\u001b[0m \u001b[32m3.4/3.4 MB\u001b[0m \u001b[31m44.9 MB/s\u001b[0m eta \u001b[36m0:00:00\u001b[0m\n",
            "\u001b[2K     \u001b[90m━━━━━━━━━━━━━━━━━━━━━━━━━━━━━━━━━━━━━━━━\u001b[0m \u001b[32m468.9/468.9 kB\u001b[0m \u001b[31m28.4 MB/s\u001b[0m eta \u001b[36m0:00:00\u001b[0m\n",
            "\u001b[?25h"
          ]
        }
      ],
      "source": [
        "!pip install poetry --quiet\n",
        "!poetry config virtualenvs.in-project true"
      ]
    },
    {
      "cell_type": "code",
      "execution_count": 2,
      "metadata": {
        "colab": {
          "base_uri": "https://localhost:8080/"
        },
        "id": "uP6ru8TIfgnr",
        "outputId": "3c7d97e4-bf4a-4c70-d329-176779978d92"
      },
      "outputs": [
        {
          "name": "stdout",
          "output_type": "stream",
          "text": [
            "\u001b[39;1mPoetry\u001b[39;22m (version \u001b[36m1.8.2\u001b[39m)\n"
          ]
        }
      ],
      "source": [
        "!poetry --version"
      ]
    },
    {
      "cell_type": "markdown",
      "metadata": {
        "id": "4SYnSu6rdsyr"
      },
      "source": [
        "1. Crear un proyecto llamado `pymate` usando poetry\n",
        "2. Agregar el archivo `matematicas.py` a la carpeta interna de pymate, que tiene el `__init__.py` (hacerlo manualmente o copiando y pegando)\n",
        "\n",
        "3. Usar Poetry para agregar las dos dependencias de matematicas.py (si vas a hacerlo en colab mira las notas al final del notebook)\n",
        "  - `numpy`\n",
        "  - `rich`\n",
        "\n",
        "4. Agregar `mypy` como dependencia de desarrollo con `--group dev`.\n",
        "\n",
        "5. Agregar un comando llamado `pymate` como script de punto de entrada de nuestro paquete en la seccion de `[tool.poetry.scripts]`. Debe apuntar a `pymate.matematicas:main`\n",
        "\n",
        "6. Probar cada suma con `poetry run` o bien activando el entorno con `poetry shell`\n"
      ]
    },
    {
      "cell_type": "markdown",
      "metadata": {
        "id": "Mn-RaZJqtqjt"
      },
      "source": [
        "## [Importante] Nota para quienes usen colab\n",
        "- Para poder localizarte en distintos directorios de colab se utiliza `%cd *nombre_directorio*`, usando simplemente `!cd *nombre_directorio*` no te movera realmente.\n",
        "\n",
        "- De acuerdo a la documentación de [poetry](https://python-poetry.org/docs/cli/#add), para instalar un nuevo paquete tenemos que correr `poetry add <paquete>`. Al correr este comando, poetry modifica el archivo `pyproject.toml` de manera automatica. Sin embargo, en colab no funciona. Se debe modificar `pyproject.toml` y agregar las dependencias **manualmente** bajo la sección de `[tool.poetry.dependencies]` y las de desarrollo bajo la seccion de `[tool.poetry.group.dev.dependencies]`.\n"
      ]
    },
    {
      "cell_type": "code",
      "execution_count": 3,
      "metadata": {
        "colab": {
          "base_uri": "https://localhost:8080/"
        },
        "id": "lS4ZXWQ7Q9Sn",
        "outputId": "4fe77547-59a1-4e9c-ac8a-6e730e798e5a"
      },
      "outputs": [
        {
          "name": "stdout",
          "output_type": "stream",
          "text": [
            "Writing matematicas.py\n"
          ]
        }
      ],
      "source": [
        "%%writefile matematicas.py\n",
        "from rich import print\n",
        "import numpy as np\n",
        "\n",
        "def sumar(a, b):\n",
        "    \"\"\"Esta funcion suma dos números e imprime el resultado.\"\"\"\n",
        "    resultado = int(a) + int(b)\n",
        "    print(\n",
        "        f\"La suma de [bold cyan]{a}[/bold cyan] y [bold cyan]{b}[/bold cyan] es [bold green]{resultado}[/bold green] :tada:\"\n",
        "    )\n",
        "\n",
        "def promediar(a, b):\n",
        "    \"\"\"Esta funcion promedia dos números e imprime el resultado.\"\"\"\n",
        "    resultado = np.mean([int(a), int(b)])\n",
        "    print(\n",
        "        f\"El promedio de [bold cyan]{a}[/bold cyan] y [bold cyan]{b}[/bold cyan] es [bold green]{resultado}[/bold green] :tada:\"\n",
        "    )\n",
        "    return resultado\n",
        "\n",
        "def main():\n",
        "    print(\"\\nSeleccione una opción:\")\n",
        "    print(\"1. Sumar \")\n",
        "    print(\"2. Promediar \")\n",
        "    choice = input(\"> \")\n",
        "\n",
        "    first_num = input(\"> Seleccione el primer número: \")\n",
        "    second_num = input(\"> Seleccione el segundo número: \")\n",
        "\n",
        "    if choice == '1':\n",
        "      sumar(first_num, second_num)\n",
        "    elif choice == '2':\n",
        "      promediar(first_num, second_num)\n",
        "\n",
        "if __name__ == \"__main__\":\n",
        "  main()"
      ]
    },
    {
      "cell_type": "code",
      "execution_count": 4,
      "metadata": {
        "colab": {
          "base_uri": "https://localhost:8080/"
        },
        "id": "32qbBbBwjiWB",
        "outputId": "c951ed52-0c0d-472a-dc62-e0ae7ff1f203"
      },
      "outputs": [
        {
          "name": "stdout",
          "output_type": "stream",
          "text": [
            "\n",
            "Seleccione una opción:\n",
            "\u001b[1;36m1\u001b[0m. Sumar \n",
            "\u001b[1;36m2\u001b[0m. Promediar \n",
            "> 2\n",
            "> Seleccione el primer número: 3\n",
            "> Seleccione el segundo número: 5\n",
            "El promedio de \u001b[1;36m3\u001b[0m y \u001b[1;36m5\u001b[0m es \u001b[1;32m4.0\u001b[0m 🎉\n"
          ]
        }
      ],
      "source": [
        "!python matematicas.py"
      ]
    },
    {
      "cell_type": "code",
      "execution_count": 5,
      "metadata": {
        "colab": {
          "base_uri": "https://localhost:8080/",
          "height": 80
        },
        "id": "X7ZvKvUJjmXR",
        "outputId": "d9e83830-fa61-4754-a9df-abdb5f326960"
      },
      "outputs": [
        {
          "data": {
            "text/html": [
              "<pre style=\"white-space:pre;overflow-x:auto;line-height:normal;font-family:Menlo,'DejaVu Sans Mono',consolas,'Courier New',monospace\">La suma de <span style=\"color: #008080; text-decoration-color: #008080; font-weight: bold\">1</span> y <span style=\"color: #008080; text-decoration-color: #008080; font-weight: bold\">2</span> es <span style=\"color: #008000; text-decoration-color: #008000; font-weight: bold\">3</span> 🎉\n",
              "</pre>\n"
            ],
            "text/plain": [
              "La suma de \u001b[1;36m1\u001b[0m y \u001b[1;36m2\u001b[0m es \u001b[1;32m3\u001b[0m 🎉\n"
            ]
          },
          "metadata": {},
          "output_type": "display_data"
        },
        {
          "data": {
            "text/html": [
              "<pre style=\"white-space:pre;overflow-x:auto;line-height:normal;font-family:Menlo,'DejaVu Sans Mono',consolas,'Courier New',monospace\">El promedio de <span style=\"color: #008080; text-decoration-color: #008080; font-weight: bold\">1.0</span> y <span style=\"color: #008080; text-decoration-color: #008080; font-weight: bold\">2.5</span> es <span style=\"color: #008000; text-decoration-color: #008000; font-weight: bold\">1.5</span> 🎉\n",
              "</pre>\n"
            ],
            "text/plain": [
              "El promedio de \u001b[1;36m1.0\u001b[0m y \u001b[1;36m2.5\u001b[0m es \u001b[1;32m1.5\u001b[0m 🎉\n"
            ]
          },
          "metadata": {},
          "output_type": "display_data"
        },
        {
          "data": {
            "text/plain": [
              "1.5"
            ]
          },
          "execution_count": 5,
          "metadata": {},
          "output_type": "execute_result"
        }
      ],
      "source": [
        "from matematicas import sumar, promediar\n",
        "\n",
        "sumar(1,2)\n",
        "promediar(1.0, 2.5)"
      ]
    },
    {
      "cell_type": "markdown",
      "metadata": {
        "id": "AAYWzqu_a4eT"
      },
      "source": [
        "## Solución"
      ]
    },
    {
      "cell_type": "markdown",
      "metadata": {
        "id": "JHUqoZgT-RpS"
      },
      "source": [
        "### 1. Crear el paquete `pymate` en el proyecto `pymate`"
      ]
    },
    {
      "cell_type": "code",
      "execution_count": null,
      "metadata": {},
      "outputs": [],
      "source": []
    },
    {
      "cell_type": "markdown",
      "metadata": {
        "id": "FqUJqXMO-MN3"
      },
      "source": [
        "### 2. Moverse a la carpeta para crear el archivo `matematicas.py`"
      ]
    },
    {
      "cell_type": "code",
      "execution_count": null,
      "metadata": {},
      "outputs": [],
      "source": []
    },
    {
      "cell_type": "markdown",
      "metadata": {
        "id": "kpJsoMoC-H0g"
      },
      "source": [
        "### 3. agregando dependencias\n",
        "\n",
        "Nota:\n",
        "- Poetry en google Colab no modifica el archivo `pyproject.toml`, el responsable por guardar las dependecias. Esto genera que `poetry add <dependencia>` no funcione correctamente."
      ]
    },
    {
      "cell_type": "code",
      "execution_count": null,
      "metadata": {},
      "outputs": [],
      "source": []
    },
    {
      "cell_type": "markdown",
      "metadata": {
        "id": "WreMKsk9iQoz"
      },
      "source": [
        "### 4. dependencia de desarrollo"
      ]
    },
    {
      "cell_type": "code",
      "execution_count": null,
      "metadata": {},
      "outputs": [],
      "source": []
    },
    {
      "cell_type": "markdown",
      "metadata": {
        "id": "g1XivKT_ARU9"
      },
      "source": [
        "### 5. Agregar el script para llamar a las fuciones del modulo desde la consola"
      ]
    },
    {
      "cell_type": "code",
      "execution_count": null,
      "metadata": {},
      "outputs": [],
      "source": []
    },
    {
      "cell_type": "markdown",
      "metadata": {
        "id": "700tpjJXiexO"
      },
      "source": [
        "### 6. Probarlo desde consola"
      ]
    },
    {
      "cell_type": "code",
      "execution_count": null,
      "metadata": {},
      "outputs": [],
      "source": []
    }
  ],
  "metadata": {
    "colab": {
      "provenance": []
    },
    "kernelspec": {
      "display_name": "Python 3",
      "name": "python3"
    },
    "language_info": {
      "name": "python"
    }
  },
  "nbformat": 4,
  "nbformat_minor": 0
}
