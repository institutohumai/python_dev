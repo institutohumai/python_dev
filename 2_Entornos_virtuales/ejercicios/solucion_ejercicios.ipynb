{
  "cells": [
    {
      "cell_type": "markdown",
      "metadata": {
        "id": "pPgRi3COCtV-"
      },
      "source": [
        "# Ejercicio\n",
        "\n",
        "Para la tarea de esta clase vamos a crear un ambiente virtual, con Conda o Poetry, y vamos a crear un script llamado `my_functions.py` para poder llamar a las funciones `mul`, `obtener_numero` o calcular la hipotenusa de un triangulo rectangulo (todas las funciones están definidas a continuación).\n",
        "Continuando, vamos a activar el ambiente virtual y vamos a ejecutar my_functions.py desde la consola.\n",
        "¡Suerte! :)"
      ]
    },
    {
      "cell_type": "code",
      "execution_count": 1,
      "metadata": {
        "colab": {
          "base_uri": "https://localhost:8080/"
        },
        "id": "DLILgSq7CtV_",
        "outputId": "04a903c6-d053-4563-a572-fc750aded3f7"
      },
      "outputs": [
        {
          "name": "stdout",
          "output_type": "stream",
          "text": [
            "Writing my_functions.py\n"
          ]
        }
      ],
      "source": [
        "%%writefile my_functions.py\n",
        "\n",
        "def mul(num):\n",
        "    return int(num) * 3.5\n",
        "\n",
        "\n",
        "def obtener_numero(numero_romano):\n",
        "    \"\"\"Se solicita un texto con el numero romano y se devuelve su valor\"\"\"\n",
        "    roman = {'I': 1, 'V': 5, 'X': 10, 'L': 50, 'C': 100, 'D': 500, 'M': 1000}\n",
        "    ans = 0\n",
        "\n",
        "    for a, b in zip(numero_romano, numero_romano[1:]):\n",
        "        if roman[a] < roman[b]:\n",
        "            ans -= roman[a]\n",
        "        else:\n",
        "            ans += roman[a]\n",
        "\n",
        "    return ans + roman[numero_romano[-1]]\n",
        "\n",
        "\n",
        "class TrianguloRectangulo:\n",
        "\n",
        "    def __init__(self, base, altura):\n",
        "        self.base = int(base)\n",
        "        self.altura = int(altura)\n",
        "\n",
        "    def obtener_hipotenusa(self):\n",
        "        hipotenusa_2 = self.base ** 2 + self.altura ** 2\n",
        "        # Calcular la raiz\n",
        "        return hipotenusa_2 ** (1/2)\n",
        "\n",
        "\n",
        "def main():\n",
        "    while True:\n",
        "        print(\"\\nSeleccione una opción:\")\n",
        "        print(\"1. Multiplicar\")\n",
        "        print(\"2. Convertir número romano\")\n",
        "        print(\"3. Calcular hipotenusa de un triángulo rectángulo\")\n",
        "        print(\"4. Salir\")\n",
        "        choice = input(\"> \")\n",
        "\n",
        "        if choice == '1':\n",
        "            choice = input(\"> Elija un numero \")\n",
        "            print(f'Resultado: {mul(choice)}')\n",
        "        elif choice == '2':\n",
        "            choice = input(\"> Elija un numero romano \")\n",
        "            print(f'Resultado: {obtener_numero(choice)}')\n",
        "        elif choice == '3':\n",
        "            base = input(\"> Elija una base \")\n",
        "            altura = input(\"> Elija una altura \")\n",
        "            res = TrianguloRectangulo(base, altura).obtener_hipotenusa()\n",
        "            print(f'Resultado: {res}')\n",
        "        elif choice == '4':\n",
        "            break\n",
        "        else:\n",
        "            print(\"Opción no válida. Por favor, intente de nuevo.\")\n",
        "\n",
        "if __name__ == '__main__':\n",
        "    main()"
      ]
    },
    {
      "cell_type": "markdown",
      "metadata": {
        "id": "M5oh3PjaeXPw"
      },
      "source": [
        "## Solución"
      ]
    },
    {
      "cell_type": "code",
      "execution_count": 2,
      "metadata": {
        "colab": {
          "base_uri": "https://localhost:8080/"
        },
        "id": "5TdXSmBlWv1_",
        "outputId": "762a7a9a-c741-41ab-a1f0-82a71f96ae18"
      },
      "outputs": [
        {
          "name": "stdout",
          "output_type": "stream",
          "text": [
            "\u001b[33mWARNING: Running pip as the 'root' user can result in broken permissions and conflicting behaviour with the system package manager. It is recommended to use a virtual environment instead: https://pip.pypa.io/warnings/venv\u001b[0m\u001b[33m\n",
            "\u001b[0m✨🍰✨ Everything looks OK!\n"
          ]
        }
      ],
      "source": [
        "!pip install -q condacolab\n",
        "import condacolab\n",
        "condacolab.install()"
      ]
    },
    {
      "cell_type": "markdown",
      "metadata": {
        "id": "SOsnU8h0XaDU"
      },
      "source": [
        "## Crear el ambiente"
      ]
    },
    {
      "cell_type": "code",
      "execution_count": 3,
      "metadata": {
        "colab": {
          "base_uri": "https://localhost:8080/"
        },
        "id": "sC9IyDzHWavX",
        "outputId": "4e18fd88-8715-4a4c-f3b3-102773b1d0ba"
      },
      "outputs": [
        {
          "name": "stdout",
          "output_type": "stream",
          "text": [
            "Channels:\n",
            " - conda-forge\n",
            "Platform: linux-64\n",
            "Collecting package metadata (repodata.json): - \b\b\\ \b\b| \b\b/ \b\b- \b\b\\ \b\b| \b\bdone\n",
            "Solving environment: - \b\bdone\n",
            "\n",
            "\n",
            "==> WARNING: A newer version of conda exists. <==\n",
            "    current version: 23.11.0\n",
            "    latest version: 24.1.2\n",
            "\n",
            "Please update conda by running\n",
            "\n",
            "    $ conda update -n base -c conda-forge conda\n",
            "\n",
            "\n",
            "\n",
            "## Package Plan ##\n",
            "\n",
            "  environment location: /usr/local/envs/myenv\n",
            "\n",
            "\n",
            "\n",
            "Preparing transaction: | \b\bdone\n",
            "Verifying transaction: - \b\b\\ \b\b| \b\b/ \b\bdone\n",
            "Executing transaction: \\ \b\bdone\n",
            "#\n",
            "# To activate this environment, use\n",
            "#\n",
            "#     $ conda activate myenv\n",
            "#\n",
            "# To deactivate an active environment, use\n",
            "#\n",
            "#     $ conda deactivate\n",
            "\n",
            "\n",
            "CondaError: Run 'conda init' before 'conda activate'\n",
            "\n"
          ]
        }
      ],
      "source": [
        "!conda create --name myenv\n",
        "!conda activate myenv"
      ]
    },
    {
      "cell_type": "code",
      "execution_count": 4,
      "metadata": {
        "colab": {
          "base_uri": "https://localhost:8080/"
        },
        "id": "ejL_yyFJcjCL",
        "outputId": "74dd02f1-9d2a-4e99-fa6c-5cede397050f"
      },
      "outputs": [
        {
          "name": "stdout",
          "output_type": "stream",
          "text": [
            "\n",
            "Seleccione una opción:\n",
            "1. Multiplicar\n",
            "2. Convertir número romano\n",
            "3. Calcular hipotenusa de un triángulo rectángulo\n",
            "4. Salir\n",
            "> 1\n",
            "> Elija un numero 3\n",
            "Result: 10.5\n",
            "\n",
            "Seleccione una opción:\n",
            "1. Multiplicar\n",
            "2. Convertir número romano\n",
            "3. Calcular hipotenusa de un triángulo rectángulo\n",
            "4. Salir\n",
            "> 2\n",
            "> Elija un numero romano C\n",
            "Result: 100\n",
            "\n",
            "Seleccione una opción:\n",
            "1. Multiplicar\n",
            "2. Convertir número romano\n",
            "3. Calcular hipotenusa de un triángulo rectángulo\n",
            "4. Salir\n",
            "> 3\n",
            "> Elija una base 10\n",
            "> Elija una altura 10\n",
            "Result: 14.142135623730951\n",
            "\n",
            "Seleccione una opción:\n",
            "1. Multiplicar\n",
            "2. Convertir número romano\n",
            "3. Calcular hipotenusa de un triángulo rectángulo\n",
            "4. Salir\n",
            "> 4\n"
          ]
        }
      ],
      "source": [
        "!python3 my_functions.py"
      ]
    }
  ],
  "metadata": {
    "colab": {
      "provenance": []
    },
    "kernelspec": {
      "display_name": "Python 3 (ipykernel)",
      "language": "python",
      "name": "python3"
    },
    "language_info": {
      "codemirror_mode": {
        "name": "ipython",
        "version": 3
      },
      "file_extension": ".py",
      "mimetype": "text/x-python",
      "name": "python",
      "nbconvert_exporter": "python",
      "pygments_lexer": "ipython3",
      "version": "3.11.3"
    }
  },
  "nbformat": 4,
  "nbformat_minor": 0
}
