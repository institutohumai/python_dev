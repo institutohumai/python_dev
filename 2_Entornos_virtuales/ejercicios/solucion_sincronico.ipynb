{
  "nbformat": 4,
  "nbformat_minor": 0,
  "metadata": {
    "colab": {
      "provenance": []
    },
    "kernelspec": {
      "name": "python3",
      "display_name": "Python 3"
    },
    "language_info": {
      "name": "python"
    }
  },
  "cells": [
    {
      "cell_type": "code",
      "execution_count": 1,
      "metadata": {
        "id": "RAiweW35dmNC",
        "colab": {
          "base_uri": "https://localhost:8080/"
        },
        "outputId": "0390909f-2d78-4066-fb72-bbda6aa18577"
      },
      "outputs": [
        {
          "output_type": "stream",
          "name": "stdout",
          "text": [
            "\u001b[2K     \u001b[90m━━━━━━━━━━━━━━━━━━━━━━━━━━━━━━━━━━━━━━━━\u001b[0m \u001b[32m249.4/249.4 kB\u001b[0m \u001b[31m2.0 MB/s\u001b[0m eta \u001b[36m0:00:00\u001b[0m\n",
            "\u001b[2K     \u001b[90m━━━━━━━━━━━━━━━━━━━━━━━━━━━━━━━━━━━━━━━━\u001b[0m \u001b[32m78.7/78.7 kB\u001b[0m \u001b[31m7.2 MB/s\u001b[0m eta \u001b[36m0:00:00\u001b[0m\n",
            "\u001b[2K     \u001b[90m━━━━━━━━━━━━━━━━━━━━━━━━━━━━━━━━━━━━━━━━\u001b[0m \u001b[32m514.7/514.7 kB\u001b[0m \u001b[31m8.7 MB/s\u001b[0m eta \u001b[36m0:00:00\u001b[0m\n",
            "\u001b[2K     \u001b[90m━━━━━━━━━━━━━━━━━━━━━━━━━━━━━━━━━━━━━━━━\u001b[0m \u001b[32m453.8/453.8 kB\u001b[0m \u001b[31m15.4 MB/s\u001b[0m eta \u001b[36m0:00:00\u001b[0m\n",
            "\u001b[2K     \u001b[90m━━━━━━━━━━━━━━━━━━━━━━━━━━━━━━━━━━━━━━━━\u001b[0m \u001b[32m309.5/309.5 kB\u001b[0m \u001b[31m10.8 MB/s\u001b[0m eta \u001b[36m0:00:00\u001b[0m\n",
            "\u001b[2K     \u001b[90m━━━━━━━━━━━━━━━━━━━━━━━━━━━━━━━━━━━━━━━━\u001b[0m \u001b[32m54.5/54.5 kB\u001b[0m \u001b[31m2.8 MB/s\u001b[0m eta \u001b[36m0:00:00\u001b[0m\n",
            "\u001b[2K     \u001b[90m━━━━━━━━━━━━━━━━━━━━━━━━━━━━━━━━━━━━━━━━\u001b[0m \u001b[32m3.8/3.8 MB\u001b[0m \u001b[31m27.0 MB/s\u001b[0m eta \u001b[36m0:00:00\u001b[0m\n",
            "\u001b[2K     \u001b[90m━━━━━━━━━━━━━━━━━━━━━━━━━━━━━━━━━━━━━━━━\u001b[0m \u001b[32m3.4/3.4 MB\u001b[0m \u001b[31m44.9 MB/s\u001b[0m eta \u001b[36m0:00:00\u001b[0m\n",
            "\u001b[2K     \u001b[90m━━━━━━━━━━━━━━━━━━━━━━━━━━━━━━━━━━━━━━━━\u001b[0m \u001b[32m468.9/468.9 kB\u001b[0m \u001b[31m28.4 MB/s\u001b[0m eta \u001b[36m0:00:00\u001b[0m\n",
            "\u001b[?25h"
          ]
        }
      ],
      "source": [
        "!pip install poetry --quiet\n",
        "!poetry config virtualenvs.in-project true"
      ]
    },
    {
      "cell_type": "code",
      "source": [
        "!poetry --version"
      ],
      "metadata": {
        "colab": {
          "base_uri": "https://localhost:8080/"
        },
        "id": "uP6ru8TIfgnr",
        "outputId": "3c7d97e4-bf4a-4c70-d329-176779978d92"
      },
      "execution_count": 2,
      "outputs": [
        {
          "output_type": "stream",
          "name": "stdout",
          "text": [
            "\u001b[39;1mPoetry\u001b[39;22m (version \u001b[36m1.8.2\u001b[39m)\n"
          ]
        }
      ]
    },
    {
      "cell_type": "markdown",
      "source": [
        "1. Crear un proyecto llamado `pymate` usando poetry\n",
        "2. Agregar el archivo `matematicas.py` a la carpeta interna de pymate, que tiene el `__init__.py` (hacerlo manualmente o copiando y pegando)\n",
        "\n",
        "3. Usar Poetry para agregar las dos dependencias de matematicas.py (si vas a hacerlo en colab mira las notas al final del notebook)\n",
        "  - `numpy`\n",
        "  - `rich`\n",
        "\n",
        "4. Agregar `mypy` como dependencia de desarrollo con `--group dev`.\n",
        "\n",
        "5. Agregar un comando llamado `pymate` como script de punto de entrada de nuestro paquete en la seccion de `[tool.poetry.scripts]`. Debe apuntar a `pymate.matematicas:main`\n",
        "\n",
        "6. Probar cada suma con `poetry run` o bien activando el entorno con `poetry shell`\n"
      ],
      "metadata": {
        "id": "4SYnSu6rdsyr"
      }
    },
    {
      "cell_type": "markdown",
      "source": [
        "## [Importante] Nota para quienes usen colab\n",
        "- Para poder localizarte en distintos directorios de colab se utiliza `%cd *nombre_directorio*`, usando simplemente `!cd *nombre_directorio*` no te movera realmente.\n",
        "\n",
        "- De acuerdo a la documentación de [poetry](https://python-poetry.org/docs/cli/#add), para instalar un nuevo paquete tenemos que correr `poetry add <paquete>`. Al correr este comando, poetry modifica el archivo `pyproject.toml` de manera automatica. Sin embargo, en colab no funciona. Se debe modificar `pyproject.toml` y agregar las dependencias **manualmente** bajo la sección de `[tool.poetry.dependencies]` y las de desarrollo bajo la seccion de `[tool.poetry.group.dev.dependencies]`.\n"
      ],
      "metadata": {
        "id": "Mn-RaZJqtqjt"
      }
    },
    {
      "cell_type": "code",
      "source": [
        "%%writefile matematicas.py\n",
        "from rich import print\n",
        "import numpy as np\n",
        "\n",
        "def sumar(a, b):\n",
        "    \"\"\"Esta funcion suma dos números e imprime el resultado.\"\"\"\n",
        "    resultado = int(a) + int(b)\n",
        "    print(\n",
        "        f\"La suma de [bold cyan]{a}[/bold cyan] y [bold cyan]{b}[/bold cyan] es [bold green]{resultado}[/bold green] :tada:\"\n",
        "    )\n",
        "\n",
        "def promediar(a, b):\n",
        "    \"\"\"Esta funcion promedia dos números e imprime el resultado.\"\"\"\n",
        "    resultado = np.mean([int(a), int(b)])\n",
        "    print(\n",
        "        f\"El promedio de [bold cyan]{a}[/bold cyan] y [bold cyan]{b}[/bold cyan] es [bold green]{resultado}[/bold green] :tada:\"\n",
        "    )\n",
        "    return resultado\n",
        "\n",
        "def main():\n",
        "    print(\"\\nSeleccione una opción:\")\n",
        "    print(\"1. Sumar \")\n",
        "    print(\"2. Promediar \")\n",
        "    choice = input(\"> \")\n",
        "\n",
        "    first_num = input(\"> Seleccione el primer número: \")\n",
        "    second_num = input(\"> Seleccione el segundo número: \")\n",
        "\n",
        "    if choice == '1':\n",
        "      sumar(first_num, second_num)\n",
        "    elif choice == '2':\n",
        "      promediar(first_num, second_num)\n",
        "\n",
        "if __name__ == \"__main__\":\n",
        "  main()"
      ],
      "metadata": {
        "colab": {
          "base_uri": "https://localhost:8080/"
        },
        "id": "lS4ZXWQ7Q9Sn",
        "outputId": "4fe77547-59a1-4e9c-ac8a-6e730e798e5a"
      },
      "execution_count": 3,
      "outputs": [
        {
          "output_type": "stream",
          "name": "stdout",
          "text": [
            "Writing matematicas.py\n"
          ]
        }
      ]
    },
    {
      "cell_type": "code",
      "source": [
        "!python matematicas.py"
      ],
      "metadata": {
        "colab": {
          "base_uri": "https://localhost:8080/"
        },
        "id": "32qbBbBwjiWB",
        "outputId": "c951ed52-0c0d-472a-dc62-e0ae7ff1f203"
      },
      "execution_count": 4,
      "outputs": [
        {
          "output_type": "stream",
          "name": "stdout",
          "text": [
            "\n",
            "Seleccione una opción:\n",
            "\u001b[1;36m1\u001b[0m. Sumar \n",
            "\u001b[1;36m2\u001b[0m. Promediar \n",
            "> 2\n",
            "> Seleccione el primer número: 3\n",
            "> Seleccione el segundo número: 5\n",
            "El promedio de \u001b[1;36m3\u001b[0m y \u001b[1;36m5\u001b[0m es \u001b[1;32m4.0\u001b[0m 🎉\n"
          ]
        }
      ]
    },
    {
      "cell_type": "code",
      "source": [
        "from matematicas import sumar, promediar\n",
        "\n",
        "sumar(1,2)\n",
        "promediar(1.0, 2.5)"
      ],
      "metadata": {
        "colab": {
          "base_uri": "https://localhost:8080/",
          "height": 80
        },
        "id": "X7ZvKvUJjmXR",
        "outputId": "d9e83830-fa61-4754-a9df-abdb5f326960"
      },
      "execution_count": 5,
      "outputs": [
        {
          "output_type": "display_data",
          "data": {
            "text/plain": [
              "La suma de \u001b[1;36m1\u001b[0m y \u001b[1;36m2\u001b[0m es \u001b[1;32m3\u001b[0m 🎉\n"
            ],
            "text/html": [
              "<pre style=\"white-space:pre;overflow-x:auto;line-height:normal;font-family:Menlo,'DejaVu Sans Mono',consolas,'Courier New',monospace\">La suma de <span style=\"color: #008080; text-decoration-color: #008080; font-weight: bold\">1</span> y <span style=\"color: #008080; text-decoration-color: #008080; font-weight: bold\">2</span> es <span style=\"color: #008000; text-decoration-color: #008000; font-weight: bold\">3</span> 🎉\n",
              "</pre>\n"
            ]
          },
          "metadata": {}
        },
        {
          "output_type": "display_data",
          "data": {
            "text/plain": [
              "El promedio de \u001b[1;36m1.0\u001b[0m y \u001b[1;36m2.5\u001b[0m es \u001b[1;32m1.5\u001b[0m 🎉\n"
            ],
            "text/html": [
              "<pre style=\"white-space:pre;overflow-x:auto;line-height:normal;font-family:Menlo,'DejaVu Sans Mono',consolas,'Courier New',monospace\">El promedio de <span style=\"color: #008080; text-decoration-color: #008080; font-weight: bold\">1.0</span> y <span style=\"color: #008080; text-decoration-color: #008080; font-weight: bold\">2.5</span> es <span style=\"color: #008000; text-decoration-color: #008000; font-weight: bold\">1.5</span> 🎉\n",
              "</pre>\n"
            ]
          },
          "metadata": {}
        },
        {
          "output_type": "execute_result",
          "data": {
            "text/plain": [
              "1.5"
            ]
          },
          "metadata": {},
          "execution_count": 5
        }
      ]
    },
    {
      "cell_type": "markdown",
      "source": [
        "## Solución"
      ],
      "metadata": {
        "id": "AAYWzqu_a4eT"
      }
    },
    {
      "cell_type": "markdown",
      "source": [
        "### 1. Crear el paquete `pymate` en el proyecto `pymate`"
      ],
      "metadata": {
        "id": "JHUqoZgT-RpS"
      }
    },
    {
      "cell_type": "code",
      "source": [
        "!poetry new pymate"
      ],
      "metadata": {
        "id": "q1P8EsjWjy3D",
        "colab": {
          "base_uri": "https://localhost:8080/"
        },
        "outputId": "25326348-9490-42c8-8459-10b29aa04a7c"
      },
      "execution_count": 6,
      "outputs": [
        {
          "output_type": "stream",
          "name": "stdout",
          "text": [
            "Created package \u001b[34mpymate\u001b[39m in \u001b[34mpymate\u001b[39m\n"
          ]
        }
      ]
    },
    {
      "cell_type": "markdown",
      "source": [
        "### 2. Moverse a la carpeta para crear el archivo `matematicas.py`"
      ],
      "metadata": {
        "id": "FqUJqXMO-MN3"
      }
    },
    {
      "cell_type": "code",
      "source": [
        "%pwd"
      ],
      "metadata": {
        "colab": {
          "base_uri": "https://localhost:8080/",
          "height": 36
        },
        "id": "9r0G-ayrn5gQ",
        "outputId": "65dcf884-5edb-465e-c8e0-a5d89c145a84"
      },
      "execution_count": 7,
      "outputs": [
        {
          "output_type": "execute_result",
          "data": {
            "text/plain": [
              "'/content'"
            ],
            "application/vnd.google.colaboratory.intrinsic+json": {
              "type": "string"
            }
          },
          "metadata": {},
          "execution_count": 7
        }
      ]
    },
    {
      "cell_type": "code",
      "source": [
        "%cd /content/pymate/"
      ],
      "metadata": {
        "colab": {
          "base_uri": "https://localhost:8080/"
        },
        "id": "kiTeFKz_miJw",
        "outputId": "fcaeb95b-3b3a-4d7c-8af6-e387f54ba81f"
      },
      "execution_count": 8,
      "outputs": [
        {
          "output_type": "stream",
          "name": "stdout",
          "text": [
            "/content/pymate\n"
          ]
        }
      ]
    },
    {
      "cell_type": "code",
      "source": [
        "%pwd"
      ],
      "metadata": {
        "colab": {
          "base_uri": "https://localhost:8080/",
          "height": 36
        },
        "id": "CNDtJElv597S",
        "outputId": "e521b1d7-b4be-4574-ff29-f9a9a8713138"
      },
      "execution_count": 9,
      "outputs": [
        {
          "output_type": "execute_result",
          "data": {
            "text/plain": [
              "'/content/pymate'"
            ],
            "application/vnd.google.colaboratory.intrinsic+json": {
              "type": "string"
            }
          },
          "metadata": {},
          "execution_count": 9
        }
      ]
    },
    {
      "cell_type": "code",
      "source": [
        "%%writefile pymate/matematicas.py\n",
        "from rich import print\n",
        "import numpy as np\n",
        "\n",
        "def sumar(a, b):\n",
        "    \"\"\"Esta funcion suma dos números e imprime el resultado.\"\"\"\n",
        "    resultado = int(a) + int(b)\n",
        "    print(\n",
        "        f\"La suma de [bold cyan]{a}[/bold cyan] y [bold cyan]{b}[/bold cyan] es [bold green]{resultado}[/bold green] :tada:\"\n",
        "    )\n",
        "\n",
        "def promediar(a, b):\n",
        "    \"\"\"Esta funcion promedia dos números e imprime el resultado.\"\"\"\n",
        "    resultado = np.mean([int(a), int(b)])\n",
        "    print(\n",
        "        f\"El promedio de [bold cyan]{a}[/bold cyan] y [bold cyan]{b}[/bold cyan] es [bold green]{resultado}[/bold green] :tada:\"\n",
        "    )\n",
        "    return resultado\n",
        "\n",
        "def main():\n",
        "    print(\"\\nSeleccione una opción:\")\n",
        "    print(\"1. Sumar \")\n",
        "    print(\"2. Promediar \")\n",
        "    choice = input(\"> \")\n",
        "\n",
        "    first_num = input(\"> Seleccione el primer número: \")\n",
        "    second_num = input(\"> Seleccione el segundo número: \")\n",
        "\n",
        "    if choice == '1':\n",
        "      sumar(first_num, second_num)\n",
        "    elif choice == '2':\n",
        "      promediar(first_num, second_num)\n",
        "\n",
        "if __name__ == \"__main__\":\n",
        "  main()"
      ],
      "metadata": {
        "colab": {
          "base_uri": "https://localhost:8080/"
        },
        "id": "wzmK3Kpga_ia",
        "outputId": "8b8f7de1-a3e5-4583-9659-62bafe600fad"
      },
      "execution_count": 10,
      "outputs": [
        {
          "output_type": "stream",
          "name": "stdout",
          "text": [
            "Writing pymate/matematicas.py\n"
          ]
        }
      ]
    },
    {
      "cell_type": "markdown",
      "source": [
        "### 3. agregando dependencias\n",
        "\n",
        "Nota:\n",
        "- Poetry en google Colab no modifica el archivo `pyproject.toml`, el responsable por guardar las dependecias. Esto genera que `poetry add <dependencia>` no funcione correctamente."
      ],
      "metadata": {
        "id": "kpJsoMoC-H0g"
      }
    },
    {
      "cell_type": "code",
      "source": [
        "%pwd"
      ],
      "metadata": {
        "colab": {
          "base_uri": "https://localhost:8080/",
          "height": 36
        },
        "id": "jkZWg7DX-F9l",
        "outputId": "d014b715-b916-4edc-c600-ee87372b0206"
      },
      "execution_count": 11,
      "outputs": [
        {
          "output_type": "execute_result",
          "data": {
            "text/plain": [
              "'/content/pymate'"
            ],
            "application/vnd.google.colaboratory.intrinsic+json": {
              "type": "string"
            }
          },
          "metadata": {},
          "execution_count": 11
        }
      ]
    },
    {
      "cell_type": "code",
      "source": [
        "!poetry add rich numpy"
      ],
      "metadata": {
        "colab": {
          "base_uri": "https://localhost:8080/"
        },
        "id": "8-g_GHwLmaXq",
        "outputId": "c356738b-adea-4272-ed5f-01b61d3ddcb4"
      },
      "execution_count": 12,
      "outputs": [
        {
          "output_type": "stream",
          "name": "stdout",
          "text": [
            "Creating virtualenv \u001b[36mpymate\u001b[39m in /content/pymate/.venv\n",
            "Using version \u001b[39;1m^13.7.1\u001b[39;22m for \u001b[36mrich\u001b[39m\n",
            "Using version \u001b[39;1m^1.26.4\u001b[39;22m for \u001b[36mnumpy\u001b[39m\n",
            "\n",
            "\u001b[34mUpdating dependencies\u001b[39m\n",
            "\u001b[2K\u001b[34mResolving dependencies...\u001b[39m \u001b[39;2m(0.5s)\u001b[39;22m\n",
            "\n",
            "\u001b[39;1mPackage operations\u001b[39;22m: \u001b[34m5\u001b[39m installs, \u001b[34m0\u001b[39m updates, \u001b[34m0\u001b[39m removals\n",
            "\n",
            "  \u001b[34;1m-\u001b[39;22m \u001b[39mInstalling \u001b[39m\u001b[36mmdurl\u001b[39m\u001b[39m (\u001b[39m\u001b[39;1m0.1.2\u001b[39;22m\u001b[39m)\u001b[39m: \u001b[34mPending...\u001b[39m\n",
            "\u001b[1A\u001b[0J  \u001b[34;1m-\u001b[39;22m \u001b[39mInstalling \u001b[39m\u001b[36mmdurl\u001b[39m\u001b[39m (\u001b[39m\u001b[39;1m0.1.2\u001b[39;22m\u001b[39m)\u001b[39m: \u001b[34mDownloading...\u001b[39m \u001b[39;1m0%\u001b[39;22m\n",
            "\u001b[1A\u001b[0J  \u001b[34;1m-\u001b[39;22m \u001b[39mInstalling \u001b[39m\u001b[36mmdurl\u001b[39m\u001b[39m (\u001b[39m\u001b[39;1m0.1.2\u001b[39;22m\u001b[39m)\u001b[39m: \u001b[34mDownloading...\u001b[39m \u001b[39;1m100%\u001b[39;22m\n",
            "\u001b[1A\u001b[0J  \u001b[34;1m-\u001b[39;22m \u001b[39mInstalling \u001b[39m\u001b[36mmdurl\u001b[39m\u001b[39m (\u001b[39m\u001b[39;1m0.1.2\u001b[39;22m\u001b[39m)\u001b[39m: \u001b[34mInstalling...\u001b[39m\n",
            "\u001b[1A\u001b[0J  \u001b[32;1m-\u001b[39;22m \u001b[39mInstalling \u001b[39m\u001b[36mmdurl\u001b[39m\u001b[39m (\u001b[39m\u001b[32m0.1.2\u001b[39m\u001b[39m)\u001b[39m\n",
            "  \u001b[34;1m-\u001b[39;22m \u001b[39mInstalling \u001b[39m\u001b[36mmarkdown-it-py\u001b[39m\u001b[39m (\u001b[39m\u001b[39;1m3.0.0\u001b[39;22m\u001b[39m)\u001b[39m: \u001b[34mPending...\u001b[39m\n",
            "  \u001b[34;1m-\u001b[39;22m \u001b[39mInstalling \u001b[39m\u001b[36mpygments\u001b[39m\u001b[39m (\u001b[39m\u001b[39;1m2.17.2\u001b[39;22m\u001b[39m)\u001b[39m: \u001b[34mPending...\u001b[39m\n",
            "\u001b[2A\u001b[0J  \u001b[34;1m-\u001b[39;22m \u001b[39mInstalling \u001b[39m\u001b[36mpygments\u001b[39m\u001b[39m (\u001b[39m\u001b[39;1m2.17.2\u001b[39;22m\u001b[39m)\u001b[39m: \u001b[34mPending...\u001b[39m\n",
            "\u001b[1A\u001b[0J  \u001b[34;1m-\u001b[39;22m \u001b[39mInstalling \u001b[39m\u001b[36mmarkdown-it-py\u001b[39m\u001b[39m (\u001b[39m\u001b[39;1m3.0.0\u001b[39;22m\u001b[39m)\u001b[39m: \u001b[34mDownloading...\u001b[39m \u001b[39;1m0%\u001b[39;22m\n",
            "  \u001b[34;1m-\u001b[39;22m \u001b[39mInstalling \u001b[39m\u001b[36mpygments\u001b[39m\u001b[39m (\u001b[39m\u001b[39;1m2.17.2\u001b[39;22m\u001b[39m)\u001b[39m: \u001b[34mPending...\u001b[39m\n",
            "\u001b[2A\u001b[0J  \u001b[34;1m-\u001b[39;22m \u001b[39mInstalling \u001b[39m\u001b[36mpygments\u001b[39m\u001b[39m (\u001b[39m\u001b[39;1m2.17.2\u001b[39;22m\u001b[39m)\u001b[39m: \u001b[34mPending...\u001b[39m\n",
            "\u001b[1A\u001b[0J  \u001b[34;1m-\u001b[39;22m \u001b[39mInstalling \u001b[39m\u001b[36mmarkdown-it-py\u001b[39m\u001b[39m (\u001b[39m\u001b[39;1m3.0.0\u001b[39;22m\u001b[39m)\u001b[39m: \u001b[34mDownloading...\u001b[39m \u001b[39;1m100%\u001b[39;22m\n",
            "  \u001b[34;1m-\u001b[39;22m \u001b[39mInstalling \u001b[39m\u001b[36mpygments\u001b[39m\u001b[39m (\u001b[39m\u001b[39;1m2.17.2\u001b[39;22m\u001b[39m)\u001b[39m: \u001b[34mPending...\u001b[39m\n",
            "\u001b[2A\u001b[0J  \u001b[34;1m-\u001b[39;22m \u001b[39mInstalling \u001b[39m\u001b[36mpygments\u001b[39m\u001b[39m (\u001b[39m\u001b[39;1m2.17.2\u001b[39;22m\u001b[39m)\u001b[39m: \u001b[34mPending...\u001b[39m\n",
            "\u001b[1A\u001b[0J  \u001b[34;1m-\u001b[39;22m \u001b[39mInstalling \u001b[39m\u001b[36mmarkdown-it-py\u001b[39m\u001b[39m (\u001b[39m\u001b[39;1m3.0.0\u001b[39;22m\u001b[39m)\u001b[39m: \u001b[34mInstalling...\u001b[39m\n",
            "  \u001b[34;1m-\u001b[39;22m \u001b[39mInstalling \u001b[39m\u001b[36mpygments\u001b[39m\u001b[39m (\u001b[39m\u001b[39;1m2.17.2\u001b[39;22m\u001b[39m)\u001b[39m: \u001b[34mPending...\u001b[39m\n",
            "\u001b[2A\u001b[0J  \u001b[34;1m-\u001b[39;22m \u001b[39mInstalling \u001b[39m\u001b[36mpygments\u001b[39m\u001b[39m (\u001b[39m\u001b[39;1m2.17.2\u001b[39;22m\u001b[39m)\u001b[39m: \u001b[34mPending...\u001b[39m\n",
            "\u001b[1A\u001b[0J  \u001b[32;1m-\u001b[39;22m \u001b[39mInstalling \u001b[39m\u001b[36mmarkdown-it-py\u001b[39m\u001b[39m (\u001b[39m\u001b[32m3.0.0\u001b[39m\u001b[39m)\u001b[39m\n",
            "  \u001b[34;1m-\u001b[39;22m \u001b[39mInstalling \u001b[39m\u001b[36mpygments\u001b[39m\u001b[39m (\u001b[39m\u001b[39;1m2.17.2\u001b[39;22m\u001b[39m)\u001b[39m: \u001b[34mPending...\u001b[39m\n",
            "\u001b[1A\u001b[0J  \u001b[34;1m-\u001b[39;22m \u001b[39mInstalling \u001b[39m\u001b[36mpygments\u001b[39m\u001b[39m (\u001b[39m\u001b[39;1m2.17.2\u001b[39;22m\u001b[39m)\u001b[39m: \u001b[34mDownloading...\u001b[39m \u001b[39;1m0%\u001b[39;22m\n",
            "\u001b[1A\u001b[0J  \u001b[34;1m-\u001b[39;22m \u001b[39mInstalling \u001b[39m\u001b[36mpygments\u001b[39m\u001b[39m (\u001b[39m\u001b[39;1m2.17.2\u001b[39;22m\u001b[39m)\u001b[39m: \u001b[34mDownloading...\u001b[39m \u001b[39;1m10%\u001b[39;22m\n",
            "\u001b[1A\u001b[0J  \u001b[34;1m-\u001b[39;22m \u001b[39mInstalling \u001b[39m\u001b[36mpygments\u001b[39m\u001b[39m (\u001b[39m\u001b[39;1m2.17.2\u001b[39;22m\u001b[39m)\u001b[39m: \u001b[34mDownloading...\u001b[39m \u001b[39;1m90%\u001b[39;22m\n",
            "\u001b[1A\u001b[0J  \u001b[34;1m-\u001b[39;22m \u001b[39mInstalling \u001b[39m\u001b[36mpygments\u001b[39m\u001b[39m (\u001b[39m\u001b[39;1m2.17.2\u001b[39;22m\u001b[39m)\u001b[39m: \u001b[34mDownloading...\u001b[39m \u001b[39;1m100%\u001b[39;22m\n",
            "\u001b[1A\u001b[0J  \u001b[34;1m-\u001b[39;22m \u001b[39mInstalling \u001b[39m\u001b[36mpygments\u001b[39m\u001b[39m (\u001b[39m\u001b[39;1m2.17.2\u001b[39;22m\u001b[39m)\u001b[39m: \u001b[34mInstalling...\u001b[39m\n",
            "\u001b[1A\u001b[0J  \u001b[32;1m-\u001b[39;22m \u001b[39mInstalling \u001b[39m\u001b[36mpygments\u001b[39m\u001b[39m (\u001b[39m\u001b[32m2.17.2\u001b[39m\u001b[39m)\u001b[39m\n",
            "  \u001b[34;1m-\u001b[39;22m \u001b[39mInstalling \u001b[39m\u001b[36mnumpy\u001b[39m\u001b[39m (\u001b[39m\u001b[39;1m1.26.4\u001b[39;22m\u001b[39m)\u001b[39m: \u001b[34mPending...\u001b[39m\n",
            "  \u001b[34;1m-\u001b[39;22m \u001b[39mInstalling \u001b[39m\u001b[36mrich\u001b[39m\u001b[39m (\u001b[39m\u001b[39;1m13.7.1\u001b[39;22m\u001b[39m)\u001b[39m: \u001b[34mPending...\u001b[39m\n",
            "\u001b[2A\u001b[0J  \u001b[34;1m-\u001b[39;22m \u001b[39mInstalling \u001b[39m\u001b[36mrich\u001b[39m\u001b[39m (\u001b[39m\u001b[39;1m13.7.1\u001b[39;22m\u001b[39m)\u001b[39m: \u001b[34mPending...\u001b[39m\n",
            "\u001b[1A\u001b[0J  \u001b[34;1m-\u001b[39;22m \u001b[39mInstalling \u001b[39m\u001b[36mnumpy\u001b[39m\u001b[39m (\u001b[39m\u001b[39;1m1.26.4\u001b[39;22m\u001b[39m)\u001b[39m: \u001b[34mDownloading...\u001b[39m \u001b[39;1m0%\u001b[39;22m\n",
            "  \u001b[34;1m-\u001b[39;22m \u001b[39mInstalling \u001b[39m\u001b[36mrich\u001b[39m\u001b[39m (\u001b[39m\u001b[39;1m13.7.1\u001b[39;22m\u001b[39m)\u001b[39m: \u001b[34mPending...\u001b[39m\n",
            "\u001b[1A\u001b[0J  \u001b[34;1m-\u001b[39;22m \u001b[39mInstalling \u001b[39m\u001b[36mrich\u001b[39m\u001b[39m (\u001b[39m\u001b[39;1m13.7.1\u001b[39;22m\u001b[39m)\u001b[39m: \u001b[34mDownloading...\u001b[39m \u001b[39;1m0%\u001b[39;22m\n",
            "\u001b[1A\u001b[0J  \u001b[34;1m-\u001b[39;22m \u001b[39mInstalling \u001b[39m\u001b[36mrich\u001b[39m\u001b[39m (\u001b[39m\u001b[39;1m13.7.1\u001b[39;22m\u001b[39m)\u001b[39m: \u001b[34mDownloading...\u001b[39m \u001b[39;1m100%\u001b[39;22m\n",
            "\u001b[1A\u001b[0J  \u001b[34;1m-\u001b[39;22m \u001b[39mInstalling \u001b[39m\u001b[36mrich\u001b[39m\u001b[39m (\u001b[39m\u001b[39;1m13.7.1\u001b[39;22m\u001b[39m)\u001b[39m: \u001b[34mInstalling...\u001b[39m\n",
            "\u001b[1A\u001b[0J  \u001b[32;1m-\u001b[39;22m \u001b[39mInstalling \u001b[39m\u001b[36mrich\u001b[39m\u001b[39m (\u001b[39m\u001b[32m13.7.1\u001b[39m\u001b[39m)\u001b[39m\n",
            "\u001b[2A\u001b[0J  \u001b[32;1m-\u001b[39;22m \u001b[39mInstalling \u001b[39m\u001b[36mrich\u001b[39m\u001b[39m (\u001b[39m\u001b[32m13.7.1\u001b[39m\u001b[39m)\u001b[39m\n",
            "\u001b[1A\u001b[0J  \u001b[34;1m-\u001b[39;22m \u001b[39mInstalling \u001b[39m\u001b[36mnumpy\u001b[39m\u001b[39m (\u001b[39m\u001b[39;1m1.26.4\u001b[39;22m\u001b[39m)\u001b[39m: \u001b[34mDownloading...\u001b[39m \u001b[39;1m10%\u001b[39;22m\n",
            "  \u001b[32;1m-\u001b[39;22m \u001b[39mInstalling \u001b[39m\u001b[36mrich\u001b[39m\u001b[39m (\u001b[39m\u001b[32m13.7.1\u001b[39m\u001b[39m)\u001b[39m\n",
            "\u001b[2A\u001b[0J  \u001b[32;1m-\u001b[39;22m \u001b[39mInstalling \u001b[39m\u001b[36mrich\u001b[39m\u001b[39m (\u001b[39m\u001b[32m13.7.1\u001b[39m\u001b[39m)\u001b[39m\n",
            "\u001b[1A\u001b[0J  \u001b[34;1m-\u001b[39;22m \u001b[39mInstalling \u001b[39m\u001b[36mnumpy\u001b[39m\u001b[39m (\u001b[39m\u001b[39;1m1.26.4\u001b[39;22m\u001b[39m)\u001b[39m: \u001b[34mDownloading...\u001b[39m \u001b[39;1m50%\u001b[39;22m\n",
            "  \u001b[32;1m-\u001b[39;22m \u001b[39mInstalling \u001b[39m\u001b[36mrich\u001b[39m\u001b[39m (\u001b[39m\u001b[32m13.7.1\u001b[39m\u001b[39m)\u001b[39m\n",
            "\u001b[2A\u001b[0J  \u001b[32;1m-\u001b[39;22m \u001b[39mInstalling \u001b[39m\u001b[36mrich\u001b[39m\u001b[39m (\u001b[39m\u001b[32m13.7.1\u001b[39m\u001b[39m)\u001b[39m\n",
            "\u001b[1A\u001b[0J  \u001b[34;1m-\u001b[39;22m \u001b[39mInstalling \u001b[39m\u001b[36mnumpy\u001b[39m\u001b[39m (\u001b[39m\u001b[39;1m1.26.4\u001b[39;22m\u001b[39m)\u001b[39m: \u001b[34mDownloading...\u001b[39m \u001b[39;1m100%\u001b[39;22m\n",
            "  \u001b[32;1m-\u001b[39;22m \u001b[39mInstalling \u001b[39m\u001b[36mrich\u001b[39m\u001b[39m (\u001b[39m\u001b[32m13.7.1\u001b[39m\u001b[39m)\u001b[39m\n",
            "\u001b[2A\u001b[0J  \u001b[32;1m-\u001b[39;22m \u001b[39mInstalling \u001b[39m\u001b[36mrich\u001b[39m\u001b[39m (\u001b[39m\u001b[32m13.7.1\u001b[39m\u001b[39m)\u001b[39m\n",
            "\u001b[1A\u001b[0J  \u001b[34;1m-\u001b[39;22m \u001b[39mInstalling \u001b[39m\u001b[36mnumpy\u001b[39m\u001b[39m (\u001b[39m\u001b[39;1m1.26.4\u001b[39;22m\u001b[39m)\u001b[39m: \u001b[34mInstalling...\u001b[39m\n",
            "  \u001b[32;1m-\u001b[39;22m \u001b[39mInstalling \u001b[39m\u001b[36mrich\u001b[39m\u001b[39m (\u001b[39m\u001b[32m13.7.1\u001b[39m\u001b[39m)\u001b[39m\n",
            "\u001b[2A\u001b[0J  \u001b[32;1m-\u001b[39;22m \u001b[39mInstalling \u001b[39m\u001b[36mrich\u001b[39m\u001b[39m (\u001b[39m\u001b[32m13.7.1\u001b[39m\u001b[39m)\u001b[39m\n",
            "\u001b[1A\u001b[0J  \u001b[32;1m-\u001b[39;22m \u001b[39mInstalling \u001b[39m\u001b[36mnumpy\u001b[39m\u001b[39m (\u001b[39m\u001b[32m1.26.4\u001b[39m\u001b[39m)\u001b[39m\n",
            "  \u001b[32;1m-\u001b[39;22m \u001b[39mInstalling \u001b[39m\u001b[36mrich\u001b[39m\u001b[39m (\u001b[39m\u001b[32m13.7.1\u001b[39m\u001b[39m)\u001b[39m\n",
            "\n",
            "\u001b[34mWriting lock file\u001b[39m\n"
          ]
        }
      ]
    },
    {
      "cell_type": "code",
      "source": [
        "%%writefile pyproject.toml\n",
        "[tool.poetry]\n",
        "name = \"pymate\"\n",
        "version = \"0.1.0\"\n",
        "description = \"\"\n",
        "authors = [\"Your Name <you@example.com>\"]\n",
        "readme = \"README.md\"\n",
        "\n",
        "[tool.poetry.dependencies]\n",
        "python = \"^3.10\"\n",
        "rich = \"^13.6.0\"\n",
        "numpy = \"^1.25.2\"\n",
        "\n",
        "[tool.poetry.group.dev.dependencies]\n",
        "mypy = \"^1.5.1\"\n",
        "\n",
        "\n",
        "[build-system]\n",
        "requires = [\"poetry-core\"]\n",
        "build-backend = \"poetry.core.masonry.api\""
      ],
      "metadata": {
        "colab": {
          "base_uri": "https://localhost:8080/"
        },
        "id": "cnLvdo38uSWL",
        "outputId": "d5bcd712-f8a6-4275-e297-5f5904a9a661"
      },
      "execution_count": 13,
      "outputs": [
        {
          "output_type": "stream",
          "name": "stdout",
          "text": [
            "Overwriting pyproject.toml\n"
          ]
        }
      ]
    },
    {
      "cell_type": "code",
      "source": [
        "!poetry lock\n",
        "!poetry install --no-ansi"
      ],
      "metadata": {
        "colab": {
          "base_uri": "https://localhost:8080/"
        },
        "id": "HUmE3fcvptF9",
        "outputId": "55b773df-f480-46e4-c978-611dd581e2f1"
      },
      "execution_count": 14,
      "outputs": [
        {
          "output_type": "stream",
          "name": "stdout",
          "text": [
            "\u001b[34mUpdating dependencies\u001b[39m\n",
            "\u001b[2K\u001b[34mResolving dependencies...\u001b[39m \u001b[39;2m(2.0s)\u001b[39;22m\n",
            "\n",
            "\u001b[34mWriting lock file\u001b[39m\n",
            "Installing dependencies from lock file\n",
            "\n",
            "Package operations: 4 installs, 0 updates, 0 removals\n",
            "\n",
            "  - Installing mypy-extensions (1.0.0)\n",
            "  - Installing tomli (2.0.1)\n",
            "  - Installing typing-extensions (4.10.0)\n",
            "  - Installing mypy (1.8.0)\n",
            "\n",
            "Installing the current project: pymate (0.1.0)\n"
          ]
        }
      ]
    },
    {
      "cell_type": "code",
      "source": [
        "!poetry show"
      ],
      "metadata": {
        "colab": {
          "base_uri": "https://localhost:8080/"
        },
        "id": "vT4k9YAI4A92",
        "outputId": "fdab6d5b-7842-4aac-f555-9219d01a98ba"
      },
      "execution_count": 15,
      "outputs": [
        {
          "output_type": "stream",
          "name": "stdout",
          "text": [
            "\u001b[36mmarkdown-it-py   \u001b[39m \u001b[39;1m3.0.0 \u001b[39;22m Python port of markdown-it. Markdown parsing, done right!\n",
            "\u001b[36mmdurl            \u001b[39m \u001b[39;1m0.1.2 \u001b[39;22m Markdown URL utilities\n",
            "\u001b[36mmypy             \u001b[39m \u001b[39;1m1.8.0 \u001b[39;22m Optional static typing for Python\n",
            "\u001b[36mmypy-extensions  \u001b[39m \u001b[39;1m1.0.0 \u001b[39;22m Type system extensions for programs checked with the mypy type checker.\n",
            "\u001b[36mnumpy            \u001b[39m \u001b[39;1m1.26.4\u001b[39;22m Fundamental package for array computing in Python\n",
            "\u001b[36mpygments         \u001b[39m \u001b[39;1m2.17.2\u001b[39;22m Pygments is a syntax highlighting package written in Python.\n",
            "\u001b[36mrich             \u001b[39m \u001b[39;1m13.7.1\u001b[39;22m Render rich text, tables, progress bars, syntax highlighting, markdown...\n",
            "\u001b[36mtomli            \u001b[39m \u001b[39;1m2.0.1 \u001b[39;22m A lil' TOML parser\n",
            "\u001b[36mtyping-extensions\u001b[39m \u001b[39;1m4.10.0\u001b[39;22m Backported and Experimental Type Hints for Python 3.8+\n"
          ]
        }
      ]
    },
    {
      "cell_type": "markdown",
      "source": [
        "### 4. dependencia de desarrollo"
      ],
      "metadata": {
        "id": "WreMKsk9iQoz"
      }
    },
    {
      "cell_type": "code",
      "source": [
        "!poetry add mypy --group dev"
      ],
      "metadata": {
        "colab": {
          "base_uri": "https://localhost:8080/"
        },
        "id": "4oyQEY5UiSRj",
        "outputId": "2d57d417-a340-4489-958f-69deeb5482b7"
      },
      "execution_count": 16,
      "outputs": [
        {
          "output_type": "stream",
          "name": "stdout",
          "text": [
            "The following packages are already present in the pyproject.toml and will be skipped:\n",
            "\n",
            "  - \u001b[36mmypy\u001b[39m\n",
            "\n",
            "If you want to update it to the latest compatible version, you can use `poetry update package`.\n",
            "If you prefer to upgrade it to the latest available version, you can use `poetry add package@latest`.\n",
            "\n",
            "Nothing to add.\n"
          ]
        }
      ]
    },
    {
      "cell_type": "markdown",
      "source": [
        "### 5. Agregar el script para llamar a las fuciones del modulo desde la consola"
      ],
      "metadata": {
        "id": "g1XivKT_ARU9"
      }
    },
    {
      "cell_type": "code",
      "source": [
        "%%writefile pyproject.toml\n",
        "[tool.poetry]\n",
        "name = \"pymate\"\n",
        "version = \"0.1.0\"\n",
        "description = \"\"\n",
        "authors = [\"Your Name <you@example.com>\"]\n",
        "readme = \"README.md\"\n",
        "\n",
        "[tool.poetry.dependencies]\n",
        "python = \"^3.10\"\n",
        "rich = \"^13.6.0\"\n",
        "numpy = \"^1.25.2\"\n",
        "\n",
        "[tool.poetry.scripts]\n",
        "pymate = \"pymate.matematicas:main\"\n",
        "\n",
        "[build-system]\n",
        "requires = [\"poetry-core\"]\n",
        "build-backend = \"poetry.core.masonry.api\""
      ],
      "metadata": {
        "id": "cG0AqhbZ64eK",
        "colab": {
          "base_uri": "https://localhost:8080/"
        },
        "outputId": "ff971dcc-8a32-4be2-d12c-b97779dd5e01"
      },
      "execution_count": 17,
      "outputs": [
        {
          "output_type": "stream",
          "name": "stdout",
          "text": [
            "Overwriting pyproject.toml\n"
          ]
        }
      ]
    },
    {
      "cell_type": "code",
      "source": [
        "!poetry install"
      ],
      "metadata": {
        "colab": {
          "base_uri": "https://localhost:8080/"
        },
        "id": "zrKvdlrF7Otz",
        "outputId": "7cfcab1d-cc98-49b6-ae13-a4242ef46b4f"
      },
      "execution_count": 18,
      "outputs": [
        {
          "output_type": "stream",
          "name": "stdout",
          "text": [
            "\u001b[34mInstalling dependencies from lock file\u001b[39m\n",
            "\n",
            "\u001b[31;1mpyproject.toml changed significantly since poetry.lock was last generated. Run `poetry lock [--no-update]` to fix the lock file.\u001b[39;22m\n"
          ]
        }
      ]
    },
    {
      "cell_type": "markdown",
      "source": [
        "### 6. Probarlo desde consola"
      ],
      "metadata": {
        "id": "700tpjJXiexO"
      }
    },
    {
      "cell_type": "code",
      "source": [
        "# Usamos la funcion de enteros\n",
        "!poetry run pymate"
      ],
      "metadata": {
        "id": "gU9Y4OyAjshS",
        "colab": {
          "base_uri": "https://localhost:8080/"
        },
        "outputId": "4ec2fab9-090a-4463-e163-f40a98175e01"
      },
      "execution_count": 19,
      "outputs": [
        {
          "output_type": "stream",
          "name": "stdout",
          "text": [
            "\u001b[33mWarning: 'pymate' is an entry point defined in pyproject.toml, but it's not installed as a script. You may get improper `sys.argv[0]`.\n",
            "\n",
            "The support to run uninstalled scripts will be removed in a future release.\n",
            "\n",
            "Run `poetry install` to resolve and get rid of this message.\n",
            "\u001b[39m\n",
            "\n",
            "Seleccione una opción:\n",
            "\u001b[1;36m1\u001b[0m. Sumar \n",
            "\u001b[1;36m2\u001b[0m. Promediar \n",
            "> 1\n",
            "> Seleccione el primer número: 22\n",
            "> Seleccione el segundo número: 33\n",
            "La suma de \u001b[1;36m22\u001b[0m y \u001b[1;36m33\u001b[0m es \u001b[1;32m55\u001b[0m 🎉\n"
          ]
        }
      ]
    },
    {
      "cell_type": "code",
      "source": [
        "%pwd"
      ],
      "metadata": {
        "colab": {
          "base_uri": "https://localhost:8080/",
          "height": 36
        },
        "id": "XxLkOuMq8Px5",
        "outputId": "d85b4e3d-d741-4a51-ca91-1790eb6da6c9"
      },
      "execution_count": 20,
      "outputs": [
        {
          "output_type": "execute_result",
          "data": {
            "text/plain": [
              "'/content/pymate'"
            ],
            "application/vnd.google.colaboratory.intrinsic+json": {
              "type": "string"
            }
          },
          "metadata": {},
          "execution_count": 20
        }
      ]
    },
    {
      "cell_type": "code",
      "source": [
        "!poetry run mypy pymate/matematicas.py"
      ],
      "metadata": {
        "colab": {
          "base_uri": "https://localhost:8080/"
        },
        "id": "eAQH74q_7cwa",
        "outputId": "7d366f85-9ef8-4257-ce8a-4c9eaaecb511"
      },
      "execution_count": 21,
      "outputs": [
        {
          "output_type": "stream",
          "name": "stdout",
          "text": [
            "\u001b[1m\u001b[32mSuccess: no issues found in 1 source file\u001b[m\n"
          ]
        }
      ]
    }
  ]
}