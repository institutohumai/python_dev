{
  "cells": [
    {
      "cell_type": "markdown",
      "metadata": {
        "id": "pPgRi3COCtV-"
      },
      "source": [
        "# Ejercicio\n",
        "\n",
        "Para la tarea de esta clase vamos a crear un ambiente virtual, con Conda o Poetry, y vamos a crear un script llamado `my_functions.py` para poder llamar a las funciones `mul`, `obtener_numero` o calcular la hipotenusa de un triangulo rectangulo (todas las funciones están definidas a continuación).\n",
        "Continuando, vamos a activar el ambiente virtual y vamos a ejecutar my_functions.py desde la consola.\n",
        "¡Suerte! :)"
      ]
    },
    {
      "cell_type": "code",
      "execution_count": null,
      "metadata": {
        "vscode": {
          "languageId": "plaintext"
        },
        "id": "DLILgSq7CtV_"
      },
      "outputs": [],
      "source": [
        "def mul(num):\n",
        "    return int(num) * 3.5\n",
        "\n",
        "\n",
        "def obtener_numero(numero_romano):\n",
        "    \"\"\"Se solicita un texto con el numero romano y se devuelve su valor\"\"\"\n",
        "    roman = {'I': 1, 'V': 5, 'X': 10, 'L': 50, 'C': 100, 'D': 500, 'M': 1000}\n",
        "    ans = 0\n",
        "\n",
        "    for a, b in zip(numero_romano, numero_romano[1:]):\n",
        "        if roman[a] < roman[b]:\n",
        "            ans -= roman[a]\n",
        "        else:\n",
        "            ans += roman[a]\n",
        "\n",
        "    return ans + roman[numero_romano[-1]]\n",
        "\n",
        "\n",
        "class TrianguloRectangulo:\n",
        "\n",
        "    def __init__(self, base, altura):\n",
        "        self.base = int(base)\n",
        "        self.altura = int(altura)\n",
        "\n",
        "    def obtener_hipotenusa(self):\n",
        "        hipotenusa_2 = self.base ** 2 + self.altura ** 2\n",
        "        # Calcular la raiz\n",
        "        return hipotenusa_2 ** (1/2)"
      ]
    }
  ],
  "metadata": {
    "kernelspec": {
      "display_name": "Python 3 (ipykernel)",
      "language": "python",
      "name": "python3"
    },
    "language_info": {
      "codemirror_mode": {
        "name": "ipython",
        "version": 3
      },
      "file_extension": ".py",
      "mimetype": "text/x-python",
      "name": "python",
      "nbconvert_exporter": "python",
      "pygments_lexer": "ipython3",
      "version": "3.7.6"
    },
    "colab": {
      "provenance": []
    }
  },
  "nbformat": 4,
  "nbformat_minor": 0
}