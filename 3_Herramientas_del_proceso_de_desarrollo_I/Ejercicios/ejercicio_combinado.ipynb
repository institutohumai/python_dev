{
 "cells": [
  {
   "cell_type": "markdown",
   "metadata": {},
   "source": [
    "<a href=\"https://colab.research.google.com/github/institutohumai/cursos-python/blob/master/PracticasDeDesarrollo/3_Desarrollo_III/Ejercicios/ejercicio_combinado.ipynb\" target=\"_parent\"><img src=\"https://colab.research.google.com/assets/colab-badge.svg\" alt=\"Open In Colab\" data-canonical-src=\"https://colab.research.google.com/assets/colab-badge.svg\"></a>"
   ]
  },
  {
   "cell_type": "markdown",
   "metadata": {},
   "source": [
    "# Ejercicio de Buenas Prácticas de Desarrollo\n",
    "\n",
    "En este ejercicio vamos a poner en práctica los siguientes conocimientos correspondientes a la Clase 3 del curso:\n",
    "\n",
    "- Cookiecutter para estructurar proyectos\n",
    "- PyLint\n",
    "- Documentar nuestro código\n",
    "- Crear paquete con `setuptools`\n",
    "- Crear y utilizar entornos virtuales con Conda"
   ]
  },
  {
   "cell_type": "markdown",
   "metadata": {},
   "source": [
    "# Empecemos\n",
    "\n",
    "El código de abajo es una adaptación de un código de ejemplo que extraje de uno de mis proyectos viejos. Lo que hace es definir un _decorador_. Vimos un ejemplo de decorador en la Clase I del curso de Buenas Prácticas, con el uso del paquete `click`. La sintaxis `@click.command()`, seguida de una declaración de una función via la sintaxis `def funcion()...`, es un ejemplo de uso de un decorador.\n",
    "\n",
    "Veamos el código:"
   ]
  },
  {
   "cell_type": "code",
   "execution_count": 3,
   "metadata": {},
   "outputs": [
    {
     "name": "stdout",
     "output_type": "stream",
     "text": [
      "Overwriting decorators.py\n"
     ]
    }
   ],
   "source": [
    "%%writefile decorators.py\n",
    "import functools\n",
    "from typing import Dict, Iterable, Union\n",
    "from numpy.random import choice, random\n",
    "\n",
    "def anadir_ruido(noise_probability : float, noise_distribution : Dict[str, float]):\n",
    "    def inner_decorator(func):\n",
    "        possible_noise_values = list(noise_distribution.keys())\n",
    "        noise_value_probabilities = list(noise_distribution.values())\n",
    "        @functools.wraps(func)\n",
    "        def wrapper(*args):\n",
    "            true_value = func(*args)\n",
    "            if random() <= noise_probability: #ie con prob `noise_probability`\n",
    "                vals, probs = exclude_true_value(possible_noise_values, noise_value_probabilities, true_value)\n",
    "                return choice(vals, p=probs)\n",
    "            else:\n",
    "                return true_value\n",
    "        return wrapper\n",
    "    return inner_decorator\n",
    "\n",
    "\n",
    "def exclude_true_value(possible_noise_values, noise_value_probabilities, true_value):\n",
    "    try:\n",
    "        i = possible_noise_values.index(true_value)\n",
    "        possible_noise_values = possible_noise_values[:i] + possible_noise_values[i+1:]\n",
    "        noise_value_probabilities = noise_value_probabilities[:i] + noise_value_probabilities[i+1:]\n",
    "        z = sum(noise_value_probabilities)\n",
    "        noise_value_probabilities = [x/z for x in noise_value_probabilities]\n",
    "    except ValueError:\n",
    "        pass\n",
    "    return possible_noise_values, noise_value_probabilities\n",
    "\n",
    "if __name__ == \"__main__\":\n",
    "    @anadir_ruido(0.5, {'ups!':0.7, 'UPS!':0.3})\n",
    "    def funcion_de_ejemplo(x):\n",
    "        return 2*x\n",
    "    for x in range(10):\n",
    "        print(funcion_de_ejemplo(x))\n",
    "    "
   ]
  },
  {
   "cell_type": "markdown",
   "metadata": {},
   "source": [
    "En la parte abajo de `if __name__ == \"__main__\"` (que recordemos, solo es ejecutada si el código es llamado como script, y _no_ es ejecutada si el código es importado como módulo), tenemos un ejemplo de uso. Ejecutémoslo:"
   ]
  },
  {
   "cell_type": "code",
   "execution_count": 1,
   "metadata": {},
   "outputs": [
    {
     "name": "stdout",
     "output_type": "stream",
     "text": [
      "0\n",
      "2\n",
      "ups!\n",
      "6\n",
      "UPS!\n",
      "10\n",
      "ups!\n",
      "14\n",
      "16\n",
      "18\n"
     ]
    }
   ],
   "source": [
    "!python decorators.py"
   ]
  },
  {
   "cell_type": "markdown",
   "metadata": {},
   "source": [
    "La idea es que si queremos definir una función, posiblemente compleja, y al final pedirle que su resultado sea a veces reemplazado, aleatoriamente, por algún otro valor, esta última funcionalidad podemos agregarla con la línea `@anadir_ruido(0.5, {'ups!':0.7, 'UPS!':0.3})` antes de la definición de la función.\n",
    "\n",
    "Más allá de los detalles de cómo funcionan los decoradores, la idea es usar este código como punto de partida para los siguientes ejercicios (no es necesario que sean expertos en decoradores para completarlos).\n",
    "\n",
    "Esta es nuestra hoja de ruta:\n",
    "\n",
    "- Comenzar un proyecto con `cookiecutter`, meter `decorators.py` dentro de ese proyecto.\n",
    "- Chequear el código con PyLint, adaptarlo a las reglas PEP\n",
    "- Documentar el código\n",
    "- Publicar el código como un _paquete_, para ser instalado con pip desde github.\n",
    "- Crear un entorno virtual, instalar nuestro paquete y usarlo"
   ]
  },
  {
   "cell_type": "markdown",
   "metadata": {},
   "source": [
    "# Ejercicio\n",
    "\n",
    "\n",
    "1. Crear un proyecto usando esta plantilla de Cookiecutter: `https://github.com/oldani/cookiecutter-simple-pypackage`\n",
    "\n",
    "En algún momento a partir de ahora, será necesario inicializar un repositorio de git en la carpeta de nuestro proyecto, realizar el commit inicial y posteriormente commitear todo cambio adicional que querramos incorporar.\n",
    "\n",
    "2. Incorporar el código de `decorators.py` en el proyecto (para pensar: ¿En qué carpeta/archivo?)\n",
    "3. Ejecutar PyLint sobre nuestro código y corregir lo que nos diga. Entre otras cosas, será necesario escribir _docstrings_ para las funciones que incorporamos, y quizá para un módulo (si es que agregamos un nuevo archivo al proyecto).\n",
    "4. Revisar el contenido de `README.md`y `setup.py`. No se preocupen por que todos los detalles estén puestos correctamente, en principio debería funcionar sin que lo toquen manualmente. Pero no toda la información generada automáticamente va a ser correcta. Por ejemplo, en el README, la instrucción de instalación no va a ser correcta, dado que no vamos a usar pypi para distribuir nuestro paquete. Tendríamos que reemplazar la línea `pip install mi_proyecto_de_prueba` en el README por otra que diga `pip install git+https://github.com/nuestro-user/mi_proyecto_de_prueba.git`.\n",
    "5. Publicar en Github nuestro proyecto (asegurarse de usar el mismo nombre para el repo de github que el que elegimos antes).\n",
    "\n",
    "Ahora vamos a usar nuestro proyecto, dentro de otro proyecto.\n",
    "\n",
    "6. Crear un entorno con conda (`conda create --name nombre-de-mi-entorno`) y movernos a este entorno (`conda activate nombre-de-mi-entorno`).\n",
    "7. Instalar nuestro paquete desde github (`pip install git+https://github.com/nuestro-user/mi_proyecto_de_prueba.git`)\n",
    "8. Crear un script que use nuestro paquete y ejecutarlo.\n",
    "   \n",
    "Opcionalmente, luego podemos eliminar el entorno, para mantener limpio nuestro sistema (`conda env remove --name nombre-de-mi-entorno`).\n",
    "\n",
    "### Extra (si hay tiempo y ganas)\n",
    "\n",
    "Modificar nuestro paquete. Supongamos que queremos agregar algo más a nuestro paquete, por ejemplo una función.\n",
    "\n",
    "9. Para hacerlo lo más sencillo posible, agreguemos una función `hola_mundo` (que imprime un saludo en pantalla) al `__init__.py` de nuestro paquete.\n",
    "10. Modificamos el `setup.py` para que indique la nueva versión del paquete (por ejemplo, cambiando `version='0.1.0'` a `version='0.1.1'`). Recordar que esto es importante pues, de lo contrario, pip no va a saber que tiene que actualizar el paquete y no lo va a hacer, incluso si ejecutamos el comando de instalación nuevamente.\n",
    "11. Pusheamos cambios al repo de github\n",
    "12. Ejecutamos nuevamente la línea de instalación del paquete.\n",
    "13. Ahora deberíamos poder llamar nuestra nueva función importándola según `from mi_proyecto_de_prueba import hola_mundo`."
   ]
  }
 ],
 "metadata": {
  "kernelspec": {
   "display_name": "Python 3.10.4 ('prueba')",
   "language": "python",
   "name": "python3"
  },
  "language_info": {
   "codemirror_mode": {
    "name": "ipython",
    "version": 3
   },
   "file_extension": ".py",
   "mimetype": "text/x-python",
   "name": "python",
   "nbconvert_exporter": "python",
   "pygments_lexer": "ipython3",
   "version": "3.10.4"
  },
  "orig_nbformat": 4,
  "vscode": {
   "interpreter": {
    "hash": "4c33af5f6cac9d1a6e768c2f922cf8b4e2335a401e3f1f189e676c662e1cceb0"
   }
  }
 },
 "nbformat": 4,
 "nbformat_minor": 2
}
