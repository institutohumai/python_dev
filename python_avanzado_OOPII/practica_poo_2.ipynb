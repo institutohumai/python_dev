{
  "nbformat": 4,
  "nbformat_minor": 0,
  "metadata": {
    "colab": {
      "provenance": []
    },
    "kernelspec": {
      "name": "python3",
      "display_name": "Python 3"
    },
    "language_info": {
      "name": "python"
    }
  },
  "cells": [
    {
      "cell_type": "markdown",
      "source": [
        "# Clase practica de POO 2"
      ],
      "metadata": {
        "id": "zoAknwK4HhV0"
      }
    },
    {
      "cell_type": "markdown",
      "source": [
        "### Ejercicio 1:\n",
        "\n",
        "- Que es un funcion pura?\n",
        "- Brevemente cuando deberiamos usar programacion funcional y cuando POO?\n",
        "- Cual de estos dos paradigmas deberiamos usar en python y porque?"
      ],
      "metadata": {
        "id": "LG2oTSHvHpin"
      }
    },
    {
      "cell_type": "code",
      "execution_count": null,
      "metadata": {
        "id": "hFTdQzdXHeu3"
      },
      "outputs": [],
      "source": []
    },
    {
      "cell_type": "markdown",
      "source": [
        "### Ejercicio 2:\n",
        "\n",
        "El objetivo de este ejercicio va a ser modelar mediante objetos el instituto Humai.\n",
        "\n",
        "Para eso vamos a tener que modelar Cursos, Alumnos y Profesores\n",
        "\n",
        "1. Modela cursos, estos van a tener un nombre, descripcion, fechas y prerequisitos para cursar\n",
        "2. Modela alumnos, estos van a tener un nombre, conocimientos y un history de cursos aprobados\n",
        "3. Profesores, estos van a tener un nombre y conocomientos\n",
        "4.  Para poder dictar un curso, vamos a necesitar de Alumnos, un profesor, y un ayudante (El ayudante puede ser tanto un alumno como un profesor)\n",
        "\n",
        "Notas:\n",
        "- Los preriquisitos son conocimientos nocesarios para poder realizar el curso o ensenar el mismo\n",
        "- Los conocimientos pueden ser o Lenguaje de programacion (Python, Java, Javascript y Sql) o conocimientos de software (Web, Data, AI)\n",
        "\n",
        "---\n",
        "\n",
        "Aqui tenemos definida la funcion dictar curso que utilizaremos para dictar cursos, implementa lo necesario (utilizando POO y lo visto en clase) para que esta funcion ande y correla con 2 cursos diferentes."
      ],
      "metadata": {
        "id": "5VgvxcT4IL7-"
      }
    },
    {
      "cell_type": "code",
      "source": [
        "from random import random\n",
        "\n",
        "def dictar_curso(curso, alumnos, profesor, ayudante):\n",
        "    print(f\"Empieza el dicatado del curso: {curso.nombre}\")\n",
        "    print(f\"En el curso de hoy se veremos: {curso.descripcion}\")\n",
        "    print(f\"El profesor {profesor.nombre} dara la clase de hoy\")\n",
        "    print(f\"{ayudante.nombre} esta hoy para ayudar en la clase\")\n",
        "\n",
        "    # Si el profesor cumple con los prerequisitos imprimir que la clase fue buena\n",
        "    profesor.dicatar_clase(curso.prerequisitos)\n",
        "    # Si el ayudante cumple con los prerequisitos imprimir que la clase termino a tiempo\n",
        "    ayudante.ayudar_clase(curso.prerequisitos)\n",
        "\n",
        "    for alumno in alumnos:\n",
        "        # Si el alumno cumple con los prerequisitos imprimir que aprobo\n",
        "        # o que desaprobo en caso contrario\n",
        "        alumno.cursar_clase(curso)"
      ],
      "metadata": {
        "id": "ATZBWJ7cYCF7"
      },
      "execution_count": null,
      "outputs": []
    }
  ]
}