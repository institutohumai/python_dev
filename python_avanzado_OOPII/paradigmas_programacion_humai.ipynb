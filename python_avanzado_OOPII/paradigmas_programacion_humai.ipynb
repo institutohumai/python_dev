{
  "nbformat": 4,
  "nbformat_minor": 0,
  "metadata": {
    "colab": {
      "provenance": []
    },
    "kernelspec": {
      "name": "python3",
      "display_name": "Python 3"
    },
    "language_info": {
      "name": "python"
    }
  },
  "cells": [
    {
      "cell_type": "markdown",
      "source": [
        "# Paradigmas de programacion"
      ],
      "metadata": {
        "id": "4iW7ZkgFMOqj"
      }
    },
    {
      "cell_type": "markdown",
      "source": [
        "## Que es un paradigma de programacion?\n",
        "\n",
        "Los paradigmas de programacion son enfoques o estilos generales para resolver un problema mediante software, estos paradigmas estan creados al rededor de ciertas estructuras, funcionalidades y opiniones sobre como los problemas de software deben resolverse, podemos decir, que son enfoques o estilos generales de hacer codigo para resolver los problemas que encontramos como programadores. Representan diferentes maneras de pensar y abordar la solución de un problema desde el punto de vista del diseño y la estructura del software.\n",
        "\n",
        "Pero no solo eso, muchos lenguajes estan disenados para ser desarrollado usando uno (o varios) de estos paradigmas, para tener una idea mas clara, vamos a ver algunos de los paradigmas mas populares y alguno de los lenguajes que se asocian a ellos.\n",
        "\n",
        "**Paradigmas:**\n",
        "- Orientado a Objetos (POO): Este paradigma se basa en el concepto de \"objetos\" y clases, estos encapsulan tanto datos y estados asi como comportamientos relacionados a ese objeto, estos van a interactuar entre sí mediante mensajes y/o eventos. Lenguajes como Java, c# y python son usados comunmente con este paradigma.\n",
        "\n",
        "- Funcional: En este paradigma, se centra en el uso de funciones como bloques fundamentales de construcción de programas. Se evita el concepto de estado y se enfatiza en la inmutabilidad y la composición de funciones. Lenguajes como Haskell, python y javascript son usados comunmente con este paradigma.\n",
        "\n",
        "- Lógico: Este paradigma se basa en la lógica formal y en la resolución de problemas mediante la inferencia lógica, los programas se escriben en términos de reglas lógicas y hechos (si se da tal cosa entonces pasa tal cosa). Prolog es un ejemplo de un lenguaje de programación basado en el paradigma lógico.\n",
        "\n",
        "- Programación Estructurada: Este paradigma se centra en la estructura y organización del código. Se basa en el uso de bloques de código, como funciones y estructuras de control de seleccion (if/then/esle) y repeticion (for y while), para controlar el flujo de ejecución del programa. Lenguajes como C y Pascal se basan en este paradigma."
      ],
      "metadata": {
        "id": "4CMJBNrpMOf3"
      }
    },
    {
      "cell_type": "markdown",
      "source": [
        "## Programacion funcional\n",
        "La programación funcional es un paradigma que se basa en la construcción de programas utilizando principalmente funciones y evitando mantener un estado mutable y los efectos secundarios que trae aparejado el mismo. En la programacion funcional hay dos conceptos que es bueno tenerlos en mente, ya que son muy importantes en el paradigma:\n",
        "\n",
        "**Funciones puras**: Son funciones que cumplen con las siguientes dos propiedades\n",
        "- Siempre producen el mismo resultado para los mismos argumentos, sin importar ninguna otra cosa, es decir son deterministicas\n",
        "- Nunca tienen efectos secundarios, es decir, no modifican ningún argumento, variable local/global ni flujos de entrada/salida, esta propiedad se conoce como inmutabilidad.\n",
        "\n",
        "**las funciones son ciudadanos de primera clase**, lo que significa que pueden ser tratadas como cualquier otro tipo de datos, como enteros o cadenas de texto.\n",
        "\n",
        "Con estos conceptos presentes, la programacion funcional busca un codigo realizado mayormente solo por funciones! ya que propone que de esta manera podemos tener mas modularidad de codigo y que la ausencia de efectos secundarios hace mucho mas facil identificar y separar las responsabilidades de la base de codigo, lo que mejora la mantenibilidad del codigo."
      ],
      "metadata": {
        "id": "droFgOwL2IdI"
      }
    },
    {
      "cell_type": "code",
      "execution_count": 1,
      "metadata": {
        "id": "zNeQTjdrKNr9",
        "outputId": "16b740a9-9b3c-477a-af73-8b020ea28fbe",
        "colab": {
          "base_uri": "https://localhost:8080/"
        }
      },
      "outputs": [
        {
          "output_type": "stream",
          "name": "stdout",
          "text": [
            "File downloaded successfully.\n",
            "--- Analysing frequencies of RemoteWork --- \n",
            "The possible answers found within the dataset are:\n",
            "Hybrid (some remote, some in-person);Fully remote;Full in-person;NA\n",
            "\n",
            "Fully remote                         -> 22819 | 34.61%\n",
            "Hybrid (some remote, some in-person) -> 22589 | 34.26%\n",
            "NA                                   -> 12815 | 19.43%\n",
            "Full in-person                       -> 7718  | 11.7%\n",
            "\n",
            "\n",
            "--- Analysing frequencies of LanguageHaveWorkedWith --- \n",
            "The possible answers found within the dataset are:\n",
            "Bash/Shell;Java;PowerShell;Python;SQL;C;C#;C++;JavaScript;Objective-C;Swift;TypeScript;HTML/CSS;Assembly;Groovy;Perl;Lua;Ruby;Delphi;PHP;Scala;Go;APL;Kotlin;MATLAB;Crystal;Rust;Dart;SAS;F#;Haskell;Solidity;NA;Elixir;R;VBA;Julia;LISP;Erlang;Clojure;COBOL;Fortran;OCaml\n",
            "\n",
            "JavaScript                           -> 41879 | 12.56%\n",
            "HTML/CSS                             -> 35220 | 10.57%\n",
            "SQL                                  -> 31609 | 9.48%\n",
            "Python                               -> 30755 | 9.23%\n",
            "TypeScript                           -> 22309 | 6.69%\n",
            "Java                                 -> 21266 | 6.38%\n",
            "Bash/Shell                           -> 18608 | 5.58%\n",
            "C#                                   -> 17850 | 5.36%\n",
            "C++                                  -> 14438 | 4.33%\n",
            "PHP                                  -> 13376 | 4.01%\n",
            "C                                    -> 12314 | 3.69%\n",
            "PowerShell                           -> 7737  | 2.32%\n",
            "Go                                   -> 7148  | 2.14%\n",
            "Rust                                 -> 5943  | 1.78%\n",
            "Kotlin                               -> 5851  | 1.76%\n",
            "Dart                                 -> 4205  | 1.26%\n",
            "Ruby                                 -> 3890  | 1.17%\n",
            "Assembly                             -> 3501  | 1.05%\n",
            "Swift                                -> 3154  | 0.95%\n",
            "R                                    -> 2939  | 0.88%\n",
            "VBA                                  -> 2881  | 0.86%\n",
            "MATLAB                               -> 2618  | 0.79%\n",
            "Lua                                  -> 2590  | 0.78%\n",
            "Groovy                               -> 2121  | 0.64%\n",
            "Delphi                               -> 2092  | 0.63%\n",
            "NA                                   -> 2046  | 0.61%\n",
            "Scala                                -> 1654  | 0.5%\n",
            "Objective-C                          -> 1548  | 0.46%\n",
            "Perl                                 -> 1488  | 0.45%\n",
            "Haskell                              -> 1411  | 0.42%\n",
            "Elixir                               -> 1370  | 0.41%\n",
            "Julia                                -> 976   | 0.29%\n",
            "Clojure                              -> 971   | 0.29%\n",
            "Solidity                             -> 945   | 0.28%\n",
            "LISP                                 -> 831   | 0.25%\n",
            "F#                                   -> 648   | 0.19%\n",
            "Fortran                              -> 590   | 0.18%\n",
            "Erlang                               -> 576   | 0.17%\n",
            "APL                                  -> 453   | 0.14%\n",
            "COBOL                                -> 424   | 0.13%\n",
            "SAS                                  -> 394   | 0.12%\n",
            "OCaml                                -> 385   | 0.12%\n",
            "Crystal                              -> 315   | 0.09%\n",
            "\n",
            "\n"
          ]
        }
      ],
      "source": [
        "\"\"\"Simple script that analyses the Stack Overflow developer survey (CSV file)\n",
        "by looking at the most common jobs as well as the most common programming\n",
        "languages that have been used\"\"\"\n",
        "\n",
        "from collections import Counter\n",
        "from csv import DictReader\n",
        "from pathlib import Path\n",
        "from requests import get\n",
        "\n",
        "\n",
        "FILENAME = \"survey_results_public.csv\"\n",
        "FILEURL = \"https://drive.google.com/uc?id=1JMEq5WDzGn3TNG2z-5r8fAXE90h3r9aM\"\n",
        "\n",
        "def download_file_from_drive(file_url: str, save_path: str):\n",
        "    response = get(file_url)\n",
        "    if response.status_code == 200:\n",
        "        with open(save_path, 'wb') as file:\n",
        "            file.write(response.content)\n",
        "        print(\"File downloaded successfully.\")\n",
        "    else:\n",
        "        print(\"Failed to download the file.\")\n",
        "\n",
        "def cumulative_count(\n",
        "    column_name: str, file: DictReader, field_sep: str | None = None\n",
        ") -> Counter[str]:\n",
        "    print(f\"--- Analysing frequencies of {column_name} --- \")\n",
        "    counter = Counter()\n",
        "    for line in file:\n",
        "        if field_sep:\n",
        "            splitted_line = line[column_name].split(field_sep)\n",
        "            for element in splitted_line:\n",
        "                counter[element] += 1\n",
        "        else:\n",
        "            counter[line[column_name]] += 1\n",
        "    del counter[column_name]\n",
        "    return counter\n",
        "\n",
        "\n",
        "def show_frequencies(counter: Counter[str]) -> None:\n",
        "    for possibility, freq in counter.most_common():\n",
        "        print(\n",
        "            f\"{possibility: <36} -> {freq: <5} |\",\n",
        "            f\"{round(freq /  counter.total() * 100, 2)}%\",\n",
        "        )\n",
        "    print(\"\\n\")\n",
        "\n",
        "\n",
        "def show_all_answers(counter: Counter[str]) -> None:\n",
        "    print(\"The possible answers found within the dataset are:\")\n",
        "    print(f\"{';'.join(list(counter))}\\n\")\n",
        "\n",
        "\n",
        "def analyze_frequencies(\n",
        "    column_name: str, file: DictReader, field_sep: str | None = None\n",
        ") -> None:\n",
        "    target = cumulative_count(column_name=column_name, file=file, field_sep=field_sep)\n",
        "    show_all_answers(target)\n",
        "    show_frequencies(target)\n",
        "\n",
        "\n",
        "def main() -> None:\n",
        "    download_file_from_drive(FILEURL, FILENAME)\n",
        "\n",
        "    with open(FILENAME, \"r\", encoding=\"utf-8\") as csv_file:\n",
        "        csv_reader = DictReader(csv_file)\n",
        "\n",
        "        analyze_frequencies(column_name=\"RemoteWork\", file=csv_reader)\n",
        "\n",
        "        csv_file.seek(1)\n",
        "        # the analysis should run again starting from the first line, not from header.\n",
        "        analyze_frequencies(\n",
        "            column_name=\"LanguageHaveWorkedWith\", file=csv_reader, field_sep=\";\"\n",
        "        )\n",
        "\n",
        "\n",
        "main()"
      ]
    },
    {
      "cell_type": "markdown",
      "source": [
        "### Notas\n",
        "\n",
        "Lo que sucede con este codigo y porque funciona tan bien siguiendo el paradigma de programacion funcional, es debido a que lo que estamos tratando de resolver con este codigo esta muy orientado a la accion, queremos hacer cosas y no nos importa realmente cual es la estructura de las cosas, sino que nos importa el flow de los datos y de las acciones, sumado al hecho de que no nos interesa guardar ningun estado por lo que todavia nos acercamos mas al paradigma de programacion funcional."
      ],
      "metadata": {
        "id": "7vj03QE-ALaV"
      }
    },
    {
      "cell_type": "markdown",
      "source": [
        "## Programacion orientada a objetos\n",
        "\n",
        "La programación orientada a objetos (POO) es un paradigma de programación que se basa en el concepto de objetos, estos son instancias de clases y nos proporcionan una forma de estructurar y organizar el código encapsulando datos (atributos) y comportamientos (métodos) en objetos.\n",
        "\n",
        "Las clases son como planos/plantillas para la creacion de objetos, son como el manual que definen los atributos y metodos que el objeto (de esta clase) tendra. Los atributos representan los datos y el estado asociado a un objeto, mientras que los metodos definen las acciones y comportamientos que el objeto puede realizar\n",
        "\n",
        "Con estos conceptos presentes"
      ],
      "metadata": {
        "id": "ezbba2HfBXN4"
      }
    },
    {
      "cell_type": "code",
      "source": [
        "\"\"\"Simple script that tries to model the behaviour of a bank account\"\"\"\n",
        "\n",
        "from __future__ import annotations\n",
        "\n",
        "from datetime import datetime\n",
        "from enum import Enum\n",
        "\n",
        "\n",
        "class TransactionType(Enum):\n",
        "    DEPOSIT = \"DEPOSIT\"\n",
        "    WITHDRAWAL = \"WITHDRAWAL\"\n",
        "    TRANSFER = \"TRANSFER\"\n",
        "\n",
        "\n",
        "Transaction = tuple[TransactionType, datetime, int]\n",
        "\n",
        "\n",
        "class InsufficientBalanceError(Exception):\n",
        "    pass\n",
        "\n",
        "\n",
        "class BankAccount:\n",
        "    def __init__(self, initial_balance: int = 0) -> None:\n",
        "        self._balance: int = initial_balance\n",
        "        self._transaction_history: list[Transaction] = []\n",
        "\n",
        "    def deposit(self, amount: int) -> None:\n",
        "        self._balance += amount\n",
        "        self._transaction_history.append(\n",
        "            (TransactionType.DEPOSIT, datetime.now(), amount)\n",
        "        )\n",
        "\n",
        "    def withdraw(self, amount: int) -> None:\n",
        "        if not self._sufficient_balance(amount):\n",
        "            raise InsufficientBalanceError\n",
        "        self._balance -= amount\n",
        "        self._transaction_history.append(\n",
        "            (TransactionType.WITHDRAWAL, datetime.now(), amount)\n",
        "        )\n",
        "\n",
        "    def transfer(self, other: BankAccount, amount: int) -> None:\n",
        "        if not self._sufficient_balance(amount):\n",
        "            raise InsufficientBalanceError\n",
        "        timestamp = datetime.now()\n",
        "        self._balance -= amount\n",
        "        other._balance += amount\n",
        "        self._transaction_history.append((TransactionType.TRANSFER, timestamp, amount))\n",
        "\n",
        "    def _sufficient_balance(self, amount: int) -> bool:\n",
        "        return amount <= self._balance\n",
        "\n",
        "    @property\n",
        "    def balance(self) -> int:\n",
        "        return self._balance\n",
        "\n",
        "    @property\n",
        "    def transaction_history(self) -> list[Transaction]:\n",
        "        return self._transaction_history\n",
        "\n",
        "\n",
        "def main() -> None:\n",
        "\n",
        "    account1 = BankAccount(initial_balance=100)\n",
        "    account2 = BankAccount(initial_balance=500)\n",
        "\n",
        "    account1.withdraw(50)\n",
        "    print(f\"Account 1 balance after withdraw: ${account1.balance}\")\n",
        "\n",
        "    account2.deposit(400)\n",
        "    print(f\"Account 2 balance after deposit: ${account2.balance}\")\n",
        "\n",
        "    account1.transfer(account2, 50)\n",
        "    print(f\"Account 1 balance after transfer: ${account1.balance}\")\n",
        "    print(f\"Account 2 balance after transfer: ${account2.balance}\")\n",
        "\n",
        "    print(f\"Account 1 transaction history:\\n{account1.transaction_history}\")\n",
        "    print(f\"Account 2 transaction history:\\n{account2.transaction_history}\")\n",
        "\n",
        "    try:\n",
        "        account1.withdraw(100) # Uncomment this line to see error\n",
        "    except InsufficientBalanceError:\n",
        "        print(f\"Insuficient balance, current balance: {account1.balance}\")\n",
        "\n",
        "main()"
      ],
      "metadata": {
        "colab": {
          "base_uri": "https://localhost:8080/"
        },
        "id": "cyvCxXISMLt5",
        "outputId": "593fa8f2-6ff5-415f-fb60-899073c4a1ce"
      },
      "execution_count": 2,
      "outputs": [
        {
          "output_type": "stream",
          "name": "stdout",
          "text": [
            "Account 1 balance after withdraw: $50\n",
            "Account 2 balance after deposit: $900\n",
            "Account 1 balance after transfer: $0\n",
            "Account 2 balance after transfer: $950\n",
            "Account 1 transaction history:\n",
            "[(<TransactionType.WITHDRAWAL: 'WITHDRAWAL'>, datetime.datetime(2023, 7, 21, 15, 45, 38, 793837), 50), (<TransactionType.TRANSFER: 'TRANSFER'>, datetime.datetime(2023, 7, 21, 15, 45, 38, 793988), 50)]\n",
            "Account 2 transaction history:\n",
            "[(<TransactionType.DEPOSIT: 'DEPOSIT'>, datetime.datetime(2023, 7, 21, 15, 45, 38, 793953), 400)]\n",
            "Insuficient balance, current balance: 0\n"
          ]
        }
      ]
    },
    {
      "cell_type": "markdown",
      "source": [
        "### Notas\n",
        "\n",
        "En este caso podemos ver que la programacion orientada a objetos tiene mucho mas sentido que la programacion funcional en si, ya que si tuvieramos que trabajar con un gran numero de cuentas bancarias utlizando programacion funcional, estariamos lidiando con un numero aun mucho mayor de variables que gestionar y tener presente.\n",
        "\n",
        "Una buena regla para saber cuando POO tiene sentido es cuando en nuestro programas vamos a tener que modelar conceptos del mundo real, ya que estos tienen sus estados y sus actores que son bien representados a travez de clases y objetos, y donde tenemos que preocuparnos por la estructura subyacente del problema."
      ],
      "metadata": {
        "id": "TCLDDqh2NgW6"
      }
    },
    {
      "cell_type": "markdown",
      "source": [
        "## Python y un poquito de ambos\n",
        "\n",
        "Python es un lenguaje que puede utilizar ambos paradigmas tanto el paradigma funcional como el paradigma orientado a objetos, es por esto, que es importante no limitarnos con uno u otro y que muchas veces la solucion puede resolverse utilizando una combinacion de ambos, es por ello que nosotros como desarrolladores tenemos que tratar de entender el problema"
      ],
      "metadata": {
        "id": "j5-xrNkKKly_"
      }
    },
    {
      "cell_type": "code",
      "source": [
        "\"\"\"Simple script that tries to model the behaviour of simple food payment\"\"\"\n",
        "from typing import List\n",
        "from dataclasses import dataclass\n",
        "\n",
        "class MpPaymentHandler:\n",
        "    def handle_payment(self, amount: int) -> None:\n",
        "        print(f\"Charging ${amount:.2f} using Mercado pago\")\n",
        "\n",
        "@dataclass\n",
        "class Food:\n",
        "    name: str\n",
        "    description: str\n",
        "    price: int\n",
        "\n",
        "\n",
        "def order_food(items: List[Food], payment_handler: MpPaymentHandler) -> None:\n",
        "    total = sum(item.price for item in items)\n",
        "    print(f\"Your order is ${total:.2f}\")\n",
        "    payment_handler.handle_payment(total)\n",
        "    print(\"Thanks for your business!\")\n",
        "\n",
        "\n",
        "def main() -> None:\n",
        "    burger = Food(\"Burger\", \"no mayo\", 3000)\n",
        "    fries = Food(\"Fries\", \"with ketchup\", 1000)\n",
        "    coke = Food(\"Coke\", \"no ice\", 800)\n",
        "    mp_payment_handler = MpPaymentHandler()\n",
        "    order_food([burger, fries, coke], mp_payment_handler)\n",
        "    order_food([burger, fries], mp_payment_handler)\n",
        "\n",
        "\n",
        "main()"
      ],
      "metadata": {
        "colab": {
          "base_uri": "https://localhost:8080/"
        },
        "id": "rzUNWy3HKovx",
        "outputId": "5b9ab03a-91b1-47bc-894b-0e8d4f5716b8"
      },
      "execution_count": 3,
      "outputs": [
        {
          "output_type": "stream",
          "name": "stdout",
          "text": [
            "Your order is $4800.00\n",
            "Charging $4800.00 using Mercado pago\n",
            "Thanks for your business!\n",
            "Your order is $4000.00\n",
            "Charging $4000.00 using Mercado pago\n",
            "Thanks for your business!\n"
          ]
        }
      ]
    },
    {
      "cell_type": "markdown",
      "source": [
        "## Conclusion\n",
        "\n",
        "Los paradigmas de programacion son estilos generales de escrituras de software, algunos lenguajes estan disenados para ser usado con un paradigma particular en mente (Java con POO) y otros, como python son mucho mas flexibles y nos dan libertad a nosotros para utilizar el o los paradigmas que veamos necesarios.\n",
        "\n",
        "Particularmente en python es buena idea no casarse con un paradigma, sino que es mucha veces mas conveniente utilizar una mezcla de ambos, para buscar aprovechar las ventajas y minimizar las desventajas de los mismos.\n",
        "\n",
        "Como tip practico, siempre recordar que la programacion funcional se adapta muy bien a las acciones y a los problemas donde no tenemos que mantener estados, mientras que la programacion orientada a objetos se adapta mejor a problemas con estado y estructura bien definidas, lo que lo hace el paradigma preferido para modelar a elementos del mundo real."
      ],
      "metadata": {
        "id": "CsjgeZPVPW6i"
      }
    }
  ]
}