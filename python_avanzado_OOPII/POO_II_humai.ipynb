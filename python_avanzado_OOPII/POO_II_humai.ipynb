{
  "nbformat": 4,
  "nbformat_minor": 0,
  "metadata": {
    "colab": {
      "provenance": []
    },
    "kernelspec": {
      "name": "python3",
      "display_name": "Python 3"
    },
    "language_info": {
      "name": "python"
    }
  },
  "cells": [
    {
      "cell_type": "markdown",
      "source": [
        "# Programacion OO II"
      ],
      "metadata": {
        "id": "4iW7ZkgFMOqj"
      }
    },
    {
      "cell_type": "markdown",
      "source": [
        "## Que es la programacion orientada a objetos?\n",
        "\n",
        "\n",
        "La programación orientada a objetos (POO) es un paradigma de programación que se basa en el concepto de objetos, estos son instancias de clases y nos proporcionan una forma de estructurar y organizar el código encapsulando datos (atributos) y comportamientos (métodos) en objetos.\n",
        "\n",
        "Las clases son como planos/plantillas para la creacion de objetos, son como el manual que definen los atributos y metodos que el objeto (de esta clase) tendra. Los atributos representan los datos y el estado asociado a un objeto, mientras que los metodos definen las acciones y comportamientos que el objeto puede realizar\n",
        "\n",
        "\n",
        "**Los 4 pilares:**\n",
        "- Abstracción: Se trata de representar sistemas complejos mediante modelos simplificados de los mismos esta se enfoca en las características esenciales de un objeto o sistema, ocultando detalles innecesarios o que no son utiles para el objetivo del programa, es muy comun utilizar clases abstractas e interfaces para definir comportamientos comunes sin especificar la implementación.\n",
        "\n",
        "- Encapsulamiento: La encapsulacion nos dice que debemos que una clase debe contener todos los datos y los metodos necesario para cumplir su funcion, y que los mecanismos y datos internos de dicha clase deben estar escondidos de el mundo exterior. Esto permite que los objetos se contengan a si mismos y hace que las piezas de codigo sean mas independientes, logrando un codigo mas facil de mantener y debuggear.\n",
        "\n",
        "- Polimorfismo: EL polimorfismo se refiere a la habilidad de los objetos de diferentes clases a responder de la misma manera y compartir caracteristicas (es decir a ser tratados de manera intercambiable) siempre y cuando posean la misma interface o hereden de una superclase comun. Esto permite a las clases a compartir caracteristicas en comun y reduce la dupicacion de codigo.\n",
        "\n",
        "- Herencia: La herencia nos permite que las clases pueden derivar de otras clases lo que siginifica que podemos generar relaciones gerarquicas entre clases, esto nos permite reutilizar piezas de codigo y generar softwares mas complejos."
      ],
      "metadata": {
        "id": "4CMJBNrpMOf3"
      }
    },
    {
      "cell_type": "markdown",
      "source": [
        "## Encapsulamiento en python\n",
        "\n",
        "- Los atributos y métodos públicos se definen normalmente, como estamos acostumbrados.\n",
        "\n",
        "- Los atributos y métodos protegidos se definen utilizando \"_\" (guión bajo) como prefijo. Esta es una convención y no está impuesta por el lenguaje.\n",
        "\n",
        "- Los atributos y métodos privados se definen utilizando \"__\" (2 guiones bajos) como prefijo. Estos están \"impuestos\" por el lenguaje, pero aún se pueden acceder a las mismas (Queda como tarea para el lector investigar \"name mangling\" para saber mas del tema)\n",
        "\n",
        "Se analiza practicamente en el siguiente ejemplo."
      ],
      "metadata": {
        "id": "B7qFBaoi7CQY"
      }
    },
    {
      "cell_type": "code",
      "source": [
        "# Encapsulamiento\n",
        "\n",
        "class Decoder:\n",
        "    _chanels: list # Atributo protegido\n",
        "\n",
        "    def __init__(self, chanels: list = None):\n",
        "        self._chanels = chanels if chanels else [\"ch1\", \"ch2\", \"ch3\"]\n",
        "\n",
        "    def add_chanel(self, chanel: str): # Public method\n",
        "        self._chanels.append(chanel)\n",
        "\n",
        "    def list_chanels(self): # Public method\n",
        "        print(\", \".join(self._chanels))\n",
        "\n",
        "    def __decode_chanel(self, chanel: str): # Private method\n",
        "        print(f\"brrrr decoding chanel {chanel}.\")\n",
        "\n",
        "    def watch_chanel(self, chanel: str): # Public method\n",
        "        self.__decode_chanel(chanel)\n",
        "        print(f\"watching {chanel}\")\n",
        "\n",
        "decoder = Decoder()\n",
        "decoder.add_chanel(\"custom chanel\")\n",
        "decoder.list_chanels()\n",
        "\n",
        "# Guess what is going to happen\n",
        "decoder.watch_chanel(\"ch1\")\n",
        "print(decoder._chanels)\n",
        "# decoder.__decode_chanel(\"ch1\")\n",
        "\n",
        "# Name mangling\n",
        "# decoder._Decoder__decode_chanel(\"ch1\")"
      ],
      "metadata": {
        "colab": {
          "base_uri": "https://localhost:8080/"
        },
        "id": "G-LGAEF044Bz",
        "outputId": "c3df8a53-2c8c-4192-8811-d6fd1838f62c"
      },
      "execution_count": null,
      "outputs": [
        {
          "output_type": "stream",
          "name": "stdout",
          "text": [
            "ch1, ch2, ch3, custom chanel\n",
            "brrrr decoding chanel ch1.\n",
            "watching ch1\n",
            "['ch1', 'ch2', 'ch3', 'custom chanel']\n",
            "brrrr decoding chanel ch1.\n"
          ]
        }
      ]
    },
    {
      "cell_type": "markdown",
      "source": [
        "## Herencia y polimorfismo en python\n",
        "\n",
        "Si bien los conceptos de herencia y polimorfismos pueden parecer similares, la principal diferencia es que en herencia, tenemos una relacion gerarquica donde se hereda una estructura, atributos y metodos de una clase ya existente, mientras que en polimorfismo podemos implementar \"lo mismo\" de diferentes maneras.\n",
        "\n",
        "Se analiza en mas profundidad en el siguiente ejemplo"
      ],
      "metadata": {
        "id": "droFgOwL2IdI"
      }
    },
    {
      "cell_type": "code",
      "execution_count": null,
      "metadata": {
        "id": "zNeQTjdrKNr9",
        "colab": {
          "base_uri": "https://localhost:8080/"
        },
        "outputId": "627c9260-53e0-47ba-8f08-dbed72616027"
      },
      "outputs": [
        {
          "output_type": "stream",
          "name": "stdout",
          "text": [
            "ch1, ch2, ch3, custom chanel\n",
            "You are watching ch1 on Flow\n"
          ]
        }
      ],
      "source": [
        "# Herencia y polimorfismo\n",
        "\n",
        "class FlowDecoder(Decoder):\n",
        "    # Using polimorfism in this method, to implement this method in Flow way.\n",
        "    def watch_chanel(self, chanel: str):\n",
        "        print(f\"You are watching {chanel} on Flow\")\n",
        "\n",
        "\n",
        "decoder_flow = FlowDecoder() # This is using inheritance\n",
        "decoder_flow.add_chanel(\"custom chanel\") # This is using inheritance\n",
        "decoder_flow.list_chanels() # This is using inheritance\n",
        "\n",
        "decoder_flow.watch_chanel(\"ch1\")"
      ]
    },
    {
      "cell_type": "markdown",
      "source": [
        "## Interfaces\n",
        "\n",
        "En la programación orientada a objetos, una interfaz representa/define un conjunto de métodos que un objeto debe tener para desempeñar una función específica en nuestro sistema. En otras palabras, el interfaz define el comportamiento y las acciones que se pueden realizar con un objeto. Es esencial tener en cuenta que los interfaces no contienen una implementación en sí mismos, es decir, no contienen código asociado. El enfoque del interfaz se centra en el \"qué\" se debe hacer y no en el \"cómo\" se debe hacer.\n",
        "\n",
        "En el proximo ejemplo, usando codigo de la clase pasada vamos a poder visualizar cuando las interfaces empiezan a ser de utilidad"
      ],
      "metadata": {
        "id": "ezbba2HfBXN4"
      }
    },
    {
      "cell_type": "code",
      "source": [
        "\"\"\"Simple script that tries to model the behaviour of simple food payment\"\"\"\n",
        "from typing import List\n",
        "from dataclasses import dataclass\n",
        "\n",
        "class MpPaymentHandler:\n",
        "    def handle_payment(self, amount: int) -> None:\n",
        "        print(f\"Charging ${amount:.2f} using Mercado pago\")\n",
        "\n",
        "class UalaPaymentHandler:\n",
        "    def handle_payment(self, amount: int) -> None:\n",
        "        print(f\"Charging ${amount:.2f} using Uala\")\n",
        "\n",
        "class VisaPaymentHandler:\n",
        "    def handle_payment(self, amount: int) -> None:\n",
        "        print(f\"Charging ${amount:.2f} using Visa\")\n",
        "\n",
        "@dataclass\n",
        "class Food:\n",
        "    name: str\n",
        "    description: str\n",
        "    price: int\n",
        "\n",
        "\n",
        "def order_food(items: List[Food], payment_handler) -> None:\n",
        "    total = sum(item.price for item in items)\n",
        "    payment_handler.handle_payment(total)\n",
        "\n",
        "\n",
        "def main() -> None:\n",
        "    burger = Food(\"Burger\", \"no mayo\", 3000)\n",
        "    fries = Food(\"Fries\", \"with ketchup\", 1000)\n",
        "    coke = Food(\"Coke\", \"no ice\", 800)\n",
        "    order_food([burger, fries, coke], MpPaymentHandler())\n",
        "    order_food([burger, fries, coke], UalaPaymentHandler())\n",
        "    order_food([burger, fries, coke], VisaPaymentHandler())\n",
        "\n",
        "main()"
      ],
      "metadata": {
        "colab": {
          "base_uri": "https://localhost:8080/"
        },
        "id": "uecq8nXcIOz1",
        "outputId": "6f41c1c0-7c60-4c9c-df65-af1c38945adb"
      },
      "execution_count": null,
      "outputs": [
        {
          "output_type": "stream",
          "name": "stdout",
          "text": [
            "Charging $4800.00 using Mercado pago\n",
            "Charging $4800.00 using Uala\n",
            "Charging $4800.00 using Visa\n"
          ]
        }
      ]
    },
    {
      "cell_type": "markdown",
      "source": [
        "### Interfaces informales\n",
        "\n",
        "Las interfaces informales pueden ser definidas con una simple clase que no implementa los métodos, lo podríamos escribir en Python como:"
      ],
      "metadata": {
        "id": "5jaR8YnJH0Q9"
      }
    },
    {
      "cell_type": "code",
      "source": [
        "class PaymentHandler:\n",
        "    def handle_payment(self, amount: int) -> None:\n",
        "        pass\n",
        "\n",
        "class MpPaymentHandler(PaymentHandler):\n",
        "    def handle_payment(self, amount: int) -> None:\n",
        "        print(f\"Charging ${amount:.2f} using Mercado pago\")\n",
        "\n",
        "class UalaPaymentHandler(PaymentHandler):\n",
        "    def handle_payment(self, amount: int) -> None:\n",
        "        print(f\"Charging ${amount:.2f} using Uala\")\n",
        "\n",
        "class VisaPaymentHandler(PaymentHandler):\n",
        "    def handle_payment(self, amount: int) -> None:\n",
        "        print(f\"Charging ${amount:.2f} using Visa\")\n",
        "\n",
        "def order_food(items: List[Food], payment_handler: PaymentHandler) -> None:\n",
        "    total = sum(item.price for item in items)\n",
        "    payment_handler.handle_payment(total)\n",
        "\n",
        "def main() -> None:\n",
        "    burger = Food(\"Burger\", \"no mayo\", 3000)\n",
        "    fries = Food(\"Fries\", \"with ketchup\", 1000)\n",
        "    coke = Food(\"Coke\", \"no ice\", 800)\n",
        "    order_food([burger, fries, coke], MpPaymentHandler())\n",
        "    order_food([burger, fries, coke], UalaPaymentHandler())\n",
        "    order_food([burger, fries, coke], VisaPaymentHandler())\n",
        "\n",
        "main()"
      ],
      "metadata": {
        "id": "cyvCxXISMLt5",
        "colab": {
          "base_uri": "https://localhost:8080/"
        },
        "outputId": "c7e44911-b6fe-48ef-c1f6-3ff94e3f3cdc"
      },
      "execution_count": null,
      "outputs": [
        {
          "output_type": "stream",
          "name": "stdout",
          "text": [
            "Charging $4800.00 using Mercado pago\n",
            "Charging $4800.00 using Uala\n"
          ]
        }
      ]
    },
    {
      "cell_type": "markdown",
      "source": [
        "### Interfaces formales\n",
        "\n",
        "En Python, los interfaces formales pueden ser creados utilizando el módulo predeterminado llamado ABC (Abstract Base Classes). Las ABC fueron introducidas en Python a través de la [PEP 3119](https://peps.python.org/pep-3119/).\n",
        "\n",
        "Estas clases abstractas proporcionan una manera de definir interfaces, utilizando metaclases, en las cuales se especifican los métodos que deben ser implementados por las clases que utilicen dicho interfaz. Sin embargo, estos métodos no son implementados en el propio interfaz. Veamos algunos ejemplos ilustrativos."
      ],
      "metadata": {
        "id": "j5-xrNkKKly_"
      }
    },
    {
      "cell_type": "code",
      "source": [
        "from abc import ABC, abstractmethod\n",
        "# ABC means abstract base class\n",
        "\n",
        "class PaymentHandler(ABC):\n",
        "    @abstractmethod\n",
        "    def handle_payment(self, amount: int) -> None:\n",
        "        pass\n",
        "\n",
        "class HistoryTracker(ABC):\n",
        "    @abstractmethod\n",
        "    def _add_history(self, action) -> None:\n",
        "        pass\n",
        "\n",
        "    @abstractmethod\n",
        "    def get_history(self) -> list:\n",
        "        pass\n",
        "\n",
        "class MpPaymentHandler(PaymentHandler, HistoryTracker):\n",
        "    __history: list\n",
        "\n",
        "    def __init__(self):\n",
        "        self.__history = []\n",
        "\n",
        "    def handle_payment(self, amount: int) -> None:\n",
        "        self._add_history(f\"$Payment: {amount:.2f}\")\n",
        "        print(f\"Charging ${amount:.2f} using Mercado pago\")\n",
        "\n",
        "    def _add_history(self, action: str) -> None:\n",
        "        self.__history.append(action)\n",
        "\n",
        "    def get_history(self) -> list:\n",
        "        return self.__history.copy()\n",
        "\n",
        "class UalaPaymentHandler(PaymentHandler):\n",
        "    def handle_payment(self, amount: int) -> None:\n",
        "        print(f\"Charging ${amount:.2f} using Uala\")\n",
        "\n",
        "class VisaPaymentHandler(PaymentHandler):\n",
        "    def handle_payment(self, amount: int) -> None:\n",
        "        print(f\"Charging ${amount:.2f} using Visa\")\n",
        "\n",
        "def order_food(items: List[Food], payment_handler: PaymentHandler) -> None:\n",
        "    total = sum(item.price for item in items)\n",
        "    payment_handler.handle_payment(total)\n",
        "\n",
        "def print_history(tracker: HistoryTracker):\n",
        "    [print(action) for action in tracker.get_history()]\n",
        "\n",
        "def main() -> None:\n",
        "    mp_handler = MpPaymentHandler()\n",
        "    uala_handler = UalaPaymentHandler()\n",
        "    visa_handler = VisaPaymentHandler()\n",
        "    burger = Food(\"Burger\", \"no mayo\", 3000)\n",
        "    fries = Food(\"Fries\", \"with ketchup\", 1000)\n",
        "    coke = Food(\"Coke\", \"no ice\", 800)\n",
        "    order_food([fries, coke], mp_handler)\n",
        "    order_food([burger, fries, coke], mp_handler)\n",
        "    order_food([burger, fries, coke], uala_handler)\n",
        "    order_food([burger, fries, coke], visa_handler)\n",
        "    print_history(mp_handler)\n",
        "\n",
        "main()"
      ],
      "metadata": {
        "id": "rzUNWy3HKovx",
        "colab": {
          "base_uri": "https://localhost:8080/"
        },
        "outputId": "c1587fb8-5579-43b0-da55-5e60c393fb49"
      },
      "execution_count": null,
      "outputs": [
        {
          "output_type": "stream",
          "name": "stdout",
          "text": [
            "Charging $1800.00 using Mercado pago\n",
            "Charging $4800.00 using Mercado pago\n",
            "Charging $4800.00 using Uala\n",
            "Charging $4800.00 using Visa\n",
            "$Payment: 1800.00\n",
            "$Payment: 4800.00\n"
          ]
        }
      ]
    },
    {
      "cell_type": "markdown",
      "source": [
        "## Duck Typing\n",
        "\n",
        "El duck typing se refiere a un estilo de tipificación dinámica de datos en el cual la validez semántica de un objeto se determina por el conjunto actual de métodos y propiedades que posee, en lugar de basarse en la herencia de una clase específica o la implementación de una interfaz particular. El término duck typing proviene de la frase: \"Si camina como un pato, nada como un pato y suena como un pato, entonces es un pato\".\n",
        "\n",
        "En duck typing, el programador se enfoca únicamente en los aspectos del objeto que se van a utilizar, sin preocuparse por el tipo de objeto en sí. Por ejemplo, en un lenguaje sin duck typing, se podría crear una función que reciba un objeto de tipo \"Pato\" y llame a los métodos \"caminar\" y \"cuackear\" de ese objeto. En cambio, en un lenguaje con duck typing, la función equivalente aceptaría un objeto de cualquier tipo y llamaría a los métodos \"caminar\" y \"cuackear\", si el objeto no tiene los métodos requeridos, se generaría un error en tiempo de ejecución."
      ],
      "metadata": {
        "id": "Tn0U-DbRnZE_"
      }
    },
    {
      "cell_type": "markdown",
      "source": [
        "### Duck typing en python\n",
        "\n",
        "Python es un lenguaje que posee duck typing y la manera en que nosotros podemos hacer uso de este en una forma segura es utilizando la clase Protocol,\n",
        "\n",
        "Protocol es parte del módulo typing y se utiliza para definir interfaces o contratos en el contexto del duck typing, un protocol es una especificación de los métodos y atributos que se esperan que tenga un objeto sin requerir una herencia formal o implementación explícita de una interfaz.\n",
        "\n",
        "Al heredar de la clase Protocol, vamos a poder definir un protocolo indicando los métodos y atributos que se deben implementar en las clases que pretendan cumplir ese protocolo. Esto ayuda a proporcionar claridad y garantizar que los objetos cumplan con ciertos requisitos sin necesidad de heredar de una clase específica."
      ],
      "metadata": {
        "id": "1ZzLU-dnph5S"
      }
    },
    {
      "cell_type": "code",
      "source": [
        "from typing import Protocol\n",
        "\n",
        "class PaymentHandler(Protocol):\n",
        "    def handle_payment(self, amount: int) -> None:\n",
        "        pass\n",
        "\n",
        "class HistoryTracker(Protocol):\n",
        "    def add_history(self, action) -> None:\n",
        "        pass\n",
        "\n",
        "    def get_history(self) -> list:\n",
        "        pass\n",
        "\n",
        "class MpPaymentHandler():\n",
        "    __history: list\n",
        "\n",
        "    def __init__(self):\n",
        "        self.__history = []\n",
        "\n",
        "    def handle_payment(self, amount: int) -> None:\n",
        "        self.add_history(f\"$Payment: {amount:.2f}\")\n",
        "        print(f\"Charging ${amount:.2f} using Mercado pago\")\n",
        "\n",
        "    def add_history(self, action: str) -> None:\n",
        "        self.__history.append(action)\n",
        "\n",
        "    def get_history(self) -> list:\n",
        "        return self.__history.copy()\n",
        "\n",
        "class UalaPaymentHandler():\n",
        "    def handle_payment(self, amount: int) -> None:\n",
        "        print(f\"Charging ${amount:.2f} using Uala\")\n",
        "\n",
        "class VisaPaymentHandler():\n",
        "    def handle_payment(self, amount: int) -> None:\n",
        "        print(f\"Charging ${amount:.2f} using Visa\")\n",
        "\n",
        "def order_food(items: List[Food], payment_handler: PaymentHandler) -> None:\n",
        "    total = sum(item.price for item in items)\n",
        "    payment_handler.handle_payment(total)\n",
        "\n",
        "def print_history(tracker: HistoryTracker):\n",
        "    [print(action) for action in tracker.get_history()]\n",
        "\n",
        "def main() -> None:\n",
        "    mp_handler = MpPaymentHandler()\n",
        "    uala_handler = UalaPaymentHandler()\n",
        "    visa_handler = VisaPaymentHandler()\n",
        "    burger = Food(\"Burger\", \"no mayo\", 3000)\n",
        "    fries = Food(\"Fries\", \"with ketchup\", 1000)\n",
        "    coke = Food(\"Coke\", \"no ice\", 800)\n",
        "    order_food([fries, coke], mp_handler)\n",
        "    order_food([burger, fries, coke], mp_handler)\n",
        "    order_food([burger, fries, coke], uala_handler)\n",
        "    order_food([burger, fries, coke], visa_handler)\n",
        "    print_history(mp_handler)\n",
        "\n",
        "main()"
      ],
      "metadata": {
        "colab": {
          "base_uri": "https://localhost:8080/"
        },
        "id": "TvmmBhTjpfg-",
        "outputId": "ab224363-5b28-46b4-93e7-a2566565d507"
      },
      "execution_count": null,
      "outputs": [
        {
          "output_type": "stream",
          "name": "stdout",
          "text": [
            "Charging $1800.00 using Mercado pago\n",
            "Charging $4800.00 using Mercado pago\n",
            "Charging $4800.00 using Uala\n",
            "Charging $4800.00 using Visa\n",
            "$Payment: 1800.00\n",
            "$Payment: 4800.00\n"
          ]
        }
      ]
    },
    {
      "cell_type": "markdown",
      "source": [
        "## Conclusion\n",
        "\n",
        "La programacion orientada a objetos es una gran herramienta y nos sirve especialmente para poder modelar problemas de la vida real en codigo, y es importante que sepamos como usarla.\n",
        "\n",
        "Python soporta tanto el uso de interfaces con ABC como de Duck Typing \"seguro\" con Protocol, para casos de herencia simple, ABC puede ser la respuesta, pero en caso de herencia mas compleja, Protocol puede ayudarnos a tener mas desacoplado el codigo y que sea mas facil de entender.\n",
        "\n",
        "### Algunos tips a la hora de programar con objetos\n",
        "\n",
        "- No te olvides que podemos combinar la programacion orientada a objetos con programacion funcional en python y muchas veces esta es la mejor manera de adaptar codigo al problema\n",
        "\n",
        "- Tengan mucho cuidado con herencias complejas, hay que tratar de evitarlos, ya que suelen generar codigo muy anidado, mucho acoplamiento dentro del codigo y da menos legibilidad al codigo\n",
        "\n",
        "- Busca modelar clases que sean completamente orientada a modelar datos (Data classes) o completamente orientada a modelar comportamientos, de esta manera solemos evitar tener clases sumamente complejas y con gran cantidad de estados y comportamientos\n",
        "\n",
        "- Cuidado con las funcionalidades mas complejas en python (Por ejemplo: usar metodos dunder, keywords complejas como \"object\", meta clases y mas) hay que tratar de evitarlas en caso de poder resolverlos de otra manera"
      ],
      "metadata": {
        "id": "CsjgeZPVPW6i"
      }
    }
  ]
}