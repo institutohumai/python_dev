{
  "nbformat": 4,
  "nbformat_minor": 0,
  "metadata": {
    "colab": {
      "provenance": []
    },
    "kernelspec": {
      "name": "python3",
      "display_name": "Python 3"
    },
    "language_info": {
      "name": "python"
    }
  },
  "cells": [
    {
      "cell_type": "markdown",
      "source": [
        "Supón que tienes un banco con una cuenta única. Este banco tiene 5 cajeros que pueden realizar transacciones en la cuenta. Cada cajero puede depositar y retirar dinero de la cuenta. Para mantener la integridad de la cuenta, necesitas asegurarte de que sólo un cajero a la vez pueda realizar una transacción.\n",
        "\n",
        "A continuacion se propone un esquema que puede ser util para iniciar."
      ],
      "metadata": {
        "id": "89JWhZFrDzaZ"
      }
    },
    {
      "cell_type": "code",
      "execution_count": null,
      "metadata": {
        "colab": {
          "base_uri": "https://localhost:8080/"
        },
        "id": "4Zz-XPDwBxeU",
        "outputId": "a6fc8d74-c007-4bd9-a8bc-a82aa07e8a70"
      },
      "outputs": [
        {
          "output_type": "stream",
          "name": "stdout",
          "text": [
            "Deposito de: 10, balance previo: 100, balance actual: 110\n",
            "Deposito de: 10, balance previo: 110, balance actual: 120\n",
            "Retiro de: 20, balance previo: 120, balance actual: 100\n",
            "Deposito de: 30, balance previo: 100, balance actual: 130\n",
            "Deposito de: 10, balance previo: 130, balance actual: 140\n",
            "Retiro de: 20, balance previo: 140, balance actual: 120\n",
            "Deposito de: 30, balance previo: 120, balance actual: 150\n",
            "Retiro de: 10, balance previo: 150, balance actual: 140\n",
            "Retiro de: 10, balance previo: 140, balance actual: 130\n",
            "Deposito de: 50, balance previo: 130, balance actual: 180\n",
            "Retiro de: 20, balance previo: 180, balance actual: 160\n",
            "Deposito de: 30, balance previo: 160, balance actual: 190\n",
            "Retiro de: 20, balance previo: 190, balance actual: 170\n",
            "Retiro de: 30, balance previo: 170, balance actual: 140\n",
            "Deposito de: 50, balance previo: 140, balance actual: 190\n",
            "Deposito de: 10, balance previo: 190, balance actual: 200\n",
            "Deposito de: 50, balance previo: 200, balance actual: 250\n",
            "Retiro de: 20, balance previo: 250, balance actual: 230\n",
            "Deposito de: 30, balance previo: 230, balance actual: 260\n",
            "Retiro de: 20, balance previo: 260, balance actual: 240\n",
            "Retiro de: 30, balance previo: 240, balance actual: 210\n",
            "Deposito de: 50, balance previo: 210, balance actual: 260\n",
            "Retiro de: 20, balance previo: 260, balance actual: 240\n",
            "Retiro de: 20, balance previo: 240, balance actual: 220\n",
            "Retiro de: 20, balance previo: 220, balance actual: 200\n",
            "Deposito de: 30, balance previo: 200, balance actual: 230\n",
            "Retiro de: 10, balance previo: 230, balance actual: 220\n",
            "Deposito de: 50, balance previo: 220, balance actual: 270\n",
            "Retiro de: 20, balance previo: 270, balance actual: 250\n",
            "Deposito de: 30, balance previo: 250, balance actual: 280\n",
            "Retiro de: 20, balance previo: 280, balance actual: 260\n",
            "Retiro de: 30, balance previo: 260, balance actual: 230\n",
            "Deposito de: 50, balance previo: 230, balance actual: 280\n",
            "Retiro de: 20, balance previo: 280, balance actual: 260\n",
            "Deposito de: 10, balance previo: 260, balance actual: 270\n",
            "Retiro de: 20, balance previo: 270, balance actual: 250\n",
            "Deposito de: 30, balance previo: 250, balance actual: 280\n",
            "Retiro de: 10, balance previo: 280, balance actual: 270\n",
            "Deposito de: 50, balance previo: 270, balance actual: 320\n",
            "Retiro de: 20, balance previo: 320, balance actual: 300\n",
            "Deposito de: 30, balance previo: 300, balance actual: 330\n",
            "Retiro de: 20, balance previo: 330, balance actual: 310\n",
            "Retiro de: 30, balance previo: 310, balance actual: 280\n",
            "Retiro de: 20, balance previo: 280, balance actual: 260\n",
            "Deposito de: 30, balance previo: 260, balance actual: 290\n",
            "Retiro de: 10, balance previo: 290, balance actual: 280\n",
            "Deposito de: 50, balance previo: 280, balance actual: 330\n",
            "Retiro de: 20, balance previo: 330, balance actual: 310\n",
            "Deposito de: 30, balance previo: 310, balance actual: 340\n",
            "Retiro de: 20, balance previo: 340, balance actual: 320\n",
            "Retiro de: 30, balance previo: 320, balance actual: 290\n",
            "Deposito de: 50, balance previo: 290, balance actual: 340\n",
            "Retiro de: 20, balance previo: 340, balance actual: 320\n",
            "Deposito de: 50, balance previo: 320, balance actual: 370\n",
            "Retiro de: 20, balance previo: 370, balance actual: 350\n",
            "Balance final: 350\n"
          ]
        }
      ],
      "source": [
        "import threading\n",
        "import time\n",
        "\n",
        "balance = {'monto': 100}  # Balance inicial almacenado en un diccionario\n",
        "lock = threading.Lock()\n",
        "\n",
        "def depositar(balance, cantidad):\n",
        "    with lock:\n",
        "        balance_previo = balance['monto']\n",
        "        time.sleep(0.01)\n",
        "        balance['monto'] += cantidad\n",
        "        print(f\"Deposito de: {cantidad}, balance previo: {balance_previo}, balance actual: {balance['monto']}\")\n",
        "\n",
        "def retirar(balance, cantidad):\n",
        "    with lock:\n",
        "        balance_previo = balance['monto']\n",
        "        time.sleep(0.1)\n",
        "        balance['monto'] -= cantidad\n",
        "        print(f\"Retiro de: {cantidad}, balance previo: {balance_previo}, balance actual: {balance['monto']}\")\n",
        "\n",
        "def operar_cajero(balance, transacciones):\n",
        "    for transaccion in transacciones:\n",
        "        if transaccion > 0:\n",
        "            depositar(balance, transaccion)\n",
        "        else:\n",
        "            retirar(balance, -transaccion)\n",
        "\n",
        "transacciones = [10, -20, 30, -10, 50, -20, 30, -20, -30, 50, -20]\n",
        "\n",
        "cajeros = [threading.Thread(target=operar_cajero, args=(balance, transacciones)) for _ in range(5)]\n",
        "\n",
        "for cajero in cajeros:\n",
        "    cajero.start()\n",
        "for cajero in cajeros:\n",
        "    cajero.join()\n",
        "\n",
        "\n",
        "print(f\"Balance final: {balance['monto']}\")\n"
      ]
    },
    {
      "cell_type": "code",
      "source": [
        "sum([100] + [10, -20, 30, -10, 50, -20, 30, -20, -30, 50, -20] * 5)"
      ],
      "metadata": {
        "colab": {
          "base_uri": "https://localhost:8080/"
        },
        "id": "DQB8JsqfCIeR",
        "outputId": "aaf06f31-6025-45c6-8616-fdd4c7a1d280"
      },
      "execution_count": null,
      "outputs": [
        {
          "output_type": "execute_result",
          "data": {
            "text/plain": [
              "350"
            ]
          },
          "metadata": {},
          "execution_count": 2
        }
      ]
    },
    {
      "cell_type": "code",
      "source": [],
      "metadata": {
        "id": "018rVCWZCPOv"
      },
      "execution_count": null,
      "outputs": []
    }
  ]
}