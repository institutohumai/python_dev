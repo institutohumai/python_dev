{
  "nbformat": 4,
  "nbformat_minor": 0,
  "metadata": {
    "colab": {
      "provenance": []
    },
    "kernelspec": {
      "name": "python3",
      "display_name": "Python 3"
    },
    "language_info": {
      "name": "python"
    }
  },
  "cells": [
    {
      "cell_type": "markdown",
      "source": [
        "Supón que tienes un banco con una cuenta única. Este banco tiene 5 cajeros que pueden realizar transacciones en la cuenta. Cada cajero puede depositar y retirar dinero de la cuenta. Para mantener la integridad de la cuenta, necesitas asegurarte de que sólo un cajero a la vez pueda realizar una transacción.\n",
        "\n",
        "A continuacion se propone un esquema que puede ser util para iniciar."
      ],
      "metadata": {
        "id": "qsCcDhTn-9FL"
      }
    },
    {
      "cell_type": "code",
      "source": [
        "import threading\n",
        "\n",
        "balance = {'monto': 100}  # Balance inicial almacenado en un diccionario (es importante que esto sea un tipo de dato mutable)\n",
        "\n",
        "\n",
        "def depositar(balance, cantidad):\n",
        "    ...\n",
        "\n",
        "def retirar(balance, cantidad):\n",
        "    \"\"\"resta la cantidad indicada del balance\"\"\"\n",
        "    ...\n",
        "\n",
        "def operar_cajero(balance, transacciones):\n",
        "    \"\"\"usa las funciones de depositar o retirar segun sea el signo de la transaccion\"\"\"\n",
        "    ...\n",
        "\n",
        "\n",
        "transacciones = [10, -20, 30, -10, 50, -20, 30, -20, -30, 50, -20]\n",
        "\n",
        "\n"
      ],
      "metadata": {
        "id": "Ksgrzx6c_TNE"
      },
      "execution_count": null,
      "outputs": []
    }
  ]
}