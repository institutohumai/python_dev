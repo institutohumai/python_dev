{
 "cells": [
  {
   "cell_type": "markdown",
   "metadata": {},
   "source": [
    "<a href=\"https://colab.research.google.com/github/institutohumai/cursos-python/blob/master/PracticasDeDesarrollo/GIT/git_ejercicios.ipynb\" target=\"_parent\"><img src=\"https://colab.research.google.com/assets/colab-badge.svg\" alt=\"Open In Colab\" data-canonical-src=\"https://colab.research.google.com/assets/colab-badge.svg\"></a>"
   ]
  },
  {
   "cell_type": "markdown",
   "metadata": {},
   "source": [
    "### Ejercicios Git"
   ]
  },
  {
   "cell_type": "markdown",
   "metadata": {},
   "source": [
    "1. En tu sistema local, configurar Git definiendo el nombre del usuario y el correo electrónico. Ver el resultado final con `git config --list` "
   ]
  },
  {
   "cell_type": "markdown",
   "metadata": {},
   "source": [
    "2. Crear un repositorio llamado `scraping`"
   ]
  },
  {
   "cell_type": "markdown",
   "metadata": {},
   "source": [
    "3. Haciendo un commit: \n",
    "\n",
    "- Comprobar el estado del repositorio\n",
    "- Crear un archivo `README.md` vacío.\n",
    "- Ver el estado nuevamente\n",
    "- Agregar el archivo a staging.\n",
    "- Hacer un commit con el nuevo archivo, con el mensaje \"Agregando README\"."
   ]
  },
  {
   "cell_type": "markdown",
   "metadata": {},
   "source": [
    "4. Moverse a una nueva rama (_branch_) llamada `links`"
   ]
  },
  {
   "cell_type": "markdown",
   "metadata": {},
   "source": [
    "5. Agregar los el siguiente contenido al archivo `README`: \n",
    "   \n",
    "```markdown\n",
    "# Links\n",
    "- https://www.atlassian.com/git/tutorials/advanced-overview\n",
    "- https://dev.to/ruppysuppy/advanced-git-concepts-you-should-know-nle\n",
    "- http://tombatossals.github.io/git-puesto-en-practica/ejemplos/\n",
    "- https://ihumai.medium.com/gitflow-colaborando-en-git-4046f4a95c9c\n",
    "```"
   ]
  },
  {
   "cell_type": "markdown",
   "metadata": {},
   "source": [
    "6. Hacer un **merge** a la rama `main` (o `master`) de la rama `links` "
   ]
  },
  {
   "cell_type": "markdown",
   "metadata": {},
   "source": [
    "7. Listar todas las ramas"
   ]
  },
  {
   "cell_type": "markdown",
   "metadata": {},
   "source": [
    "8. Crear un repositorio público en tu cuenta de GitHub llamado `scraping-humai`"
   ]
  },
  {
   "cell_type": "markdown",
   "metadata": {},
   "source": [
    "9.  Agregar a `mtsgrinberg@gmail.com` como colaborador"
   ]
  },
  {
   "cell_type": "markdown",
   "metadata": {},
   "source": [
    "10. Agregar al repositorio en GitHub como `origin` en tu repositorio local `scraping`"
   ]
  },
  {
   "cell_type": "markdown",
   "metadata": {},
   "source": [
    "11. Hacer `push` de tu rama `main` del repositorio `scraping` al `main` en el repositorio remoto "
   ]
  },
  {
   "cell_type": "markdown",
   "metadata": {},
   "source": [
    "12. Crear otra rama a partir de main llamada `maslinks` y agregar 1 link a tu elección tomado de Internet que hable sobre Git"
   ]
  },
  {
   "cell_type": "markdown",
   "metadata": {},
   "source": [
    "13. Publicar la rama `maslinks` en el repositorio en Github"
   ]
  },
  {
   "cell_type": "markdown",
   "metadata": {},
   "source": [
    "14. Crear un **Pull Request** de `maslinks` a `main`. \n",
    "    - Agregar una descripción al PR.  \n",
    "    - Asignar a `mtsgrinberg@gmail.com` como `Reviewer` (revisor)"
   ]
  }
 ],
 "metadata": {
  "interpreter": {
   "hash": "988c801e8fa6188d3e53012a7256361dd6100dad47899d4700f624e035bcb20b"
  },
  "kernelspec": {
   "display_name": "Python 3.8.8 ('base')",
   "language": "python",
   "name": "python3"
  },
  "language_info": {
   "name": "python",
   "version": "3.8.8"
  },
  "orig_nbformat": 4
 },
 "nbformat": 4,
 "nbformat_minor": 2
}
