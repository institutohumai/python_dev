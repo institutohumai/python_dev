{
  "nbformat": 4,
  "nbformat_minor": 0,
  "metadata": {
    "colab": {
      "provenance": [],
      "collapsed_sections": []
    },
    "kernelspec": {
      "name": "python3",
      "display_name": "Python 3"
    },
    "language_info": {
      "name": "python"
    }
  },
  "cells": [
    {
      "cell_type": "markdown",
      "source": [
        "# ¿Que son las buenas practicas y por que las necesitamos?\n"
      ],
      "metadata": {
        "id": "VgeFdjaA7k2j"
      }
    },
    {
      "cell_type": "markdown",
      "source": [
        "# La buenas practicas en Python\n"
      ],
      "metadata": {
        "id": "KQ00knvQDASd"
      }
    },
    {
      "cell_type": "markdown",
      "source": [
        "## Red Flags de que no estas siguiendo las mejores practicas\n",
        "### (O estas haciendo cosas que nunca o casi nunca deberias permitir)"
      ],
      "metadata": {
        "id": "2QmofA9OF51W"
      }
    },
    {
      "cell_type": "code",
      "source": [
        "#colocar un elemento mutable como valor por defecto en un parametro\n",
        "def añadir_numero(numero, numeros=None):\n",
        "    if numeros is None:\n",
        "        numeros = []\n",
        "    numeros.append(numero)\n",
        "    return numeros\n"
      ],
      "metadata": {
        "id": "8qbuYWBqGF1y"
      },
      "execution_count": null,
      "outputs": []
    },
    {
      "cell_type": "code",
      "source": [
        "numeros_1 = añadir_numero(3) # [3]\n",
        "print(numeros_1)"
      ],
      "metadata": {
        "colab": {
          "base_uri": "https://localhost:8080/"
        },
        "id": "3au6pnhb9iUi",
        "outputId": "474156d3-5b0e-445b-a19c-be7a7e65d39a"
      },
      "execution_count": null,
      "outputs": [
        {
          "output_type": "stream",
          "name": "stdout",
          "text": [
            "[3]\n"
          ]
        }
      ]
    },
    {
      "cell_type": "code",
      "source": [
        "numeros_2 = añadir_numero(5) # [5]\n",
        "print(numeros_2)"
      ],
      "metadata": {
        "colab": {
          "base_uri": "https://localhost:8080/"
        },
        "id": "Ws80PbbV5ENJ",
        "outputId": "7769de5e-0066-41a1-a743-e9394939e439"
      },
      "execution_count": null,
      "outputs": [
        {
          "output_type": "stream",
          "name": "stdout",
          "text": [
            "[5]\n"
          ]
        }
      ]
    },
    {
      "cell_type": "code",
      "source": [
        "#@title no usar global keyword ni permitir que las funciones sepan de variables fuera de su scope (alcance)\n",
        "\n",
        "\n",
        "def modificar_variable_1():\n",
        "    global y\n",
        "    y = 500\n",
        "\n",
        "def modificar_variable(y):\n",
        "    return \"Yo no soy\"\n",
        "\n",
        "def modificar_variable_2(y):\n",
        "    y = 360\n",
        "    return y"
      ],
      "metadata": {
        "id": "d558SdgrGuZ3"
      },
      "execution_count": null,
      "outputs": []
    },
    {
      "cell_type": "code",
      "source": [
        "y = 10\n",
        "\n",
        "print(f\"antes de llamar a la funcion y es {y}\")\n",
        "\n",
        "# CUAL DE ESTAS FUNCIONES CREES QUE ESTA MODIFICANDO EL VALOR DE LA VARIABLE???\n",
        "modificar_variable(y)     # FUNCION 0\n",
        "modificar_variable_1()    # FUNCION 1\n",
        "modificar_variable_2(y)   # FUNCION 2\n",
        "\n",
        "print(f\"despues de llamar a la funcion y es {y}\")\n"
      ],
      "metadata": {
        "colab": {
          "base_uri": "https://localhost:8080/"
        },
        "id": "nNc6M7vWEZ6s",
        "outputId": "f1db25c4-2d9e-4d0f-c5a7-e138d09cee66"
      },
      "execution_count": null,
      "outputs": [
        {
          "output_type": "stream",
          "name": "stdout",
          "text": [
            "antes de llamar a la funcion y es 10\n",
            "despues de llamar a la funcion y es 500\n"
          ]
        }
      ]
    },
    {
      "cell_type": "markdown",
      "source": [
        "### sobreescribir nombres de variables usados por keywords\n"
      ],
      "metadata": {
        "id": "mLgseHZlI54Z"
      }
    },
    {
      "cell_type": "code",
      "source": [
        "\"\"\"\n",
        "int\n",
        "float\n",
        "bool\n",
        "id\n",
        "def\n",
        "return\n",
        "list\n",
        "dict\n",
        "set\n",
        "type\n",
        "dir\n",
        ".\n",
        ".\n",
        ".\n",
        "\n",
        "\"\"\""
      ],
      "metadata": {
        "id": "Zqq_Nq_J5ERl"
      },
      "execution_count": null,
      "outputs": []
    },
    {
      "cell_type": "code",
      "source": [
        "def hacer_algo(id_: str):\n",
        "    pass"
      ],
      "metadata": {
        "id": "yM26WNtuFWoC"
      },
      "execution_count": null,
      "outputs": []
    },
    {
      "cell_type": "code",
      "source": [],
      "metadata": {
        "id": "HArFxeEPFWrV"
      },
      "execution_count": null,
      "outputs": []
    },
    {
      "cell_type": "markdown",
      "source": [
        "### usar * en imports, o importar demasiadas cosas"
      ],
      "metadata": {
        "id": "-7DT6cib5EVL"
      }
    },
    {
      "cell_type": "code",
      "source": [
        "from pandas import *"
      ],
      "metadata": {
        "id": "ptpli7DP_FJD"
      },
      "execution_count": null,
      "outputs": []
    },
    {
      "cell_type": "code",
      "source": [],
      "metadata": {
        "id": "9x7IUZq9_IC3"
      },
      "execution_count": null,
      "outputs": []
    },
    {
      "cell_type": "code",
      "source": [
        "from pandas import read_csv, DataFrame, Series"
      ],
      "metadata": {
        "id": "93H5SsAJ-ZmT"
      },
      "execution_count": null,
      "outputs": []
    },
    {
      "cell_type": "code",
      "source": [],
      "metadata": {
        "id": "tMhioQvs_I54"
      },
      "execution_count": null,
      "outputs": []
    },
    {
      "cell_type": "code",
      "source": [
        "import pandas as pd"
      ],
      "metadata": {
        "id": "PLzO8dDa_JCY"
      },
      "execution_count": null,
      "outputs": []
    },
    {
      "cell_type": "code",
      "source": [
        "pd.read_csv()"
      ],
      "metadata": {
        "id": "dKgeZGLy_Kqu"
      },
      "execution_count": null,
      "outputs": []
    },
    {
      "cell_type": "markdown",
      "source": [
        "## Estilo de Escritura\n",
        "\n"
      ],
      "metadata": {
        "id": "9flJpn2tDMtE"
      }
    },
    {
      "cell_type": "markdown",
      "source": [
        "### PEP8 (Python Enhancement Propositions)"
      ],
      "metadata": {
        "id": "1zzHspiLHP7P"
      }
    },
    {
      "cell_type": "markdown",
      "source": [
        "Es un manual de estilo al que nos adherimos para seguir un código lo más legible y estandarizado posible, en el contexto de un software de código abierto.\n",
        "\n",
        "Entre las cosas que plantea, se encuentran:\n",
        "\n",
        "- Usar una indentación de cuatro espacios en el código.\n",
        "- Usar variables separadas por guión bajo.\n",
        "- Comenzar los métodos privados de una función con doble guión bajo.\n",
        "- Usar un ancho de 80 caracteres\n",
        "- Siempre usar espacios en lugar de tabs\n",
        "- Y muchas mas..."
      ],
      "metadata": {
        "id": "eWXL4RvOGNKW"
      }
    },
    {
      "cell_type": "markdown",
      "source": [
        "### Pylint"
      ],
      "metadata": {
        "id": "kWw3F-3qGQos"
      }
    },
    {
      "cell_type": "code",
      "source": [
        "!pip install pylint"
      ],
      "metadata": {
        "colab": {
          "base_uri": "https://localhost:8080/"
        },
        "id": "641_8dgDGNNm",
        "outputId": "152a9654-bbb9-47ae-f6f9-61aff9ebf4df"
      },
      "execution_count": null,
      "outputs": [
        {
          "output_type": "stream",
          "name": "stdout",
          "text": [
            "Looking in indexes: https://pypi.org/simple, https://us-python.pkg.dev/colab-wheels/public/simple/\n",
            "Collecting pylint\n",
            "  Downloading pylint-2.15.4-py3-none-any.whl (507 kB)\n",
            "\u001b[K     |████████████████████████████████| 507 kB 7.7 MB/s \n",
            "\u001b[?25hCollecting isort<6,>=4.2.5\n",
            "  Downloading isort-5.10.1-py3-none-any.whl (103 kB)\n",
            "\u001b[K     |████████████████████████████████| 103 kB 63.5 MB/s \n",
            "\u001b[?25hRequirement already satisfied: dill>=0.2 in /usr/local/lib/python3.7/dist-packages (from pylint) (0.3.5.1)\n",
            "Collecting mccabe<0.8,>=0.6\n",
            "  Downloading mccabe-0.7.0-py2.py3-none-any.whl (7.3 kB)\n",
            "Requirement already satisfied: typing-extensions>=3.10.0 in /usr/local/lib/python3.7/dist-packages (from pylint) (4.1.1)\n",
            "Collecting platformdirs>=2.2.0\n",
            "  Downloading platformdirs-2.5.2-py3-none-any.whl (14 kB)\n",
            "Collecting tomlkit>=0.10.1\n",
            "  Downloading tomlkit-0.11.5-py3-none-any.whl (35 kB)\n",
            "Requirement already satisfied: tomli>=1.1.0 in /usr/local/lib/python3.7/dist-packages (from pylint) (2.0.1)\n",
            "Collecting astroid<=2.14.0-dev0,>=2.12.11\n",
            "  Downloading astroid-2.12.11-py3-none-any.whl (264 kB)\n",
            "\u001b[K     |████████████████████████████████| 264 kB 69.6 MB/s \n",
            "\u001b[?25hCollecting typed-ast<2.0,>=1.4.0\n",
            "  Downloading typed_ast-1.5.4-cp37-cp37m-manylinux_2_5_x86_64.manylinux1_x86_64.manylinux_2_12_x86_64.manylinux2010_x86_64.whl (843 kB)\n",
            "\u001b[K     |████████████████████████████████| 843 kB 8.3 MB/s \n",
            "\u001b[?25hCollecting lazy-object-proxy>=1.4.0\n",
            "  Downloading lazy_object_proxy-1.7.1-cp37-cp37m-manylinux_2_5_x86_64.manylinux1_x86_64.manylinux_2_17_x86_64.manylinux2014_x86_64.whl (57 kB)\n",
            "\u001b[K     |████████████████████████████████| 57 kB 6.3 MB/s \n",
            "\u001b[?25hRequirement already satisfied: wrapt<2,>=1.11 in /usr/local/lib/python3.7/dist-packages (from astroid<=2.14.0-dev0,>=2.12.11->pylint) (1.14.1)\n",
            "Installing collected packages: typed-ast, lazy-object-proxy, tomlkit, platformdirs, mccabe, isort, astroid, pylint\n",
            "Successfully installed astroid-2.12.11 isort-5.10.1 lazy-object-proxy-1.7.1 mccabe-0.7.0 platformdirs-2.5.2 pylint-2.15.4 tomlkit-0.11.5 typed-ast-1.5.4\n"
          ]
        }
      ]
    },
    {
      "cell_type": "code",
      "source": [
        "%%writefile pylint_ejemplo_01.py\n",
        "def dados_locos():\n",
        "    import random\n",
        "    import csv\n",
        "    d = {'blanco':1, 'rojo':2, 'verde':3, 'amarillo':4}\n",
        "    dado = random.choice(list(d.keys()))\n",
        "    veces = random.choice(list(d.values()))\n",
        "    if veces==1:\n",
        "         frase = f'Tira el dado {dado} un total de {veces} vez'\n",
        "    else:\n",
        "        frase = f'Tira el dado {dado} un total de {veces} veces'\n",
        "    print(frase)\n",
        "\n",
        "if __name__ == \"__main__\":\n",
        "    dados_locos()"
      ],
      "metadata": {
        "colab": {
          "base_uri": "https://localhost:8080/"
        },
        "id": "rnrQMF2FGNRG",
        "outputId": "57f1bb24-4c5b-4b4e-d4f9-3a112f0e1646"
      },
      "execution_count": null,
      "outputs": [
        {
          "output_type": "stream",
          "name": "stdout",
          "text": [
            "Writing pylint_ejemplo_01.py\n"
          ]
        }
      ]
    },
    {
      "cell_type": "code",
      "source": [
        "!python3 pylint_ejemplo_01.py"
      ],
      "metadata": {
        "colab": {
          "base_uri": "https://localhost:8080/"
        },
        "id": "tfYk9NIfGNTl",
        "outputId": "10e31be2-1eb3-41cd-a899-0d21281cef9c"
      },
      "execution_count": null,
      "outputs": [
        {
          "output_type": "stream",
          "name": "stdout",
          "text": [
            "Tira el dado verde un total de 4 veces\n"
          ]
        }
      ]
    },
    {
      "cell_type": "code",
      "source": [
        "!pylint pylint_ejemplo_01.py"
      ],
      "metadata": {
        "colab": {
          "base_uri": "https://localhost:8080/"
        },
        "id": "pJfSalJJJ7NQ",
        "outputId": "d8b4151b-c0c1-4d80-9e32-4c5aea9cad0a"
      },
      "execution_count": null,
      "outputs": [
        {
          "output_type": "stream",
          "name": "stdout",
          "text": [
            "************* Module pylint_ejemplo_01\n",
            "pylint_ejemplo_01.py:8:0: W0311: Bad indentation. Found 9 spaces, expected 8 (bad-indentation)\n",
            "pylint_ejemplo_01.py:1:0: C0114: Missing module docstring (missing-module-docstring)\n",
            "pylint_ejemplo_01.py:1:0: C0116: Missing function or method docstring (missing-function-docstring)\n",
            "pylint_ejemplo_01.py:2:4: C0415: Import outside toplevel (random) (import-outside-toplevel)\n",
            "pylint_ejemplo_01.py:3:4: C0415: Import outside toplevel (csv) (import-outside-toplevel)\n",
            "pylint_ejemplo_01.py:4:4: C0103: Variable name \"d\" doesn't conform to snake_case naming style (invalid-name)\n",
            "pylint_ejemplo_01.py:3:4: W0611: Unused import csv (unused-import)\n",
            "\n",
            "-----------------------------------\n",
            "Your code has been rated at 4.17/10\n",
            "\n"
          ]
        }
      ]
    },
    {
      "cell_type": "code",
      "source": [
        "%%writefile pylint_ejemplo_01.py\n",
        "\"\"\"\n",
        "docstring del modulo\n",
        "\"\"\"\n",
        "import random\n",
        "\n",
        "\n",
        "def dados_locos():\n",
        "    \"\"\"docstring de la funcion\"\"\"\n",
        "    tirada_dados = {'blanco': 1, 'rojo': 2, 'verde': 3, 'amarillo': 4}\n",
        "    dado = random.choice(list(tirada_dados.keys()))\n",
        "    veces = random.choice(list(tirada_dados.values()))\n",
        "    if veces == 1:\n",
        "        frase = f'Tira el dado {dado} un total de {veces} vez'\n",
        "    else:\n",
        "        frase = f'Tira el dado {dado} un total de {veces} veces'\n",
        "    print(frase)\n",
        "\n",
        "if __name__ == \"__main__\":\n",
        "    dados_locos()"
      ],
      "metadata": {
        "colab": {
          "base_uri": "https://localhost:8080/"
        },
        "id": "TMLukzCMKDFp",
        "outputId": "1516ceb0-ab13-4787-c05b-362d16564658"
      },
      "execution_count": null,
      "outputs": [
        {
          "output_type": "stream",
          "name": "stdout",
          "text": [
            "Overwriting pylint_ejemplo_01.py\n"
          ]
        }
      ]
    },
    {
      "cell_type": "code",
      "source": [
        "!python3 pylint_ejemplo_01.py"
      ],
      "metadata": {
        "colab": {
          "base_uri": "https://localhost:8080/"
        },
        "id": "8HS0HWaQLXbe",
        "outputId": "91f6686c-4ad7-4ad3-f829-59794cd41fa6"
      },
      "execution_count": null,
      "outputs": [
        {
          "output_type": "stream",
          "name": "stdout",
          "text": [
            "Tira el dado rojo un total de 3 veces\n"
          ]
        }
      ]
    },
    {
      "cell_type": "code",
      "source": [
        "!pylint pylint_ejemplo_01.py"
      ],
      "metadata": {
        "colab": {
          "base_uri": "https://localhost:8080/"
        },
        "id": "AEuzIqP_LZxt",
        "outputId": "a60c22a7-3863-42a4-e900-daf4ae5c2062"
      },
      "execution_count": null,
      "outputs": [
        {
          "output_type": "stream",
          "name": "stdout",
          "text": [
            "\n",
            "-------------------------------------------------------------------\n",
            "Your code has been rated at 10.00/10 (previous run: 4.17/10, +5.83)\n",
            "\n"
          ]
        }
      ]
    },
    {
      "cell_type": "code",
      "source": [],
      "metadata": {
        "id": "PlgCmq5PLbHH"
      },
      "execution_count": null,
      "outputs": []
    },
    {
      "cell_type": "markdown",
      "source": [
        "## Documentación"
      ],
      "metadata": {
        "id": "LH9tkCd8M2-z"
      }
    },
    {
      "cell_type": "markdown",
      "source": [
        "### Como **comentar**?"
      ],
      "metadata": {
        "id": "7QilfQdRM6P9"
      }
    },
    {
      "cell_type": "markdown",
      "source": [
        "Los comentarios en Python se realizan con el caracter \"#\""
      ],
      "metadata": {
        "id": "QWqfR5HpW9cS"
      }
    },
    {
      "cell_type": "code",
      "source": [
        "# CamelCase - Sustantivos (clases)\n",
        "# snake_case - sustantivos (variables)\n",
        "# snake_case - verbos (funciones o metodos)"
      ],
      "metadata": {
        "id": "KdIXQpTVL204"
      },
      "execution_count": null,
      "outputs": []
    },
    {
      "cell_type": "code",
      "source": [
        "# esto es una linea de solo comentario\n",
        "\n",
        "def saludar():\n",
        "    print(\"Hola!\")  # Esto es una linea de codigo con un comentario\n",
        "\n",
        "saludar()\n"
      ],
      "metadata": {
        "colab": {
          "base_uri": "https://localhost:8080/"
        },
        "id": "aDP6xrxlkudm",
        "outputId": "291fadb0-ebbf-4064-f130-60eead34ea10"
      },
      "execution_count": null,
      "outputs": [
        {
          "output_type": "stream",
          "name": "stdout",
          "text": [
            "Hola!\n"
          ]
        }
      ]
    },
    {
      "cell_type": "markdown",
      "source": [
        "Evitemos comentar a menos que sea necesario para dirigir el mantenimiento o refactorizacion del codigo. \n",
        "\n",
        "Solo se debe comentar cosas que no estan explicitas en el codigo.\n",
        "\n",
        "Una manera de ser explicitos es usando el nombramiento de variables correctamente."
      ],
      "metadata": {
        "id": "8c_o09PclTUi"
      }
    },
    {
      "cell_type": "markdown",
      "source": [
        "### Como **documentar**?"
      ],
      "metadata": {
        "id": "n0Us5TMoWAEn"
      }
    },
    {
      "cell_type": "code",
      "source": [
        "import pandas as pd"
      ],
      "metadata": {
        "id": "-R_VD_FoNDvh"
      },
      "execution_count": null,
      "outputs": []
    },
    {
      "cell_type": "code",
      "source": [
        "pd.read_csv?"
      ],
      "metadata": {
        "id": "JVYp_CqvNFYy"
      },
      "execution_count": null,
      "outputs": []
    },
    {
      "cell_type": "markdown",
      "source": [
        "Mientras que los comentarios seran leidos por otros desarrolladores para orientarles en las tareas de desarrollo y mantenimiento, la documentacion sera destinada para los **usuarios**, personas que solo tienen interes en aprovechar la funcionalidad que hemos desarrollado y usar el codigo como un producto finalizado."
      ],
      "metadata": {
        "id": "LmNXywQ5W_Ep"
      }
    },
    {
      "cell_type": "markdown",
      "source": [
        "#### Modulos"
      ],
      "metadata": {
        "id": "ypeKVN-LWC6C"
      }
    },
    {
      "cell_type": "code",
      "source": [
        "%%writefile modulo.py\n",
        "\"\"\"\n",
        "Soy el docstring del modulo\n",
        "\"\"\"\n"
      ],
      "metadata": {
        "colab": {
          "base_uri": "https://localhost:8080/"
        },
        "id": "1MpsuphQm6VI",
        "outputId": "81670926-6afc-45b1-d8c8-f7206e728893"
      },
      "execution_count": null,
      "outputs": [
        {
          "output_type": "stream",
          "name": "stdout",
          "text": [
            "Writing modulo.py\n"
          ]
        }
      ]
    },
    {
      "cell_type": "code",
      "source": [
        "import modulo"
      ],
      "metadata": {
        "id": "os42UX6-nmck"
      },
      "execution_count": null,
      "outputs": []
    },
    {
      "cell_type": "code",
      "source": [
        "help(modulo)"
      ],
      "metadata": {
        "colab": {
          "base_uri": "https://localhost:8080/"
        },
        "id": "Iyfr9XQunqZ_",
        "outputId": "1ed74f2f-719b-41cd-d56a-5eca75c14215"
      },
      "execution_count": null,
      "outputs": [
        {
          "output_type": "stream",
          "name": "stdout",
          "text": [
            "Help on module modulo:\n",
            "\n",
            "NAME\n",
            "    modulo - Soy el docstring del modulo\n",
            "\n",
            "FILE\n",
            "    /content/modulo.py\n",
            "\n",
            "\n"
          ]
        }
      ]
    },
    {
      "cell_type": "code",
      "source": [
        "modulo?"
      ],
      "metadata": {
        "id": "XhtgcLh3n5Dp"
      },
      "execution_count": null,
      "outputs": []
    },
    {
      "cell_type": "markdown",
      "source": [
        "#### Funciones y Metodos"
      ],
      "metadata": {
        "id": "xqiiJkGyWOGR"
      }
    },
    {
      "cell_type": "code",
      "source": [
        "%%writefile modulo1.py\n",
        "\"\"\"\n",
        "Soy el docstring del modulo1\n",
        "\"\"\"\n",
        "\n",
        "import os\n",
        "from typing import Union\n",
        "\n",
        "\n",
        "def listar_por_tipo_de_archivo(extension_tipo_archivo: Union[str, None] = None) -> list:\n",
        "    \"\"\"\n",
        "    Ofrece una lista de archivos segun el tipo de archivo que es proporcionado.\n",
        "    La lista es un sub conjunto de los archivos del directorio actual.\n",
        "\n",
        "    Parametros:\n",
        "    -----------\n",
        "    extension_tipo_archivo: str, opcional\n",
        "        el tipo de archivo para buscar, por ejemplo: txt, py, doc, xlsx...\n",
        "\n",
        "    Retorna:\n",
        "    --------\n",
        "        list: una lista que contiene el nombre de los archivos de la extension dada\n",
        "\n",
        "    Raises\n",
        "    ------\n",
        "        NotImplementedError\n",
        "            Si la extension_tipo_archivo no tiene asignado un valor por defecto.\n",
        "    \"\"\"\n",
        "\n",
        "    if extension_tipo_archivo is not None:\n",
        "        lista_archivos = [nombre_archivo for nombre_archivo in os.listdir()\\\n",
        "                    if nombre_archivo.endswith(f\".{extension_tipo_archivo}\")]\n",
        "    else:\n",
        "        raise NotImplementedError(\"Se debe especificar un tipo de archivo!\")\n",
        "\n",
        "    return lista_archivos\n"
      ],
      "metadata": {
        "colab": {
          "base_uri": "https://localhost:8080/"
        },
        "id": "HxUerM0koA96",
        "outputId": "13953553-f2e8-407f-e864-10d0337264af"
      },
      "execution_count": null,
      "outputs": [
        {
          "output_type": "stream",
          "name": "stdout",
          "text": [
            "Writing modulo1.py\n"
          ]
        }
      ]
    },
    {
      "cell_type": "code",
      "source": [
        "import modulo1"
      ],
      "metadata": {
        "id": "71fc5Cdjos1s"
      },
      "execution_count": null,
      "outputs": []
    },
    {
      "cell_type": "code",
      "source": [
        "modulo1.listar_por_tipo_de_archivo(\"py\")"
      ],
      "metadata": {
        "colab": {
          "base_uri": "https://localhost:8080/"
        },
        "id": "CLVLRMaTouL2",
        "outputId": "360816ee-da67-44b6-8cc1-fd2dfedaf199"
      },
      "execution_count": null,
      "outputs": [
        {
          "output_type": "execute_result",
          "data": {
            "text/plain": [
              "['modulo1.py', 'modulo.py', 'pylint_ejemplo_01.py']"
            ]
          },
          "metadata": {},
          "execution_count": 25
        }
      ]
    },
    {
      "cell_type": "code",
      "source": [
        "help(modulo1.listar_por_tipo_de_archivo)"
      ],
      "metadata": {
        "colab": {
          "base_uri": "https://localhost:8080/"
        },
        "id": "km4B1QekpUJz",
        "outputId": "167e561a-509d-4b39-9a64-cc552eb1496f"
      },
      "execution_count": null,
      "outputs": [
        {
          "output_type": "stream",
          "name": "stdout",
          "text": [
            "Help on function listar_por_tipo_de_archivo in module modulo1:\n",
            "\n",
            "listar_por_tipo_de_archivo(extension_tipo_archivo: Union[str, NoneType] = None) -> list\n",
            "    Ofrece una lista de archivos segun el tipo de archivo que es proporcionado.\n",
            "    La lista es un sub conjunto de los archivos del directorio actual.\n",
            "    \n",
            "    Parametros:\n",
            "    -----------\n",
            "    extension_tipo_archivo: str, opcional\n",
            "        el tipo de archivo para buscar, por ejemplo: txt, py, doc, xlsx...\n",
            "    \n",
            "    Retorna:\n",
            "    --------\n",
            "        list: una lista que contiene el nombre de los archivos de la extension dada\n",
            "    \n",
            "    Raises\n",
            "    ------\n",
            "        NotImplementedError\n",
            "            Si la extension_tipo_archivo no tiene asignado un valor por defecto.\n",
            "\n"
          ]
        }
      ]
    },
    {
      "cell_type": "code",
      "source": [
        "modulo1.listar_por_tipo_de_archivo?"
      ],
      "metadata": {
        "id": "fB8t02h9o4eH"
      },
      "execution_count": null,
      "outputs": []
    },
    {
      "cell_type": "markdown",
      "source": [
        "#### Clases"
      ],
      "metadata": {
        "id": "oeB5FVEqWUFL"
      }
    },
    {
      "cell_type": "code",
      "source": [
        "class Animal:\n",
        "    \"\"\"\n",
        "    Esta clase representa a un Animal en la vida real.\n",
        "\n",
        "    Atributos\n",
        "    ----------\n",
        "    nombre : str\n",
        "        nombre del animal\n",
        "    sonido : str\n",
        "        el sonido que hace el animal\n",
        "    num_patas : int\n",
        "        el número de patas que tiene el animal (default 4)\n",
        "\n",
        "    Métodos\n",
        "    -------\n",
        "    presentarse(sonido=None)\n",
        "        Imprime el sonido que hace el animal.\n",
        "    \"\"\"\n",
        "\n",
        "    def __init__(self, param1: str, param2: int):\n",
        "        \"\"\"\n",
        "        Parametros:\n",
        "        -----------\n",
        "        param1:\n",
        "        \"\"\"\n",
        "        pass"
      ],
      "metadata": {
        "id": "VORSGSklpcHz"
      },
      "execution_count": null,
      "outputs": []
    },
    {
      "cell_type": "code",
      "source": [
        "animal = Animal()"
      ],
      "metadata": {
        "id": "tFkb4VAbtJfH"
      },
      "execution_count": null,
      "outputs": []
    },
    {
      "cell_type": "code",
      "source": [
        "help(animal)"
      ],
      "metadata": {
        "colab": {
          "base_uri": "https://localhost:8080/"
        },
        "id": "IBXNnyJRPUFq",
        "outputId": "0d8a9820-8f7f-4b34-98d4-98f28ab3fe33"
      },
      "execution_count": null,
      "outputs": [
        {
          "output_type": "stream",
          "name": "stdout",
          "text": [
            "Help on Animal in module __main__ object:\n",
            "\n",
            "class Animal(builtins.object)\n",
            " |  Esta clase representa a un Animal en la vida real.\n",
            " |  \n",
            " |  Atributos\n",
            " |  ----------\n",
            " |  nombre : str\n",
            " |      nombre del animal\n",
            " |  sonido : str\n",
            " |      el sonido que hace el animal\n",
            " |  num_patas : int\n",
            " |      el número de patas que tiene el animal (default 4)\n",
            " |  \n",
            " |  Métodos\n",
            " |  -------\n",
            " |  presentarse(sonido=None)\n",
            " |      Imprime el sonido que hace el animal.\n",
            " |  \n",
            " |  Data descriptors defined here:\n",
            " |  \n",
            " |  __dict__\n",
            " |      dictionary for instance variables (if defined)\n",
            " |  \n",
            " |  __weakref__\n",
            " |      list of weak references to the object (if defined)\n",
            "\n"
          ]
        }
      ]
    },
    {
      "cell_type": "code",
      "source": [
        "animal?"
      ],
      "metadata": {
        "id": "s6k1TIQ7tLZP"
      },
      "execution_count": null,
      "outputs": []
    },
    {
      "cell_type": "markdown",
      "source": [
        "#### Paquetes"
      ],
      "metadata": {
        "id": "iFEHyYGhWWdV"
      }
    },
    {
      "cell_type": "markdown",
      "source": [
        "se ubican en el archivo ```__init__.py``` del paquete"
      ],
      "metadata": {
        "id": "wphYXBDit-cY"
      }
    },
    {
      "cell_type": "code",
      "source": [
        "!mkdir paquete_charly\n",
        "!touch paquete_charly/__init__.py"
      ],
      "metadata": {
        "id": "AKJ0UsxeuMNk"
      },
      "execution_count": null,
      "outputs": []
    },
    {
      "cell_type": "code",
      "source": [
        "import paquete_charly"
      ],
      "metadata": {
        "id": "KnUnEKQ3t4s2"
      },
      "execution_count": null,
      "outputs": []
    },
    {
      "cell_type": "code",
      "source": [
        "help(paquete_charly)"
      ],
      "metadata": {
        "colab": {
          "base_uri": "https://localhost:8080/"
        },
        "id": "Igxx-fftumyF",
        "outputId": "1aa9f68e-4725-4541-c32d-18e6aa007aac"
      },
      "execution_count": null,
      "outputs": [
        {
          "output_type": "stream",
          "name": "stdout",
          "text": [
            "Help on package paquete_charly:\n",
            "\n",
            "NAME\n",
            "    paquete_charly\n",
            "\n",
            "DESCRIPTION\n",
            "    Soy el dosctring del __init__.py,\n",
            "    o dicho de otra manera el docstring\n",
            "    del paquete paquete_charly\n",
            "\n",
            "PACKAGE CONTENTS\n",
            "\n",
            "\n",
            "FILE\n",
            "    /content/paquete_charly/__init__.py\n",
            "\n",
            "\n"
          ]
        }
      ]
    },
    {
      "cell_type": "code",
      "source": [
        "paquete_charly?"
      ],
      "metadata": {
        "id": "7SPLR97HuoWP"
      },
      "execution_count": null,
      "outputs": []
    },
    {
      "cell_type": "code",
      "source": [
        "import pandas as pd"
      ],
      "metadata": {
        "id": "d0Cnan5-u0by"
      },
      "execution_count": null,
      "outputs": []
    },
    {
      "cell_type": "code",
      "source": [
        "help(pd)"
      ],
      "metadata": {
        "id": "RvftrE4dvKy5"
      },
      "execution_count": null,
      "outputs": []
    },
    {
      "cell_type": "markdown",
      "source": [
        "#### Scripts"
      ],
      "metadata": {
        "id": "STz-DiBgWxWm"
      }
    },
    {
      "cell_type": "markdown",
      "source": [
        "Igual que un modulo normal pero se debe especificar tambien las librerias usadas y que tipo de restricciones pueda tener (input o output)"
      ],
      "metadata": {
        "id": "ZsjAFZBDvcML"
      }
    },
    {
      "cell_type": "markdown",
      "source": [
        "### Documentando el proyecto"
      ],
      "metadata": {
        "id": "oD8xIqAhW103"
      }
    },
    {
      "cell_type": "markdown",
      "source": [
        "Por lo general, los proyectos en Python se estructuran de la siguiente manera:\n",
        "\n",
        "```\n",
        "project_root/\n",
        "│\n",
        "├── project/  # Código fuente del proyecto\n",
        "├── docs/   # Documentación adicional\n",
        "├── README\n",
        "├── examples.py\n",
        "```\n",
        "Veamos qué representa cada elemento:\n",
        "\n",
        "- **project/:** Directorio que contiene todo el código del proyecto.\n",
        "\n",
        "- **docs/:** Directorio que contiene documentación adicional tales como tutoriales, guías paso a paso, explicaciones, etc.\n",
        "\n",
        "- **README.md:** Un breve resumen del proyecto y su finalidad. Se recomienda incluir cualquier requisito para poder ejecutar el proyecto.\n",
        "\n",
        "- **examples.py:** Un script de python que muestra a modo de ejemplo cómo ejecutar el proyecto.\n",
        "\n",
        "Naturalmente, cada proyecto es un mundo y cada desarrollador lo organiza de acuerdo a sus necesidades. Este simplemente es un resúmen de algunos puntos importantes que debería tener para que sea fácil de interpretar por terceros :)\n",
        "\n",
        "Les propongo navegar por github y revisar repositorios de herramientas/librerías que conozcan para ver cómo están organizados y documentados.\n",
        "\n",
        "Como ejemplo les dejo el [README](https://github.com/pandas-dev/pandas/blob/main/README.md) de Pandas."
      ],
      "metadata": {
        "id": "sNyYxxxHXHtF"
      }
    },
    {
      "cell_type": "markdown",
      "source": [
        "Sin embargo segun las necesidades de cada proyecto podriamos necesitar una arquitectura de directorios un poco distinta, si no tienes la experiencia necesaria ordenar los directorios de tu proyecto podria ser un verdadero trauma 🤣, para esto una herramienta que se puede usar es la libreria ```cookiecutter```"
      ],
      "metadata": {
        "id": "L0PYQW0_xNTi"
      }
    },
    {
      "cell_type": "code",
      "source": [
        "!pip install cookiecutter"
      ],
      "metadata": {
        "colab": {
          "base_uri": "https://localhost:8080/"
        },
        "id": "KaFdX-eAxyEB",
        "outputId": "f304e8e3-1c88-42c4-c090-6b3cd71b74af"
      },
      "execution_count": null,
      "outputs": [
        {
          "output_type": "stream",
          "name": "stdout",
          "text": [
            "Looking in indexes: https://pypi.org/simple, https://us-python.pkg.dev/colab-wheels/public/simple/\n",
            "Collecting cookiecutter\n",
            "  Downloading cookiecutter-2.1.1-py2.py3-none-any.whl (36 kB)\n",
            "Requirement already satisfied: click<9.0.0,>=7.0 in /usr/local/lib/python3.7/dist-packages (from cookiecutter) (7.1.2)\n",
            "Requirement already satisfied: python-slugify>=4.0.0 in /usr/local/lib/python3.7/dist-packages (from cookiecutter) (6.1.2)\n",
            "Requirement already satisfied: Jinja2<4.0.0,>=2.7 in /usr/local/lib/python3.7/dist-packages (from cookiecutter) (2.11.3)\n",
            "Collecting binaryornot>=0.4.4\n",
            "  Downloading binaryornot-0.4.4-py2.py3-none-any.whl (9.0 kB)\n",
            "Collecting jinja2-time>=0.2.0\n",
            "  Downloading jinja2_time-0.2.0-py2.py3-none-any.whl (6.4 kB)\n",
            "Requirement already satisfied: pyyaml>=5.3.1 in /usr/local/lib/python3.7/dist-packages (from cookiecutter) (6.0)\n",
            "Requirement already satisfied: requests>=2.23.0 in /usr/local/lib/python3.7/dist-packages (from cookiecutter) (2.23.0)\n",
            "Requirement already satisfied: chardet>=3.0.2 in /usr/local/lib/python3.7/dist-packages (from binaryornot>=0.4.4->cookiecutter) (3.0.4)\n",
            "Requirement already satisfied: MarkupSafe>=0.23 in /usr/local/lib/python3.7/dist-packages (from Jinja2<4.0.0,>=2.7->cookiecutter) (2.0.1)\n",
            "Collecting arrow\n",
            "  Downloading arrow-1.2.3-py3-none-any.whl (66 kB)\n",
            "\u001b[K     |████████████████████████████████| 66 kB 4.0 MB/s \n",
            "\u001b[?25hRequirement already satisfied: text-unidecode>=1.3 in /usr/local/lib/python3.7/dist-packages (from python-slugify>=4.0.0->cookiecutter) (1.3)\n",
            "Requirement already satisfied: urllib3!=1.25.0,!=1.25.1,<1.26,>=1.21.1 in /usr/local/lib/python3.7/dist-packages (from requests>=2.23.0->cookiecutter) (1.24.3)\n",
            "Requirement already satisfied: idna<3,>=2.5 in /usr/local/lib/python3.7/dist-packages (from requests>=2.23.0->cookiecutter) (2.10)\n",
            "Requirement already satisfied: certifi>=2017.4.17 in /usr/local/lib/python3.7/dist-packages (from requests>=2.23.0->cookiecutter) (2022.9.24)\n",
            "Requirement already satisfied: typing-extensions in /usr/local/lib/python3.7/dist-packages (from arrow->jinja2-time>=0.2.0->cookiecutter) (4.1.1)\n",
            "Requirement already satisfied: python-dateutil>=2.7.0 in /usr/local/lib/python3.7/dist-packages (from arrow->jinja2-time>=0.2.0->cookiecutter) (2.8.2)\n",
            "Requirement already satisfied: six>=1.5 in /usr/local/lib/python3.7/dist-packages (from python-dateutil>=2.7.0->arrow->jinja2-time>=0.2.0->cookiecutter) (1.15.0)\n",
            "Installing collected packages: arrow, jinja2-time, binaryornot, cookiecutter\n",
            "Successfully installed arrow-1.2.3 binaryornot-0.4.4 cookiecutter-2.1.1 jinja2-time-0.2.0\n"
          ]
        }
      ]
    },
    {
      "cell_type": "code",
      "source": [
        "!cookiecutter https://github.com/Gradiant/fastapi-cookiecutter-template.git"
      ],
      "metadata": {
        "colab": {
          "base_uri": "https://localhost:8080/"
        },
        "id": "URg-N4zOyjIJ",
        "outputId": "d5bf9dde-9945-4f35-b004-4ee17f325606"
      },
      "execution_count": null,
      "outputs": [
        {
          "output_type": "stream",
          "name": "stdout",
          "text": [
            "app_name [FastAPI Example]: Charly FastAPI app\n",
            "directory_name [charly-fastapi-app]: charly_fastapi_app\n",
            "project_slug [charly_fastapi_app]: app\n",
            "Select advanced_docs:\n",
            "1 - no\n",
            "2 - yes\n",
            "Choose from 1, 2 [1]: 2\n",
            "Select advanced_responses:\n",
            "1 - no\n",
            "2 - yes\n",
            "Choose from 1, 2 [1]: 2\n",
            "Running post_gen_project hook\n"
          ]
        }
      ]
    },
    {
      "cell_type": "markdown",
      "source": [
        "# Logging"
      ],
      "metadata": {
        "id": "AkiZ_ALA4_HD"
      }
    },
    {
      "cell_type": "markdown",
      "source": [
        "### Diferencia entre un log y un print\n",
        "\n",
        "Muchas veces cuando empezamos a analizar nuestro código usamos comandos print para hacer debugging (por más que hay herramientas especializadas mucho más poderosas para hacerlo). También a veces usamos comandos print para generar, por ejemplo al llamar nuestro script desde la consola, un registro de lo que va ocurriendo que vaya informando al usuario sobre qué está saliendo bien o está saliendo mal.\n",
        "\n",
        "El concepto de logging es similar a estos dos casos, con la diferencia de que los mensajes no serán impresos en pantalla sino que se guardarán en un archivo de texto (o más de uno, como veremos más abajo) determinado previamente por nosotros.\n",
        "\n",
        "### Niveles de \"severidad\"\n",
        "Como indica el párrafo traducido más arriba, cada mensaje de logging tiene asignado un \"nivel\" o \"severidad\". De menor a mayor grado de severidad, son los siguientes.\n",
        "\n",
        "- **DEBUG:** se usa para detalles y debugging\n",
        "- **INFO:** información sobre el desarrollo (correcto) del proceso\n",
        "- **WARNING:** se indica algo inesperado o potencialmente peligroso pero que no impide la ejecución correcta del software\n",
        "- **ERROR:** algo falló y el software no está ejecutándose como debería\n",
        "- **CRITICAL:** error grave.\n",
        "\n",
        "### Para formatear\n",
        "https://docs.python.org/3/library/logging.html#logrecord-attributes"
      ],
      "metadata": {
        "id": "PjHm94DP19J7"
      }
    },
    {
      "cell_type": "code",
      "source": [
        "import logging"
      ],
      "metadata": {
        "id": "uBWjtyia1AeD"
      },
      "execution_count": null,
      "outputs": []
    },
    {
      "cell_type": "code",
      "source": [
        "logging.debug(\"debug\")\n",
        "logging.info(\"info\")\n",
        "logging.warning(\"warning\")\n",
        "logging.error(\"error\")\n",
        "logging.critical(\"critical\")"
      ],
      "metadata": {
        "colab": {
          "base_uri": "https://localhost:8080/"
        },
        "id": "NPKmq1N62hR8",
        "outputId": "c0b6aed2-9cd4-4da4-b5ec-132aed51aa43"
      },
      "execution_count": null,
      "outputs": [
        {
          "output_type": "stream",
          "name": "stderr",
          "text": [
            "WARNING:root:warning\n",
            "ERROR:root:error\n",
            "CRITICAL:root:critical\n"
          ]
        }
      ]
    },
    {
      "cell_type": "markdown",
      "source": [
        "A partir de este momento es mejor que te conectes a un entorno local"
      ],
      "metadata": {
        "id": "BUFRzZLf9hui"
      }
    },
    {
      "cell_type": "code",
      "source": [
        "import logging\n",
        "\n",
        "logging.basicConfig(level=logging.INFO,\n",
        "                    filename='mi_archivo_log.log',\n",
        "                    encoding='utf-8',\n",
        "                    filemode='w',\n",
        "                    format='%(asctime)s %(levelname)s:%(message)s')\n",
        "\n",
        "logging.debug(\"debug\")\n",
        "logging.info(\"info\")\n",
        "logging.warning(\"warning\")\n",
        "logging.error(\"error\")\n",
        "logging.critical(\"critical\")"
      ],
      "metadata": {
        "id": "ThQ0RMW32ymr"
      },
      "execution_count": null,
      "outputs": []
    },
    {
      "cell_type": "code",
      "source": [
        "%%python\n",
        "# para crear una nueva configuracion hay que reiniciar el entorno de ejecucion\n",
        "import logging\n",
        "logging.basicConfig(level=logging.ERROR,\n",
        "                    filename='mi_archivo_log_2.log',\n",
        "                    encoding='utf-8',\n",
        "                    filemode='w',\n",
        "                    format='%(asctime)s - %(levelname)s -> %(message)s')\n",
        "logging.debug(\"debug\")\n",
        "logging.info(\"info\")\n",
        "logging.warning(\"warning\")\n",
        "logging.error(\"error\")\n",
        "logging.critical(\"critical\")"
      ],
      "metadata": {
        "id": "xAtNyuh436L8"
      },
      "execution_count": null,
      "outputs": []
    },
    {
      "cell_type": "markdown",
      "source": [
        "Con ciertos parametros puedes incluir incluso tracebacks"
      ],
      "metadata": {
        "id": "mygoiX-J5bLa"
      }
    },
    {
      "cell_type": "code",
      "source": [
        "%%python\n",
        "# para crear una nueva configuracion hay que reiniciar el entorno de ejecucion\n",
        "import logging\n",
        "logging.basicConfig(level=logging.ERROR,\n",
        "                    filename='mi_archivo_log_2.log',\n",
        "                    encoding='utf-8',\n",
        "                    filemode='w',\n",
        "                    format='%(asctime)s - %(name)s - %(levelname)s -> %(message)s')\n",
        "\n",
        "try:\n",
        "    1 / 0\n",
        "except ZeroDivisionError as e:\n",
        "    #logging.error(\"ZeroDivisionError\", exc_info=True)\n",
        "    logging.exception(\"ZeroDivsionError with exception method\")"
      ],
      "metadata": {
        "id": "wrVyzfDy53pU"
      },
      "execution_count": null,
      "outputs": []
    },
    {
      "cell_type": "code",
      "source": [],
      "metadata": {
        "id": "HoDeBsuE8s3A"
      },
      "execution_count": null,
      "outputs": []
    }
  ]
}