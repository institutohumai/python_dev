{
  "nbformat": 4,
  "nbformat_minor": 0,
  "metadata": {
    "colab": {
      "provenance": []
    },
    "kernelspec": {
      "name": "python3",
      "display_name": "Python 3"
    },
    "language_info": {
      "name": "python"
    }
  },
  "cells": [
    {
      "cell_type": "markdown",
      "source": [
        "# ¿Que son las buenas practicas y por que las necesitamos?\n",
        "\n",
        "Las buenas practicos son un conjunto de principios, procedimientos y metodologias que son utilizadas por el desarrollador para mejorar la calidad, eficiencia y seguridad del software, estas se basan en la experiencia de diversos profesionales que fueron recopilando y compartiendo sus experiencias y estas se han ido desarrollando a lo largo de los anos. Debemos tener en cuenta que las buenas practicas pueden ir cambiando con el tiempo y que es nuestro deber como desarrolladores mantenerse actualizados\n"
      ],
      "metadata": {
        "id": "VgeFdjaA7k2j"
      }
    },
    {
      "cell_type": "markdown",
      "source": [
        "## The Pythonic way\n",
        "\n",
        "Pythonico (o pythonic en ingles) es la palabra que describe el código de python que no solo tiene la sintaxis correcta, sino que usa el lenguaje de la forma en la forma en la cual fue concebido para usarse.\n",
        "En otras palabras, el código Pythonic es código que es claro, conciso y eficiente, y que utiliza las características únicas del lenguaje Python de una manera natural y elegante. Este tipo de código es más fácil de leer, escribir y mantener, y también es más probable que sea eficiente y seguro.\n",
        "\n",
        "Estos conceptos pueden parecer muy abstractos y la definicion medio vaga, es por esto que veremos de manera practica como realizar codigo Pytohnico, con el siguiente contenido:\n",
        "\n",
        "1.   The Zen of Python\n",
        "2.   Pep 8\n",
        "3.   Tips de codigo\n",
        "4.   Red flags\n",
        "\n",
        "\n",
        "\n"
      ],
      "metadata": {
        "id": "VRsXBvRDxYHW"
      }
    },
    {
      "cell_type": "markdown",
      "source": [
        "## The zen of Python\n",
        "\n",
        "The zen of Python es una coleccion de 19 principios de escritura de codigo (Escrito en 1999 por Tim Peters), que se utilizan como guia para los desarrolladores de Python y que tuve un gran impacto en la comunidad en genereal.\n",
        "\n",
        "Esta guia sobre como escribir codigo en python, debe tomarse como tal, una guia, la cual ofrece consejos para escribir código que sea claro, conciso y elegante, pero una guia al fin, lo que significa que no es obligatorio ni necesario seguir al pie de la letra lo que la misma dice (aunque es recomendado). Nosotros como desarrolladores tenemos el poder (y la responsabilidad 🕷) de decidir que es lo que mas conviene y lo que mejor se adapta a nuestros caso de uso en particular, y esto puede significar desviarnos de estos preceptos.\n",
        "\n",
        "Puedes ver el \"Zen de Python\" ejecutando el siguiente codigo en python\n",
        "\n",
        "\n",
        "\n",
        "```\n",
        "import this\n",
        "```\n",
        "\n"
      ],
      "metadata": {
        "id": "oDDXdHqxunsM"
      }
    },
    {
      "cell_type": "code",
      "source": [
        "import this\n",
        "# Unccomment this to reload the \"this\" module and see the zen of python if not printing\n",
        "# import importlib\n",
        "# importlib.reload(this)"
      ],
      "metadata": {
        "colab": {
          "base_uri": "https://localhost:8080/"
        },
        "id": "DjcsV16b-cZy",
        "outputId": "91649ffb-cc9f-4712-8543-a0293c202ccd"
      },
      "execution_count": null,
      "outputs": [
        {
          "output_type": "stream",
          "name": "stdout",
          "text": [
            "The Zen of Python, by Tim Peters\n",
            "\n",
            "Beautiful is better than ugly.\n",
            "Explicit is better than implicit.\n",
            "Simple is better than complex.\n",
            "Complex is better than complicated.\n",
            "Flat is better than nested.\n",
            "Sparse is better than dense.\n",
            "Readability counts.\n",
            "Special cases aren't special enough to break the rules.\n",
            "Although practicality beats purity.\n",
            "Errors should never pass silently.\n",
            "Unless explicitly silenced.\n",
            "In the face of ambiguity, refuse the temptation to guess.\n",
            "There should be one-- and preferably only one --obvious way to do it.\n",
            "Although that way may not be obvious at first unless you're Dutch.\n",
            "Now is better than never.\n",
            "Although never is often better than *right* now.\n",
            "If the implementation is hard to explain, it's a bad idea.\n",
            "If the implementation is easy to explain, it may be a good idea.\n",
            "Namespaces are one honking great idea -- let's do more of those!\n"
          ]
        }
      ]
    },
    {
      "cell_type": "markdown",
      "source": [
        "### Lo explicito es mejor que lo implicito\n",
        "El codigo debe ser claro y facil de entender, no deberia depender de supociones no declaradas, reglas escondidas o conocomiento previo no escrito para ser comprendido. Esto significa que es muy importante definir claramente el nombre de variables y funciones, asi como ser explicito en la funcionalidad misma del codigo."
      ],
      "metadata": {
        "id": "-gLTczZmwhOA"
      }
    },
    {
      "cell_type": "markdown",
      "source": [
        "### Simple es mejor que complejo. Complejo es mejor que complicado\n",
        "\n",
        "Las soluciones mas simples son generalmente las mas elegantes y eficientes.\n",
        "\n",
        "Un problema complejo no tiene porque tener un solucion complicada y casi siempre puede ser resuelto por un conjunto de soluciones simples."
      ],
      "metadata": {
        "id": "xIXmwsczxtk2"
      }
    },
    {
      "cell_type": "markdown",
      "source": [
        "### Lo plano es mejor que lo anidado\n",
        "\n",
        "Cuando hablamos de la estructura del codigo, tenemos que tratar de evitar tener comportamiento y/o estructuras muy anidadas, ya que esto hace al codigo mas dificil de entender y manteenr y puede resultar en comportamiento no esperado"
      ],
      "metadata": {
        "id": "_3IyzqmbyWee"
      }
    },
    {
      "cell_type": "code",
      "source": [
        "# Ejemplos practicos\n",
        "\n",
        "# Este modulo esta mal disenado (Es muy anidado)\n",
        "import modulohumai.objetos.clases.alumnos.obtener_alumnos\n",
        "# Este modulo esta bien disenado (Es plano)\n",
        "import modulohumai_clases.obtener_alumnos\n",
        "\n",
        "# Esta funcion esta mal disenada (Es muy anidada)\n",
        "def myfunc(a,b,c,d,e):\n",
        "    if a > 5:\n",
        "        # ... more code a...\n",
        "        if b > 10:\n",
        "            # ... more code b...\n",
        "            if c != 0:\n",
        "                # ... more code c...\n",
        "                if d < 1:\n",
        "                    # ... more code d...\n",
        "                    if e < 13:\n",
        "                        # ... more code e...\n",
        "                        return a + b + c + d + e\n",
        "    return\n",
        "# Esta funcion esta bien disenada (Es plana)\n",
        "def myfunc(a,b,c,d,e):\n",
        "    if a <= 5:\n",
        "        return\n",
        "    # ... more code a...\n",
        "    if b <= 10:\n",
        "        return\n",
        "    # ... more code b...\n",
        "    if c == 0:\n",
        "        return\n",
        "    # ... more code c...\n",
        "    if d >= 1:\n",
        "        return\n",
        "    # ... more code d...\n",
        "    if e >= 13:\n",
        "        return\n",
        "    # ... more code e...\n",
        "    return a + b + c + d + e"
      ],
      "metadata": {
        "id": "d2zQ3BfZWNC4"
      },
      "execution_count": null,
      "outputs": []
    },
    {
      "cell_type": "markdown",
      "source": [
        "### Disperso es mejor que denso\n",
        "\n",
        "Significa que  debemos tratar de evitar tener codigo extremedamente complejo y con muchas funciones en una línea de código. Esto hace que sea dificil comprender la funcionalidad de dicha linea o que en dicha linea pueda fallar mas de 1 cosa en particular lo que hace debuggear esa lina mucho mas complejo, ya que hay diversos puntos de falla."
      ],
      "metadata": {
        "id": "_sicctCrTYTf"
      }
    },
    {
      "cell_type": "code",
      "source": [
        "import random\n",
        "list_numbers = [random.sample(range(1, 30), random.randint(5,15)) for _ in range(10)]\n",
        "\n",
        "# Codigo muy denso\n",
        "a = [[number**2 if number < 10 else number for number in numbers] for numbers in list_numbers if len(numbers) > 10]\n",
        "\n",
        "# Codigo mas sparse y legible\n",
        "b = []\n",
        "for numbers in [numbers for numbers in list_numbers if len(numbers) > 10]:\n",
        "    b.append([number**2 if number < 10 else number for number in numbers])\n",
        "\n",
        "print(a)\n",
        "print(b)"
      ],
      "metadata": {
        "colab": {
          "base_uri": "https://localhost:8080/"
        },
        "id": "qjbafJ5vbN5l",
        "outputId": "cafd3fe7-5f5c-4bae-e448-b730d15d48e2"
      },
      "execution_count": null,
      "outputs": [
        {
          "output_type": "stream",
          "name": "stdout",
          "text": [
            "[[4, 27, 25, 26, 11, 23, 36, 64, 12, 1, 22, 16, 81, 29, 17], [12, 25, 27, 81, 24, 20, 4, 18, 21, 16, 1], [26, 15, 9, 25, 12, 29, 14, 13, 16, 17, 10, 19, 4, 36], [16, 36, 10, 4, 9, 16, 14, 25, 1, 81, 12, 23, 19, 64]]\n",
            "[[4, 27, 25, 26, 11, 23, 36, 64, 12, 1, 22, 16, 81, 29, 17], [12, 25, 27, 81, 24, 20, 4, 18, 21, 16, 1], [26, 15, 9, 25, 12, 29, 14, 13, 16, 17, 10, 19, 4, 36], [16, 36, 10, 4, 9, 16, 14, 25, 1, 81, 12, 23, 19, 64]]\n"
          ]
        }
      ]
    },
    {
      "cell_type": "markdown",
      "source": [
        "### No hay que seguir las reglas a rajatabla\n",
        "\n",
        "Python es un lenguaje de codigo poco estricto en terminos de estructura. Puedes escribir codigo tanto funcional como orientado a objetos (y muchas veces lo mejor es una mezcla de ambos). El punto es que no hay que tratar de forzar conceptos, preceptos o metodologias solo porque si, es mejor sentarse y analizar que es mejor para nosotros como desarrolladores y para el proyecto en general, y esto puede significar alejarse de alguna de estas cosas"
      ],
      "metadata": {
        "id": "ZOEs3uNNu6IA"
      }
    },
    {
      "cell_type": "markdown",
      "source": [
        "### ETC\n",
        "\n",
        "Aqui se explicaron solo algunos de los preceptos del Zen de python y se alienta al lector a que lea los mismos e investigue aquellos que no le son claros! A investigar! 🧑 💻"
      ],
      "metadata": {
        "id": "VQ_quIu0ztK9"
      }
    },
    {
      "cell_type": "markdown",
      "source": [
        "## PEP8 (Python Enhancement Propositions)\n",
        "\n",
        "Es un manual de estilo al que nos adherimos para seguir un código lo más legible y estandarizado posible, en el contexto de un software de código abierto.\n",
        "\n",
        "Entre las cosas que plantea, se encuentran:\n",
        "\n",
        "- Usar una indentación de cuatro espacios en el código.\n",
        "- Usar variables separadas por guión bajo.\n",
        "- Comenzar los métodos privados de una función con doble guión bajo.\n",
        "- Usar un ancho de 80 caracteres\n",
        "- Siempre usar espacios en lugar de tabs\n",
        "- Y muchas mas...\n",
        "\n",
        "[Pagina oficial - PEP-8](https://peps.python.org/pep-0008/)\n",
        "\n",
        "PD: Utilizen linters y code formatters\n",
        "- Linters: [Pylint](https://www.pylint.org/)\n",
        "- Code formatter: [Black](https://pypi.org/project/black/), [autopep8](https://pypi.org/project/autopep8/)"
      ],
      "metadata": {
        "id": "1zzHspiLHP7P"
      }
    },
    {
      "cell_type": "markdown",
      "source": [
        "## Tips para un codigo mas legible en python\n",
        "\n",
        "En esta seccion veremos algunos tips a la hora de programar que ayudan a tener un codigo mas legible en python"
      ],
      "metadata": {
        "id": "KpDXWbqUMdlY"
      }
    },
    {
      "cell_type": "markdown",
      "source": [
        "### Type hints\n",
        "\n",
        "Utilicen type hints en python, la mismas se usan con annotations en python y son usadas para agregar tipo a variables, parametros, argumentos, valores de retorno y mas.\n",
        "\n",
        "Type hints no tienen ningun tipo de efecto en runtime, el interprete las ignora completamente, sirven para nosotros como programadores para entender y para performar analisis de codigo estatico (Con [mypy](https://mypy-lang.org/) por ejemplo)"
      ],
      "metadata": {
        "id": "zBe9qVv44dCn"
      }
    },
    {
      "cell_type": "code",
      "source": [
        "# For variable\n",
        "a: int = 3\n",
        "b: float = 2.4\n",
        "c: bool = True\n",
        "d: list = [\"A\", \"B\", \"C\"]\n",
        "e: dict = {\"x\": \"y\"}\n",
        "f: set = {\"a\", \"b\", \"c\"}\n",
        "g: tuple = (\"name\", \"age\", \"job\")\n",
        "\n",
        "# For functions\n",
        "def add_numbers(x: int, y: int, z: int= 100) -> int:\n",
        "    return x + y + z\n",
        "\n",
        "# For classes\n",
        "class Person:\n",
        "    first_name: str = \"John\"\n",
        "    last_name: str = \"Does\"\n",
        "    age: int = 31\n",
        "\n",
        "# Type hints doesn't do anything at runtime\n",
        "print(add_numbers(1, 2.5, 3.105))"
      ],
      "metadata": {
        "id": "e0s8_-QU4b5J",
        "colab": {
          "base_uri": "https://localhost:8080/"
        },
        "outputId": "bb5774c7-9cce-43d5-baa5-fc7781cbf039"
      },
      "execution_count": null,
      "outputs": [
        {
          "output_type": "stream",
          "name": "stdout",
          "text": [
            "6.605\n"
          ]
        }
      ]
    },
    {
      "cell_type": "code",
      "source": [
        "# For more complex operation you can check the typing module\n",
        "from typing import List, Dict\n",
        "\n",
        "my_list: List[List[str]] = [[\"tomato\", \"carrot\"], [\"melon\", \"apples\"]]\n",
        "my_dict: Dict[str, List[str]] = {\"vegies\": [\"tomato\", \"carrot\"], \"fruits\": [\"melon\", \"apples\"]}\n",
        "numbers: List[int | float] = [1, 2, 3, 4, 5.0, 5.5, 6.0]"
      ],
      "metadata": {
        "id": "RU2-Vsw0XAtY"
      },
      "execution_count": null,
      "outputs": []
    },
    {
      "cell_type": "markdown",
      "source": [
        "Example of MyPy linter in vscode:\n",
        "\n",
        "<img src='https://storage.googleapis.com/humai-datasets/imagenes/python_dev/material_extra/0_2024-03-01_13-15-33_image.png' />"
      ],
      "metadata": {
        "id": "k5JGgBSxY9qA"
      }
    },
    {
      "cell_type": "markdown",
      "source": [
        "### Usa las dataclasses\n",
        "\n",
        "Disponibles desde la version 3.7, tienen ventajas sobre dictionarios y clases normales ya que:\n",
        "- Requieron poco codigo para implementar\n",
        "- Puedes compararlas entre ellas (vienen con \\_\\_eq__ implementado por defecto)\n",
        "- Puedes mostrarlas facilmente por pantalla (vienen con \\_\\_repr__ implementado por defecto)"
      ],
      "metadata": {
        "id": "T-2yHEU5atUN"
      }
    },
    {
      "cell_type": "code",
      "source": [
        "from dataclasses import dataclass\n",
        "\n",
        "@dataclass\n",
        "class Card:\n",
        "    rank: str\n",
        "    suit: str\n",
        "\n",
        "card = Card(\"Q\", \"hearts\")\n",
        "card2 = Card(\"Q\", \"hearts\")\n",
        "card3 = Card(rank=\"K\", suit=\"hearts\")\n",
        "\n",
        "print(card == card)\n",
        "# True\n",
        "print(card == card2)\n",
        "# True\n",
        "print(card == card3)\n",
        "# False\n",
        "\n",
        "print(card.rank)\n",
        "# 'Q'\n",
        "\n",
        "print(card)"
      ],
      "metadata": {
        "colab": {
          "base_uri": "https://localhost:8080/"
        },
        "id": "tiAF1Z86bTCH",
        "outputId": "ba8ccbe1-9ca5-4b94-a35a-a3af4b46d8b6"
      },
      "execution_count": null,
      "outputs": [
        {
          "output_type": "stream",
          "name": "stdout",
          "text": [
            "True\n",
            "True\n",
            "False\n",
            "Q\n",
            "Card(rank='Q', suit='hearts')\n"
          ]
        }
      ]
    },
    {
      "cell_type": "markdown",
      "source": [
        "### Algunas gemas que me gustan\n",
        "\n",
        "Pequenas gemas que utilizo en mi dia a dia y que son muy utiles para hacer codigo mas pythonico (pero que no merecian una seccion entera 😞)"
      ],
      "metadata": {
        "id": "HnGe-HSXdcrO"
      }
    },
    {
      "cell_type": "code",
      "source": [
        "print(\"1 - List comprehensions\")\n",
        "# Must have for generarting lists\n",
        "print([number for number in range(10)])\n",
        "\n",
        "print(\"2 - Dictionary comprehensions\")\n",
        "# Like list comprehension but for dicts\n",
        "print({number:number**2 for number in range(10)})\n",
        "\n",
        "print(\"3 - Ternary operators\")\n",
        "# Like list comprehension but for dicts\n",
        "a, b, c = 1, 1, 2\n",
        "print(f\"{a} es igual a {b}\" if a == b else f\"{a} no es igual a {b}\" )\n",
        "print(f\"{a} es igual a {c}\" if a == c else f\"{a} no es igual a {c}\" )\n",
        "\n",
        "print(\"4 - lambda functions\")\n",
        "# Inline little annonymous functions\n",
        "x = lambda a : a + 10\n",
        "print(x(5))\n",
        "\n",
        "print(\"5 - Slicing lists or strings\")\n",
        "# a[start:stop:step]\n",
        "x = [i for i in range(10)]\n",
        "print(x[4:8:2])\n",
        "print(\"Hello world!\"[::-1])\n",
        "\n",
        "print(\"6 - Use sets, they are really helpfull\")\n",
        "# Sets are essentially hash lists they are unordered lists\n",
        "# of only different elements, if you insert 2 times the same it doesn't care\n",
        "x = [1, 2, 2, 3, 3, 3]\n",
        "x_set = set(x)\n",
        "print(x_set)\n",
        "print(3 in x) # Super fast O(1) on average\n",
        "\n",
        "print(\"7 - Use with statement\")\n",
        "with open('file', 'w') as file:\n",
        "    file.write('hello world !')\n",
        "with open('file', 'r') as file:\n",
        "    print(file.readlines())\n",
        "\n",
        "print(\"8 - Do not use magic numbers\")\n",
        "import time\n",
        "\n",
        "t = time.time()\n",
        "t = t + 43200 # this is a magic number\n",
        "print(t)\n",
        "\n",
        "hours_in_seconds = 60 * 60\n",
        "six_hours_in_seconds= 6 * hours_in_seconds\n",
        "time_seconds = t + six_hours_in_seconds\n",
        "print(time_seconds)\n",
        "\n",
        "print(\"9 - benchmark with time it\")\n",
        "import timeit\n",
        "number = 100\n",
        "print(timeit.timeit(lambda: number*number, number=100000))"
      ],
      "metadata": {
        "id": "hGLnxtCpdrrf",
        "colab": {
          "base_uri": "https://localhost:8080/"
        },
        "outputId": "fae4dcc1-b181-4e55-f34b-4f3002493f42"
      },
      "execution_count": null,
      "outputs": [
        {
          "output_type": "stream",
          "name": "stdout",
          "text": [
            "1 - List comprehensions\n",
            "[0, 1, 2, 3, 4, 5, 6, 7, 8, 9]\n",
            "2 - Dictionary comprehensions\n",
            "{0: 0, 1: 1, 2: 4, 3: 9, 4: 16, 5: 25, 6: 36, 7: 49, 8: 64, 9: 81}\n",
            "3 - Ternary operators\n",
            "1 es igual a 1\n",
            "1 no es igual a 2\n",
            "4 - lambda functions\n",
            "15\n",
            "5 - Slicing lists or strings\n",
            "[4, 6]\n",
            "!dlrow olleH\n",
            "6 - Use sets, they are really helpfull\n",
            "{1, 2, 3}\n",
            "True\n",
            "7 - Use with statement\n",
            "['hello world !']\n",
            "8 - Do not use magic numbers\n",
            "1688987775.3267498\n",
            "1689009375.3267498\n",
            "9 - benchmark with time it\n",
            "0.009021959000165225\n"
          ]
        }
      ]
    },
    {
      "cell_type": "markdown",
      "source": [
        "## Red Flags de que no estas siguiendo las mejores practicas\n",
        "### (O estas haciendo cosas que nunca o casi nunca deberias permitir)"
      ],
      "metadata": {
        "id": "2QmofA9OF51W"
      }
    },
    {
      "cell_type": "markdown",
      "source": [
        "### Funciones recursivas (No hay tail recursion calls en python)\n",
        "\n",
        "Funciones iterativas (Foor o while) performan mejor que funciones recursivas"
      ],
      "metadata": {
        "id": "jHyZBmnaThh2"
      }
    },
    {
      "cell_type": "code",
      "source": [
        "def recursive(n):\n",
        "    if n == 0:\n",
        "        return n\n",
        "    return recursive(n - 1)\n",
        "\n",
        "def iterative(n):\n",
        "  for i in range(n, -1, -1):\n",
        "    if i == 0:\n",
        "      return i\n",
        "\n",
        "print(f\"Tiempo recursivo:{timeit.timeit(lambda: recursive(100), number=90000)}\")\n",
        "print(f\"Tiempo iterativo:{timeit.timeit(lambda: iterative(100), number=90000)}\")"
      ],
      "metadata": {
        "id": "oDUbNZLYxdpH",
        "colab": {
          "base_uri": "https://localhost:8080/"
        },
        "outputId": "d21f8d66-3c37-42ca-e07a-d15f11f91bc7"
      },
      "execution_count": null,
      "outputs": [
        {
          "output_type": "stream",
          "name": "stdout",
          "text": [
            "Tiempo recursivo:1.0969382049997876\n",
            "Tiempo iterativo:0.32742471100027615\n"
          ]
        }
      ]
    },
    {
      "cell_type": "markdown",
      "source": [
        "### Colocar un elemento mutable como valor por defecto en un parametro"
      ],
      "metadata": {
        "id": "faH31fh-wf6J"
      }
    },
    {
      "cell_type": "code",
      "source": [
        "def añadir_numero(numero, numeros=None):\n",
        "    # if numeros is None:\n",
        "    #     numeros = []\n",
        "    numeros.append(numero)\n",
        "    return numeros\n"
      ],
      "metadata": {
        "id": "8qbuYWBqGF1y"
      },
      "execution_count": null,
      "outputs": []
    },
    {
      "cell_type": "code",
      "source": [
        "numeros_1 = añadir_numero(3) # [3]\n",
        "print(numeros_1)"
      ],
      "metadata": {
        "colab": {
          "base_uri": "https://localhost:8080/"
        },
        "id": "3au6pnhb9iUi",
        "outputId": "649df9df-1d67-4e06-e5f5-f6624638630c"
      },
      "execution_count": null,
      "outputs": [
        {
          "output_type": "stream",
          "name": "stdout",
          "text": [
            "[3]\n"
          ]
        }
      ]
    },
    {
      "cell_type": "code",
      "source": [
        "numeros_2 = añadir_numero(5) # [5]\n",
        "print(numeros_2)"
      ],
      "metadata": {
        "colab": {
          "base_uri": "https://localhost:8080/"
        },
        "id": "Ws80PbbV5ENJ",
        "outputId": "ef323ffe-bc9d-4c27-c26c-e8a5b14b89f1"
      },
      "execution_count": null,
      "outputs": [
        {
          "output_type": "stream",
          "name": "stdout",
          "text": [
            "[5]\n"
          ]
        }
      ]
    },
    {
      "cell_type": "markdown",
      "source": [
        "### Usar global keyword y permitir que las funciones sepan de variables fuera de su scope (alcance)"
      ],
      "metadata": {
        "id": "eAk_KlmFwbIv"
      }
    },
    {
      "cell_type": "code",
      "source": [
        "def modificar_variable_0():\n",
        "    y = 200\n",
        "    return y\n",
        "\n",
        "def modificar_variable_1():\n",
        "    global y\n",
        "    y = 500\n",
        "\n",
        "\n",
        "def modificar_variable_2(y):\n",
        "    y = 360\n",
        "    return y"
      ],
      "metadata": {
        "id": "d558SdgrGuZ3"
      },
      "execution_count": null,
      "outputs": []
    },
    {
      "cell_type": "code",
      "source": [
        "y = 10\n",
        "\n",
        "print(f\"antes de llamar a la funcion y es {y}\")\n",
        "\n",
        "# CUAL DE ESTAS FUNCIONES CREES QUE ESTA MODIFICANDO EL VALOR DE LA VARIABLE???\n",
        "modificar_variable_0()    # FUNCION 0\n",
        "modificar_variable_1()    # FUNCION 1\n",
        "modificar_variable_2(y)   # FUNCION 2\n",
        "\n",
        "print(f\"despues de llamar a la funcion y es {y}\")\n"
      ],
      "metadata": {
        "colab": {
          "base_uri": "https://localhost:8080/"
        },
        "id": "nNc6M7vWEZ6s",
        "outputId": "f247594a-89e8-4fd8-c465-372ae7ffd0ed"
      },
      "execution_count": null,
      "outputs": [
        {
          "output_type": "stream",
          "name": "stdout",
          "text": [
            "antes de llamar a la funcion y es 10\n",
            "despues de llamar a la funcion y es 360\n"
          ]
        }
      ]
    },
    {
      "cell_type": "markdown",
      "source": [
        "### sobreescribir nombres de variables usados por keywords\n"
      ],
      "metadata": {
        "id": "mLgseHZlI54Z"
      }
    },
    {
      "cell_type": "code",
      "source": [
        "\"\"\"\n",
        "int\n",
        "float\n",
        "bool\n",
        "id\n",
        "def\n",
        "return\n",
        "list\n",
        "dict\n",
        "set\n",
        "type\n",
        "dir\n",
        ".\n",
        ".\n",
        ".\n",
        "\n",
        "\"\"\""
      ],
      "metadata": {
        "id": "Zqq_Nq_J5ERl"
      },
      "execution_count": null,
      "outputs": []
    },
    {
      "cell_type": "code",
      "source": [
        "int = 4\n",
        "print(int)\n",
        "type = 10\n",
        "print(type)"
      ],
      "metadata": {
        "id": "yM26WNtuFWoC",
        "colab": {
          "base_uri": "https://localhost:8080/"
        },
        "outputId": "9c6cf8a3-1338-4629-c255-4cfe79934f28"
      },
      "execution_count": null,
      "outputs": [
        {
          "output_type": "stream",
          "name": "stdout",
          "text": [
            "4\n",
            "10\n"
          ]
        }
      ]
    },
    {
      "cell_type": "code",
      "source": [
        "print = lambda x: x*2\n",
        "print(2)\n",
        "print(3)"
      ],
      "metadata": {
        "id": "HArFxeEPFWrV"
      },
      "execution_count": null,
      "outputs": []
    },
    {
      "cell_type": "markdown",
      "source": [
        "### usar * en imports, o importar demasiadas cosas\n",
        "\n",
        "Usar \"import *\" en Python se considera una mala practica, porque de esta manera estás contaminando tu namespace. cuando hacemos \"import *\" importamos todas las funciones y clases a tu propio espacio de nombres, lo cual puede chocar con las funciones que defines o con las funciones de otras bibliotecas que importas. Además, en ocasiones se vuelve muy difícil determinar de qué biblioteca proviene una función en particular. El riesgo de sobrescribir variables/funciones, etc., siempre persiste con la práctica de \"import *\"."
      ],
      "metadata": {
        "id": "-7DT6cib5EVL"
      }
    },
    {
      "cell_type": "code",
      "source": [
        "from pandas import *\n",
        "\n",
        "read_csv(\"path\")"
      ],
      "metadata": {
        "id": "ptpli7DP_FJD"
      },
      "execution_count": null,
      "outputs": []
    },
    {
      "cell_type": "code",
      "source": [
        "from pandas import read_csv, DataFrame, Series\n",
        "\n",
        "read_csv(\"path\")"
      ],
      "metadata": {
        "id": "93H5SsAJ-ZmT"
      },
      "execution_count": null,
      "outputs": []
    },
    {
      "cell_type": "code",
      "source": [
        "import pandas as pd\n",
        "\n",
        "pd.read_csv()"
      ],
      "metadata": {
        "id": "PLzO8dDa_JCY"
      },
      "execution_count": null,
      "outputs": []
    },
    {
      "cell_type": "code",
      "source": [
        "import pandas as read_csv\n",
        "read_csv()"
      ],
      "metadata": {
        "id": "25Opa8r5U2B3"
      },
      "execution_count": null,
      "outputs": []
    },
    {
      "cell_type": "code",
      "source": [
        "from urllib3 import *\n",
        "from requests import *\n",
        "\n",
        "request(\"GET\", \"https://www.google.com/\") # is this from requests or urllib3 ??"
      ],
      "metadata": {
        "colab": {
          "base_uri": "https://localhost:8080/"
        },
        "id": "U9VVzWWEBenl",
        "outputId": "3bcf8de3-5eb1-4e7f-f931-aa9196af4bae"
      },
      "execution_count": null,
      "outputs": [
        {
          "output_type": "execute_result",
          "data": {
            "text/plain": [
              "<Response [200]>"
            ]
          },
          "metadata": {},
          "execution_count": 1
        }
      ]
    },
    {
      "cell_type": "markdown",
      "source": [
        "### No testear el codigo\n",
        "\n",
        "Testear codigo es una parte fundamental del desarrollo de software y deberia ser una preocupacion para todos aquellos que generen codigo, como humanos es imposible pensar que no vamos a tener errores, es por eso que debemos planear como si fueramos a equivocarnos y minimizar el riesgo atras de equivocarse. Esto significa que si nos equivocamos, pero lo detectamos en un test, podemos arreglarlos con el unico costo de una modica perdidad de tiempo, pero el mismo error si sale a produccion puede costar muchisimo dinero y problemas, es por eso que tenemos que testear como si siempre nos equivocaramos en algo.\n",
        "\n",
        "PD: No vamos a entrar en profundidad, ya que esto se vera con mayor detalle en clases posteriores."
      ],
      "metadata": {
        "id": "VxOL75O5_4uF"
      }
    },
    {
      "cell_type": "code",
      "source": [
        "# unitests:\n",
        "def factorial(num: int):\n",
        "    factorial = 1\n",
        "    # check if the number is negative, positive or zero\n",
        "    for i in range(1,num + 1):\n",
        "        factorial = factorial*i\n",
        "    return factorial"
      ],
      "metadata": {
        "id": "PIgmhHy1Dg1R"
      },
      "execution_count": null,
      "outputs": []
    },
    {
      "cell_type": "code",
      "source": [
        "import unittest\n",
        "\n",
        "class factorialTest(unittest.TestCase):\n",
        "    def test_10(self):\n",
        "        factorial_10 = 3628800\n",
        "        self.assertTrue(factorial(10) == factorial_10)\n",
        "\n",
        "    def test_5(self):\n",
        "        factorial_5 = 120\n",
        "        self.assertTrue(factorial(5) == factorial_5)\n",
        "\n",
        "    def test_0(self):\n",
        "        factorial_0 = 1\n",
        "        self.assertTrue(factorial(0) == factorial_0)\n",
        "\n",
        "    def test_negative(self):\n",
        "        # Factorials can not be implemented on negative numbers\n",
        "        with self.assertRaises(Exception):\n",
        "            factorial(-10)\n",
        "\n",
        "\n",
        "if __name__ == '__main__':\n",
        "    unittest.main(argv=['first-arg-is-ignored'], exit=False)\n"
      ],
      "metadata": {
        "id": "-qBZlV7RFynS"
      },
      "execution_count": null,
      "outputs": []
    }
  ]
}