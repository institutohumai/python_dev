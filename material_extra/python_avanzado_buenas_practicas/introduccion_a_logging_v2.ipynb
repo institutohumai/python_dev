{
  "cells": [
    {
      "cell_type": "markdown",
      "source": [
        "# ¿Qué es un log?\n",
        "\n",
        "¿Qué es un log, y qué es el logging? Aquí traducimos un párrafo de la [documentación](https://docs.python.org/3/library/logging.html) de la librería:\n",
        "\n",
        "> El _logging_ es un modo de trackear eventos que ocurren a medida que ocurre un determinado _software_. El desarrollador del _software_ añade llamadas de _logging_/registro a su código para indicar que ciertos eventos han ocurrido. Un evento es indicado mediante un mensaje descriptivo, el cual puede contener data variable (i.e. data que es potencialmente distinta cada vez que ocurre el evento). Los eventos también tienen asignada por el desarrollador una importancia, que también puede ser llamada nivel o severidad.\n",
        "\n",
        "En otras palabras podemos decir que el logging es la practica de registrar eventos, accion o mensajes generado por un sistema o aplicacion, este posee un rol crucial en el area del software, principalmente en el area del monitoreo, pero tambien para otras areas como troubleshooting, seguridad y mas.\n",
        "\n",
        "## Razones por las cuales logging es importante\n",
        "\n",
        "- **Debugging y troubleshooting:** Cuando ocurren problemas o errores en un sistema, los logs brindan información muy valiosa sobre lo que sucedió antes del problema (y a veces despues) gracias a esto, se pueden examinar los logs para comprender la secuencia de eventos, identificar la causa del mismo y solucionar el problema de manera efectiva. Los logs pueden contener mensajes de error, stack traces y otros detalles relevantes, lo que facilita la solución de problemas.\n",
        "\n",
        "- **Monitoring and Performance Analysis:** Los logs ayudan a monitorear la salud y el rendimiento de un sistema o aplicación. Al registrar métricas relevantes, como tiempos de respuesta, uso de CPU, consumo de memoria y trafico de red, se pueden analizar tendencias de rendimiento, detectar anomalías y optimizar el sistema en consecuencia a las metricas e informacion recopilado por los logs, es decir, los logs puede proporcionar información sobre el comportamiento del sistema y ayudar a identificar cuellos de botella de rendimiento.\n",
        "\n",
        "- **Auditing and Compliance:** En muchas industrias y organizaciones, mantener un registro de auditoría es necesario para cumplir con las regulaciones y políticas impuestas. Los logs registran eventos importantes, acciones de los usuarios y actividades del sistema, proporcionando un rastro de auditoría para la accountability y compliance. Al revisar los logs, las organizaciones pueden asegurarse de que sus sistemas cumplan con estándares de seguridad, mantengan la integridad de los datos y detecten cualquier acceso no autorizado o actividad sospechosa.\n",
        "\n",
        "- **Security and Intrusion Detection:** Los logs son invaluables para detectar violaciones de seguridad e identificar posibles amenazas, al registrar el tráfico de red, los intentos de acceso, los fallos de autenticación y muchos otros eventos del sistema, las organizaciones pueden monitorear actividades sospechosas, rastrear el origen de los ataques e investigar incidentes de seguridad. Los logs pueden ayudarnos en el análisis forense y proporcionar evidencia durante los incidentes y las investigaciones posteriores al mismo."
      ],
      "metadata": {
        "id": "hWZ3GXnv72NE"
      }
    },
    {
      "cell_type": "markdown",
      "metadata": {
        "id": "62FtgJTGvB4r"
      },
      "source": [
        "# Logging: cómo generar logs a partir de tu código\n",
        "\n",
        "La librería estándar de Python `logging` nos permite implementar un sistema de _logs_ o archivos de registro en cualquier script o aplicación que estemos desarrollando.\n",
        "\n",
        "## Uso básico\n",
        "\n",
        "Antes de cualquier otra llamada a la librería, debemos comenzar inicializando los parámetros de la librería con `logging.basicConfig`, donde por ejemplo se especifica el nombre del archivo de log. Luego llamamos a la librería para generar los mensajes de nuestro interés.\n",
        "\n",
        "## Niveles de \"severidad\"\n",
        "\n",
        "Cada mensaje de logging tiene asignado un \"nivel\" o \"severidad\". De menor a mayor grado de severidad, son los siguientes.\n",
        "1. `DEBUG`: se usa para detalles y debugging\n",
        "2. `INFO`: información sobre el desarrollo (correcto) del proceso\n",
        "3. `WARNING`: se indica algo inesperado o potencialmente peligroso pero que no impide la ejecución correcta del _software_\n",
        "4. `ERROR`: algo falló y el _software_ no está ejecutándose como debería\n",
        "5. `CRITICAL`: error grave.\n",
        "\n",
        " A continuación un ejemplo de uso básico:"
      ]
    },
    {
      "cell_type": "code",
      "execution_count": null,
      "metadata": {
        "id": "BICkpBrI5pmT",
        "colab": {
          "base_uri": "https://localhost:8080/"
        },
        "outputId": "321a4cd7-2cad-4b0a-f959-e7eae89c45f3"
      },
      "outputs": [
        {
          "output_type": "stream",
          "name": "stderr",
          "text": [
            "WARNING:root:El argumento debía ser True. Como pusiste False, se generó una excepción ValueError pero no te preocupes, yo te lo resuelvo ;)\n"
          ]
        },
        {
          "output_type": "stream",
          "name": "stdout",
          "text": [
            "Hola comunidad de Humai! (uf, eso estuvo cerca)\n"
          ]
        }
      ],
      "source": [
        "import logging\n",
        "\n",
        "def saludar_comunidad_humai(saludo : bool = True):\n",
        "    if saludo:\n",
        "        print(\"Hola comunidad de Humai!\")\n",
        "    else:\n",
        "        raise ValueError\n",
        "\n",
        "def main(saludo : bool):\n",
        "    logging.basicConfig(filename='mi_archivo_log.log', encoding='utf-8')\n",
        "    logging.info(\"Comenzando proceso de saludado\")\n",
        "    try:\n",
        "        saludar_comunidad_humai(saludo)\n",
        "    except ValueError:\n",
        "        logging.warning(\"El argumento debía ser True. Como pusiste False, se generó una excepción ValueError pero no te preocupes, yo te lo resuelvo ;)\")\n",
        "        print(\"Hola comunidad de Humai! (uf, eso estuvo cerca)\")\n",
        "    logging.info(\"Proceso de saludado finalizó correctamente.\")\n",
        "\n",
        "# main(saludo=True) # no genera mensaje de error\n",
        "main(saludo=False) # genera mensaje de error"
      ]
    },
    {
      "cell_type": "markdown",
      "metadata": {
        "id": "VrwM1uLm5pmU"
      },
      "source": [
        "Si prueban descomentando alguna de las dos últimas líneas, verán que los mensajes de nivel `INFO` nunca se escriben en nuestro archivo de log. Esto se debe a que, por defecto, solo los mensajes de nivel `WARNING` para arriba se guardan en el log. Para modificar esto, agregamos el parámetro `level=logging.INFO` a la línea de configuración de la librería. De esta manera, los mensajes de nivel `INFO` para arriba quedarán guardados en el archivo.\n",
        "\n",
        "## Diferencia entre un _log_ y un _print_\n",
        "\n",
        "Muchas veces cuando empezamos a analizar nuestro código usamos comandos _print_ para hacer _debugging_ (por más que hay herramientas especializadas mucho más poderosas para hacerlo). También a veces usamos comandos _print_ para generar, por ejemplo al llamar nuestro script desde la consola, un registro de lo que va ocurriendo que vaya informando al usuario sobre qué está saliendo bien o está saliendo mal.\n",
        "\n",
        "El concepto de logging es similar a estos dos casos, con la diferencia de que los mensajes no serán impresos en pantalla sino que se guardarán en un archivo de texto (o más de uno, como vimos) determinado previamente por nosotros. Pero no solo eso, sino que podemos elegir diferentes niveles de severidad, lo que nos da poder para elegir que y que tanto queremos registrar y asi guardar solo la informacion necesaria para cada caso.\n",
        "Además, podemos hacer que cada mensaje quede etiquetado con la fecha y horario de su creación. Esto requiere modificar el formato de los mensajes, agregando a la línea de configuración el parámetro `format`. Una forma de hacer esto es con `format='%(asctime)s %(levelname)s:%(message)s'`. Aqui pueden encontrar diferentes atributos para usar en el format de los logs [Docs](https://docs.python.org/3/library/logging.html#logrecord-attributes)\n",
        "\n"
      ]
    },
    {
      "cell_type": "code",
      "execution_count": null,
      "metadata": {
        "id": "dS9ncK-15pmV",
        "outputId": "d46c8060-7e4a-43c7-a4d2-2e8350aeb850",
        "colab": {
          "base_uri": "https://localhost:8080/"
        }
      },
      "outputs": [
        {
          "output_type": "stream",
          "name": "stdout",
          "text": [
            "Hola comunidad de Humai! (uf, eso estuvo cerca)\n"
          ]
        }
      ],
      "source": [
        "%%python\n",
        "import logging\n",
        "\n",
        "def saludar_comunidad_humai(saludo : bool = True):\n",
        "    if saludo:\n",
        "        print(\"Hola comunidad de Humai!\")\n",
        "    else:\n",
        "        raise ValueError\n",
        "\n",
        "def main_2(saludo : bool):\n",
        "    logging.basicConfig(format='%(asctime)s %(levelname)s:%(message)s',\n",
        "                        filename='mi_archivo_log.log', encoding='utf-8',\n",
        "                        level=logging.INFO)\n",
        "    logging.info(\"Comenzando proceso de saludado\")\n",
        "    try:\n",
        "        saludar_comunidad_humai(saludo)\n",
        "    except ValueError:\n",
        "        logging.warning(\"El argumento debía ser True. Como pusiste False, se generó una excepción ValueError pero no te preocupes, yo te lo resuelvo ;)\")\n",
        "        print(\"Hola comunidad de Humai! (uf, eso estuvo cerca)\")\n",
        "    logging.info(\"Proceso de saludado finalizó correctamente.\")\n",
        "\n",
        "# main_2(saludo=True) # no genera mensaje de error\n",
        "main_2(saludo=False) # genera mensaje de error"
      ]
    },
    {
      "cell_type": "markdown",
      "metadata": {
        "id": "HSW0b2Tz5pmW"
      },
      "source": [
        "**Nota**: ¿Por qué pusimos el comando \"mágico\"\\* `%%python` arriba de todo en la celda anterior? El comando mágico `%%python` indica que toda la celda debe ser ejecutada independientemente en una nueva sesión de python (es como pasarle la celda al comando `python` en la terminal). ¿Por qué hacemos esto?\n",
        "\n",
        "Resulta que en cada sesión de Python, solo la primera llamada a la función `logging.basicConfig` importa. Es decir que si dentro de este notebook volvemos a llamarla con nuevos parámetros, es lo mismo que no hacer nada. Por eso, para no tener que pedirle al usuario de esta notebook que reinicie el kernel de Jupyter _y evite correr la celda de más arriba_, ejecutamos esta segunda celda en un proceso de Python independiente.\n",
        "\n",
        "Dicho sea de paso, esta es la misma razón por la cual es fundamental llamar a `logging.basicConfig` antes de generar el primer mensaje de logging, dado que si usamos por ejemplo `logging.error` antes de `logging.basicConfig`, la primera función llama silenciosamente a la segunda con los parámetros por defecto, y por lo tanto la siguiente llamada a `logging.basicConfig` (la nuestra) ya no surtirá efecto.\n",
        "\n",
        "\\* En el contexto de sesiones interactivas de Python, se le dice comandos \"mágicos\" a aquellos que comienzan con % o %%."
      ]
    },
    {
      "cell_type": "markdown",
      "metadata": {
        "id": "tZZJv7gA5pmX"
      },
      "source": [
        "\n",
        "## Ejemplo de uso\n",
        "\n",
        "Aqui tenemos un ejemplo de script que levanta los precios de dos criptomonedas, bitcoin (BTC) y ethereum (ETH)."
      ]
    },
    {
      "cell_type": "code",
      "execution_count": null,
      "metadata": {
        "colab": {
          "base_uri": "https://localhost:8080/"
        },
        "id": "dfMGWTSNu7dc",
        "outputId": "8239a985-1b90-4cda-f412-fd173ba4a6df"
      },
      "outputs": [
        {
          "name": "stdout",
          "output_type": "stream",
          "text": [
            "Overwriting crypto_price.py\n"
          ]
        }
      ],
      "source": [
        "%%writefile crypto_price.py\n",
        "import os\n",
        "import json\n",
        "import requests\n",
        "import pandas as pd\n",
        "from datetime import datetime\n",
        "\n",
        "# tenemos que hacer dos funciones: una para recibir el btc y otra para recibir el eth\n",
        "def btc_price():\n",
        "    # el endpoint de la API que compara BTC y dólar\n",
        "    key = \"https://api.binance.com/api/v3/ticker/price?symbol=BTCUSDT\"\n",
        "\n",
        "    # pedimos la data, la transformamos a dataframe y la devolvemos\n",
        "    data = requests.get(key)\n",
        "    data = data.json()\n",
        "    btc = pd.DataFrame([data])\n",
        "    return btc\n",
        "\n",
        "def eth_price():\n",
        "    # el endpoint de la API que compara ETH y dólar\n",
        "    key = \"https://api.binance.com/api/v3/ticker/price?symbol=ETHUSDT\"\n",
        "\n",
        "    data = requests.get(key)\n",
        "    data = data.json()\n",
        "    eth = pd.DataFrame([data])\n",
        "    return eth\n",
        "\n",
        "def main():\n",
        "    # armamos una carpeta para almacenar todo, si no existe la crea\n",
        "    path = 'crypto_prices'\n",
        "    os.makedirs(path, exist_ok=True)\n",
        "\n",
        "    # al momento de ejecutar esto en consola pedimos los precios de ambas monedas\n",
        "    btc = btc_price()\n",
        "    eth = eth_price()\n",
        "\n",
        "    # las unimos\n",
        "    price = pd.concat([btc, eth])\n",
        "\n",
        "    # identificamos a nivel de segundo cuándo hicimos el request para pegar en el dataframe\n",
        "    TIMESTAMP = datetime.now().strftime(\"%Y%m%d%H%M%S\")\n",
        "    price['timestamp'] = TIMESTAMP\n",
        "\n",
        "    # armamos el nombre del archivo usando el path con la carpeta que creamos y el timestamp\n",
        "    FILENAME = f'{path}/prices_{TIMESTAMP}.csv'\n",
        "    price.to_csv(FILENAME)\n",
        "    print(f'Data exportada a {FILENAME}')\n",
        "\n",
        "if __name__ == '__main__':\n",
        "   main()"
      ]
    },
    {
      "cell_type": "markdown",
      "metadata": {
        "id": "20VhH9-Z3Ho_"
      },
      "source": [
        "Usando la librería `logging` podemos dejar registro de cualquier situación inesperada o error que ocurra durante alguna de las ejecuciones, como por ejemplo un error de conexión al intentar levantar los datos. A continuación, mostramos una manera rápida de _envolver_ el código previo en un entorno `try`/`except`, que justamente maneja el caso en que la función `requests.get` eleva una excepción de tipo `ConnectionError`, agregando el evento al log."
      ]
    },
    {
      "cell_type": "code",
      "execution_count": null,
      "metadata": {
        "colab": {
          "base_uri": "https://localhost:8080/"
        },
        "id": "grugnCS6_2XW",
        "outputId": "1087f57c-5b4f-40f4-8f8c-d95bfcb8d368"
      },
      "outputs": [
        {
          "output_type": "stream",
          "name": "stdout",
          "text": [
            "Writing crypto_price_logging.py\n"
          ]
        }
      ],
      "source": [
        "%%writefile crypto_price_logging.py\n",
        "import logging\n",
        "import requests\n",
        "from crypto_price import main as get_crypto_price\n",
        "\n",
        "def main():\n",
        "    logging.basicConfig(filename='connection_errors.log', encoding='utf-8')\n",
        "    try:\n",
        "      get_crypto_price()\n",
        "    except requests.exceptions.ConnectionError as e:\n",
        "        logging.error('Error de conexión: %s', e)\n",
        "        raise\n",
        "\n",
        "if __name__ == '__main__':\n",
        "    main()"
      ]
    },
    {
      "cell_type": "markdown",
      "metadata": {
        "id": "QnxOxQlYFv9r"
      },
      "source": [
        "Si ahora desactivamos nuestra conexión a internet y ejecutamos el script desde la consola, veremos que el script deja registrado correctamente que se intentó ejecutar pero hubo un error de conexión, copiando al final el output de dicho error:"
      ]
    },
    {
      "cell_type": "code",
      "execution_count": null,
      "metadata": {
        "id": "-UIm6a_m5pmZ"
      },
      "outputs": [],
      "source": [
        "# desconectarse de internet antes de descomentar y correr esta línea!\n",
        "# !python crypto_price_logging.py"
      ]
    },
    {
      "cell_type": "markdown",
      "metadata": {
        "id": "c2XWva0s5pma"
      },
      "source": [
        "Veremos en nuestro archivo connection_errors.log algo como esto:\n",
        "\n",
        "![image](https://github.com/institutohumai/cursos-python/blob/master/PracticasDeDesarrollo/Logging/imgs/error_de_conexion.png?raw=1)\n",
        "\n",
        "### Sobre variables en los mensajes de log\n",
        "\n",
        "El mensaje de error de arriba es un ejemplo de mensaje con datos variables, en este caso la variable `e` contiene el error elevado por el módulo `requests`. En estos casos debemos usar necesariamente la sintaxis vieja para formateo de strings, conocida como \"%-style\". Debido a cuestiones de compatibilidad, las sintaxis más nuevas requieren una configuración más avanzada de la librería que no cubriremos en esta ocasión."
      ]
    },
    {
      "cell_type": "markdown",
      "metadata": {
        "id": "9Sj9IJWh5pma"
      },
      "source": [
        "# Conclusión\n",
        "\n",
        "Vimos cómo usar la librería `logging` para agregar un registro de errores (u otras informaciones útiles) a nuestro código. La librería permite usos mucho más sofisticados; con respecto a ellos recomendamos leer la [documentación oficial](https://docs.python.org/3/library/logging.html)."
      ]
    }
  ],
  "metadata": {
    "colab": {
      "provenance": []
    },
    "kernelspec": {
      "display_name": "Python 3.9.12 ('base')",
      "language": "python",
      "name": "python3"
    },
    "language_info": {
      "codemirror_mode": {
        "name": "ipython",
        "version": 3
      },
      "file_extension": ".py",
      "mimetype": "text/x-python",
      "name": "python",
      "nbconvert_exporter": "python",
      "pygments_lexer": "ipython3",
      "version": "3.9.12"
    },
    "vscode": {
      "interpreter": {
        "hash": "10ab406787690db56ff51ad7581454f335c3037e126665b390c71ea96662c76e"
      }
    }
  },
  "nbformat": 4,
  "nbformat_minor": 0
}