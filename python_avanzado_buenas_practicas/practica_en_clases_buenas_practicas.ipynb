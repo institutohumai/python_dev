{
  "nbformat": 4,
  "nbformat_minor": 0,
  "metadata": {
    "colab": {
      "provenance": []
    },
    "kernelspec": {
      "name": "python3",
      "display_name": "Python 3"
    },
    "language_info": {
      "name": "python"
    }
  },
  "cells": [
    {
      "cell_type": "markdown",
      "source": [
        "# Clase practica de Buenas practicas"
      ],
      "metadata": {
        "id": "cGHb9RweN8xR"
      }
    },
    {
      "cell_type": "markdown",
      "source": [
        "### Ejercicio 1:\n",
        "\n",
        "Cual es el significado de los siguientes 2 principios del \"Zen of Python\"\n",
        "\n",
        "`Flat is better than nested. Sparse is better than dense.`\n",
        "\n",
        "Escribelos en la celda de abajo:"
      ],
      "metadata": {
        "id": "UT9Di2TFOBBR"
      }
    },
    {
      "cell_type": "code",
      "execution_count": null,
      "metadata": {
        "id": "1iiuUcbEN0vv"
      },
      "outputs": [],
      "source": [
        "# Escribelos aqui"
      ]
    },
    {
      "cell_type": "markdown",
      "source": [
        "## Ejercicio 2:\n",
        "\n",
        "En este ejercicio tenemos un codigo con mucho para mejorar! es tu trabajo como desarrollador identificar que es lo que esta mal con este codigo.\n",
        "Reescribe este codigo siguiendo las buenas practicas! hay mucho por hacer!"
      ],
      "metadata": {
        "id": "AYzHTX0VP0yf"
      }
    },
    {
      "cell_type": "code",
      "source": [
        "from dataclasses import dataclass\n",
        "from typing import List\n",
        "import pandas as pd\n",
        "import numpy as np\n",
        "\n",
        "\n",
        "class Employee:\n",
        "\n",
        "    def __init__(self, name, role, vacation_days = 25):\n",
        "        self.name = name\n",
        "        self.role = role\n",
        "        self.vacation_days = vacation_days\n",
        "\n",
        "    def take_a_holiday(self, payout: bool) -> None:\n",
        "        if payout:\n",
        "            if self.vacation_days < 5:  # 5 is the fixed nr of vacation days that can be paid out.:\n",
        "                raise ValueError(\n",
        "                    f\"You don't have enough holidays left over for a payout.\\\n",
        "                        Remaining holidays: {self.vacation_days}.\"\n",
        "                )\n",
        "            try:\n",
        "                self.vacation_days -= 5  # 5 is the fixed nr of vacation days that can be paid out.\n",
        "                print(f\"Paying out a holiday. Holidays left: {self.vacation_days}\")\n",
        "            except Exception:\n",
        "                pass\n",
        "        else:\n",
        "            if self.vacation_days < 1:\n",
        "                raise ValueError(\n",
        "                    \"You don't have any holidays left. Now back to work, you!\"\n",
        "                )\n",
        "            self.vacation_days -= 1\n",
        "            print(\"Have fun on your holiday. Don't forget to check your emails!\")\n",
        "\n",
        "\n",
        "class HourlyEmployee(Employee):\n",
        "    def __init__(self, name, role, vacation_days = 25, hourly_rate = 50, amount = 10):\n",
        "        super().__init__(name, role, vacation_days)\n",
        "        self.hourly_rate = hourly_rate\n",
        "        self.amount = amount\n",
        "\n",
        "class SalariedEmployee(Employee):\n",
        "    def __init__(self, name, role, vacation_days = 25, monthly_salary = 5000):\n",
        "        super().__init__(name, role, vacation_days)\n",
        "        self.monthly_salary = monthly_salary\n",
        "\n",
        "    monthly_salary: float = 5000\n",
        "\n",
        "\n",
        "class Company:\n",
        "    def __init__(self, employees = []):\n",
        "        self.employees = employees\n",
        "\n",
        "    def add_employee(self, employee):\n",
        "        self.employees.append(employee)\n",
        "\n",
        "    def find_managers(self):\n",
        "        managers = []\n",
        "        for employee in self.employees:\n",
        "            if employee.role == \"manager\":\n",
        "                managers.append(employee)\n",
        "        return managers\n",
        "\n",
        "    def find_vice_presidents(self):\n",
        "        vice_presidents = []\n",
        "        for employee in self.employees:\n",
        "            if employee.role == \"vice_president\":\n",
        "                vice_presidents.append(employee)\n",
        "        return vice_presidents\n",
        "\n",
        "    def find_interns(self):\n",
        "        interns = []\n",
        "        for employee in self.employees:\n",
        "            if employee.role == \"intern\":\n",
        "                interns.append(employee)\n",
        "        return interns\n",
        "\n",
        "    def pay_employee(self, employee):\n",
        "        if isinstance(employee, SalariedEmployee):\n",
        "            print(\n",
        "                f\"Paying employee {employee.name} a monthly salary of ${employee.monthly_salary}.\"\n",
        "            )\n",
        "        elif isinstance(employee, HourlyEmployee):\n",
        "            print(\n",
        "                f\"Paying employee {employee.name} a hourly rate of \\\n",
        "                ${employee.hourly_rate} for {employee.amount} hours.\"\n",
        "            )\n",
        "\n",
        "\n",
        "def main() -> None:\n",
        "    company = Company()\n",
        "\n",
        "    company.add_employee(SalariedEmployee(name=\"Louis\", role=\"manager\"))\n",
        "    company.add_employee(HourlyEmployee(name=\"Brenda\", role=\"president\"))\n",
        "    company.add_employee(HourlyEmployee(name=\"Tim\", role=\"intern\"))\n",
        "\n",
        "    print(company.find_vice_presidents())\n",
        "    print(company.find_managers())\n",
        "    print(company.find_interns())\n",
        "    company.pay_employee(company.employees[0])\n",
        "    company.employees[0].take_a_holiday(False)\n",
        "\n",
        "\n",
        "main()"
      ],
      "metadata": {
        "id": "2Yk_IuLPP0JP"
      },
      "execution_count": null,
      "outputs": []
    },
    {
      "cell_type": "markdown",
      "source": [
        "### Ejercicio 3:\n",
        "\n",
        "Toma el codigo que hicimos en el ejercicio 2 e implementa loggings tanto para niveles de severidad de Info, Warning y Error. Piensa y detecta en donde deberia registrar cada uno de estos niveles de seguridad en dicho codigo!"
      ],
      "metadata": {
        "id": "E1COLyApV-Mm"
      }
    },
    {
      "cell_type": "code",
      "source": [],
      "metadata": {
        "id": "1_HexHY3WTor"
      },
      "execution_count": null,
      "outputs": []
    }
  ]
}