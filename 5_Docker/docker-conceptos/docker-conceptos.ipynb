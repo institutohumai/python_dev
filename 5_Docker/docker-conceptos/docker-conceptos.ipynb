{
 "cells": [
  {
   "cell_type": "markdown",
   "metadata": {},
   "source": [
    "# Conceptos Docker"
   ]
  },
  {
   "cell_type": "markdown",
   "metadata": {},
   "source": [
    "![](./images/logo-scaled.png)"
   ]
  },
  {
   "cell_type": "markdown",
   "metadata": {},
   "source": [
    "## El camino del desarrollador\n",
    "![](./images/jedi.png)  \n",
    "- \"Rescatamos\" algún proyecto previo.\n",
    "- Instalamos **dependencias** que vamos necesitando.\n",
    "- Configuramos **variables de entorno**.\n",
    "- Agregamos archivos de configuración.\n",
    "- Incorporamos **assets**: img, css, js.\n",
    "- Resolvemos el problema.\n",
    "- Y un dia lo tenemos que subir a la **nube**  \n",
    "\n",
    "## Proyectos en distintas plataformas\n",
    "### Proyecto Node.js\n",
    "![](./images/node-project.png)\n",
    "![](./images/package.json.png)\n",
    "```bash\n",
    "npm install\n",
    "npm run start\n",
    "```\n",
    "\n",
    "### Proyecto Java\n",
    "![](./images/java-project.png)\n",
    "![](./images/pom.xml.png)\n",
    "```bash\n",
    "mvn pom.xml\n",
    "java -jar MyApplication.jar\n",
    "```\n",
    "\n",
    "### Proyecto Python\n",
    "![](./images/python-project.png)\n",
    "![](./images/requirements.txt.png)  \n",
    "```bash\n",
    "pip install -r requirements.txt\n",
    "python app.py\n",
    "```\n",
    "\n",
    "### Otras plataformas\n",
    "- Proyectos .NET, PHP, Ruby, Go, etc. son similares.\n",
    "- Nuestras aplicaciones además necesitan otros servidores y bases de datos para funcionar  \n",
    "![](./images/otras-plataformas.png)"
   ]
  },
  {
   "cell_type": "markdown",
   "metadata": {},
   "source": [
    "## Previamente para llegar a la nube\n",
    "- Probamos que todo funcione bien en forma local.\n",
    "- Zipeamos el código fuente.\n",
    "- Instanciamos una máquina en EC2 o en Compute Engine.\n",
    "- Subimos el código.\n",
    "- Instalamos las dependencias.\n",
    "- Rezamos para que no nos hayamos olvidado nada 🙏\n",
    "- Corremos nuestro proyecto.\n",
    "\n",
    "- ¿Y si no funciona?  \n",
    "![](./images/it-works.jpg)\n",
    "![](./images/ship.png)\n",
    "- Este enfoque puede funcionar bien para deployar una vez.\n",
    "- ¿Si tenemos que replicar nuestra aplicación muchas veces?\n",
    "- ¿Y si nos peleamos con el problema antes de subir a la nube?\n",
    "- ¿Y si construimos el ambiente que necesita nuestra aplicación una sola vez?\n",
    "- Esta es la propuesta de los containers.\n",
    "- Llevar este ambiente de un entorno a otro, de local a producción."
   ]
  },
  {
   "cell_type": "markdown",
   "metadata": {},
   "source": [
    "## Docker\n",
    "![](./images/200.png)\n",
    "- Nuestra ballena preferida al rescate: Docker\n",
    "- Docker permite que una máquina de base pueda compartir tiempo de CPU, Memoria y Disco con pequeñas máquinas llamados containers.\n",
    "- Es mucho más óptimo que la Virtualización clásica porque no levanta un Sistema Operativo completo.\n",
    "- Provee una forma de ejecutar software de forma segura, en un entorno aislado, empaquetado y con todas sus dependencias y librerías."
   ]
  },
  {
   "cell_type": "markdown",
   "metadata": {},
   "source": [
    "## Virtualización vs Docker\n",
    "![](./images/virtualizacion.png)"
   ]
  },
  {
   "cell_type": "markdown",
   "metadata": {},
   "source": [
    "## Propiedades de los contenedores\n",
    "- Un contenedor es un proceso **autocontenido**.\n",
    "- Se lanza a partir de una **imagen**.\n",
    "- Esta imagen tiene **todo lo necesario** para que el contenedor pueda correr. \n",
    "- No es necesario crear esta imagen a partir de un OS completo.\n",
    "- Por lo tanto es mucho **más liviano** que una VM.\n",
    "- Todos los contenedores son **independientes** entre sí y del entorno en el que corren.\n",
    "- Permite **aprovechar mucho mejor** los recursos de hardware del host."
   ]
  },
  {
   "cell_type": "markdown",
   "metadata": {},
   "source": [
    "## Arquitectura de Docker\n",
    "![](./images/engine.png)  \n",
    "https://docs.docker.com/get-started/overview/"
   ]
  },
  {
   "cell_type": "markdown",
   "metadata": {},
   "source": [
    "## Docker Engine y Docker CLI\n",
    "- Instalar Docker Community Edition (CE) https://docs.docker.com/install/\n",
    "- Cliente / Servidor: Docker CLI / Docker Engine\n",
    "- En Linux corre de forma nativa y comparte el kernel con sus containers.\n",
    "- En Windows corre a través de Hyper-V.\n",
    "- En Mac corre a través HyperKit.\n",
    "- Previamente se corría mediante VirtualBox (Docker Toolbox)."
   ]
  },
  {
   "cell_type": "markdown",
   "metadata": {},
   "source": [
    "## Imagenes y contenedores\n",
    "- Comparemos cómo se crean un proceso regular y un contenedor de Docker.  \n",
    "![](./images/process.png)  \n",
    "- Un proceso regular del Sistema operativo se inicia a partir de un ejecutable (.exe), el cual fue compilado a partir de un código fuente. Similar para lenguajes interpretados.  \n",
    "![](./images/exe.png)  \n",
    "- Para el caso de un contenedor, al código se le suman las dependencias, variables de entorno, archivos de configuración, etc. y crean un Dockerfile. El Dockerfile es una lista de instrucciones que le pasamos al Docker Engine para que construya la imagen.   \n",
    "![](./images/runtime.png)  \n",
    "- Con el comando `docker build` le pasamos el Dockerfile al Docker Engine, que sigue las instrucciones para crear una Imagen de Docker que luego se usa para iniciar un contenedor. Un contenedor se construye a partir de un molde, este molde se conoce como imagen.  \n",
    "![](./images/image.png)  \n",
    "- Con la Imagen de Docker iniciamos un contenedor con `docker run`  \n",
    "![](./images/docker-run.png)  \n",
    "- El nuevo contenedor va a correr junto a los demás contenedores que tenga dentro de mi Docker Engine. Los contenedores están aislados los unos de los otros: Docker Engine regula cuántos recursos asigna a cada uno. Cada vez que corremos docker build creamos una imagen nueva.  \n",
    "![](./images/containers.png)  \n",
    "- Podemos correr una imagen de Docker como un contenedor en otro sistema. Docker nos asegura que este nuevo contenedor va a correr como el original.  \n",
    "![](./images/other-engine.png)  \n",
    "- Esta portabilidad permite resolver el problema de compatibilidad entre sistemas que tendríamos si quisiéramos correr el proceso directamente en otro sistema.  \n",
    "![](./images/not-exe.png)  "
   ]
  },
  {
   "cell_type": "markdown",
   "metadata": {},
   "source": [
    "## Corramos un container!\n",
    " \n",
    "## Arquitectura de Docker\n",
    "![](./images/main-comands.png)  \n",
    "https://docs.docker.com/get-started/overview/\n",
    "\n",
    "## Construcción de una imagen\n",
    "![](./images/construccion-imagen.png)  \n",
    "- Un contenedor se lanza a partir de un molde que se conoce como **imagen**. \n",
    "- Cuando construimos la imagen, cada comando que vamos ejecutando genera un **cambio** en el sistema de archivos de la misma.\n",
    "- Estos cambios se llaman **capas**, por lo tanto una imagen de Docker es el resultados de todas las capas que se fueron apilando en el pasado con estos cambios.\n",
    "- Se dice asi que cada capa **hereda** de la capa anterior.\n",
    "- Las imágenes de Docker son **inmutables**.\n",
    "- Las capas intermedias que se generan durante la construccion de una imnagen son **cacheadas** para un uso posterior y para agilizar el proceso de construccion.\n",
    "- Docker cuenta con una serie de **comandos** especifica para la construcción de imagenes.\n",
    "- Las instrucciones de construccion se agrupan en un archivo llamado por convencion `Dockerfile` \n",
    "- Estas instrucciones son ejecutadas al invocar el comando `docker build`\n",
    "- Para la construcción de imágenes es necesario el archivo `Dockerfile` y un **contexto de construcción**.\n",
    "- Basicamente consiste en los **archivos** que vamos a incorporar a la imagen de Docker, suelen ser el codigo y las dependencias.\n",
    "- El contexto de construcción es una **carpeta local** o un **repositorio** de git.\n",
    "\n",
    "## Construyamos una imagen!"
   ]
  },
  {
   "cell_type": "markdown",
   "metadata": {},
   "source": [
    "## Persistencia\n",
    "- Todo contenedor tiene asociado un **sistema de archivos** basado en el sistema operativo desde el que se construyó la imagen. \n",
    "- Este sistema de archivos vive en **memoria** (es rápido!) y todo cambio que hagamos durante la ejecución se guarda en una capa escribible del contenedor.\n",
    "- Está fuertemente **acoplado** al contenedor que lo usa.\n",
    "- Cuando el contenedor termina ya vimos que va a parar a algún lugar del disco del host.\n",
    "- Es posible \"resucitar\" un contenedor terminado y recuperar sus archivos, pero no es lo más óptimo.\n",
    "- Si eliminamos el contenedor, nuestros datos se van con él.\n",
    "\n",
    "## Opciones de Storage\n",
    "![](./images/storage.png)  \n",
    "https://docs.docker.com/storage/\n",
    "\n",
    "### Volumenes\n",
    "![](./images/volumenes.png) \n",
    "- La máquina host le cede **una parte** del disco que administra el Docker Engine (/var/lib/docker/volumes/ en Linux)\n",
    "- Procesos que no sean los de Docker **no deberían escribir** nada en esa parte. Es propiedad del root.\n",
    "- Se pueden crear con o sin un contenedor que los use.\n",
    "- Se pueden montar en **varios** contenedores.\n",
    "- El container lo \"ve\" como un directorio más, es transparente.\n",
    "- Pueden ser **nombrados** o **anónimos**.\n",
    "- Se borran solo cuando lo hacemos **explícitamente**\n",
    "- Si tuvieramos la necesidad de llevar nuestro container a la nube o a otro host nos podriamos llevar este directorio de volumenes a otro host.\n",
    "- https://docs.docker.com/storage/volumes/\n",
    "\n",
    "### Puntos de Montaje\n",
    "![](./images/bind-amount.png) \n",
    "- Pueden ser **cualquier parte** del disco del host.\n",
    "- El host le hace visible una parte de su sistema de archivos a un contenedor (cuidado! `/root`).\n",
    "- Procesos que no sean los de Docker **pueden escribir** en el punto de montaje.\n",
    "- El contenedor también lo \"ve\" como un directorio más.\n",
    "- Fuertemente acoplados a que la **ruta exista** en el host que corre el contenedor.\n",
    "- No son tan flexibles como los volumenes y en general se desaconseja su uso.\n",
    "- Se usan para compartir configuración con el contenedor, por ejemplo resolución de DNS (/etc/resolv.conf)\n",
    "- Si estamos haciendo algún desarrollo y queremos reflejar un cambio en el código **instantáneamente** en el contenedor, le podriamos montar nuestra carpeta de archivos compilados o binarios.\n",
    "- https://docs.docker.com/storage/bind-mounts/\n",
    "\n",
    "### tmpfs mounts\n",
    "- Solo existen en memoria y nunca se escriben a disco.\n",
    "- Ideal para caché o archivos sensibles.  \n",
    "![](./images/tmpfs.png)  \n",
    "\n",
    "### ¿Como se usan?\n",
    "- Creacion, listado y manipulación de volumenes: `docker volume`\n",
    "- Montaje a la hora de arrancar un contenedor se hace con el parámetro `-v` o `--volume`\n",
    "- Iniciar con un contenedor con `--tmpfs /app`\n",
    "\n",
    "## Usemos Volumes & Bind Mounts!\n",
    "\n",
    "## Docker Compose\n",
    "![](./images/alone.png)  \n",
    "- Ningún contenedor anda solo por la vida.\n",
    "- Docker Compose nos permite correr múltiples contenedores (probablemente de la misma aplicación) en el **mismo Docker Engine**.\n",
    "- Los contenedores se configuran en archivos YAML como `services`.\n",
    "- Con un solo comando podemos levantar y administrar **todos** estos servicios.\n",
    "- Cada servicio puede ser una imagen de Docker local (basada en un Dockerfile) o remota (DockerHub o cualquier otro Docker Registry).\n",
    "- Ideal para testear una aplicación completa en nuestra máquina antes de trasladarla a la nube y probarla con varias configuraciones distintas: local, stage, production.\n",
    "- Docker Compose crea una red interna entre todos estos servicios para que se vean entre si.\n",
    "- Los atributos de cada service tienen su correspondiente en el docker run: Puertos, Variables de entorno, Volumenes.  \n",
    "![](./images/pulpo.png)  \n",
    "\n",
    "## Usemos Docker Compose!"
   ]
  }
 ],
 "metadata": {
  "kernelspec": {
   "display_name": "Python 3 (ipykernel)",
   "language": "python",
   "name": "python3"
  },
  "language_info": {
   "codemirror_mode": {
    "name": "ipython",
    "version": 3
   },
   "file_extension": ".py",
   "mimetype": "text/x-python",
   "name": "python",
   "nbconvert_exporter": "python",
   "pygments_lexer": "ipython3",
   "version": "3.7.6"
  }
 },
 "nbformat": 4,
 "nbformat_minor": 4
}
