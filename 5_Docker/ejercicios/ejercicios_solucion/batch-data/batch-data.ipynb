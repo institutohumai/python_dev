{
 "cells": [
  {
   "cell_type": "markdown",
   "metadata": {},
   "source": [
    "# Data en batch"
   ]
  },
  {
   "cell_type": "code",
   "execution_count": 1,
   "metadata": {},
   "outputs": [],
   "source": [
    "import os\n",
    "import pandas as pd\n",
    "from sqlalchemy import create_engine"
   ]
  },
  {
   "cell_type": "code",
   "execution_count": 2,
   "metadata": {},
   "outputs": [],
   "source": [
    "DATASET_URL = os.environ.get('DATASET_URL', 'https://storage.googleapis.com/humai-datasets/aws_s3/python_dev/5_Docker/ejercicios/bank-additional-full.csv')\n",
    "\n",
    "POSTGRES_USER = os.environ.get('POSTGRES_USER', 'postgres')\n",
    "POSTGRES_PASSWORD = os.environ.get('POSTGRES_PASSWORD', 'postgres')\n",
    "POSTGRES_HOST = os.environ.get('POSTGRES_HOST', 'localhost')\n",
    "# POSTGRES_HOST = os.environ.get(DATASET_URL, 'local_pgdb')\n",
    "POSTGRES_DATABASE = os.environ.get('POSTGRES_DATABASE', 'bank')\n",
    "\n",
    "SQLALCHEMY_DATABASE_URL = f'postgresql://{POSTGRES_USER}:{POSTGRES_PASSWORD}@{POSTGRES_HOST}:5432/{POSTGRES_DATABASE}'\n",
    "    \n",
    "TABLE_NAME = 'clients'"
   ]
  },
  {
   "cell_type": "code",
   "execution_count": null,
   "metadata": {},
   "outputs": [],
   "source": [
    "print('Leyendo el dataset')"
   ]
  },
  {
   "cell_type": "code",
   "execution_count": 4,
   "metadata": {},
   "outputs": [],
   "source": [
    "bank_data_df = pd.read_csv(DATASET_URL, sep=';')"
   ]
  },
  {
   "cell_type": "code",
   "execution_count": 5,
   "metadata": {},
   "outputs": [
    {
     "name": "stdout",
     "output_type": "stream",
     "text": [
      "<class 'pandas.core.frame.DataFrame'>\n",
      "RangeIndex: 41188 entries, 0 to 41187\n",
      "Data columns (total 21 columns):\n",
      " #   Column          Non-Null Count  Dtype  \n",
      "---  ------          --------------  -----  \n",
      " 0   age             41188 non-null  int64  \n",
      " 1   job             41188 non-null  object \n",
      " 2   marital         41188 non-null  object \n",
      " 3   education       41188 non-null  object \n",
      " 4   default         41188 non-null  object \n",
      " 5   housing         41188 non-null  object \n",
      " 6   loan            41188 non-null  object \n",
      " 7   contact         41188 non-null  object \n",
      " 8   month           41188 non-null  object \n",
      " 9   day_of_week     41188 non-null  object \n",
      " 10  duration        41188 non-null  int64  \n",
      " 11  campaign        41188 non-null  int64  \n",
      " 12  pdays           41188 non-null  int64  \n",
      " 13  previous        41188 non-null  int64  \n",
      " 14  poutcome        41188 non-null  object \n",
      " 15  emp.var.rate    41188 non-null  float64\n",
      " 16  cons.price.idx  41188 non-null  float64\n",
      " 17  cons.conf.idx   41188 non-null  float64\n",
      " 18  euribor3m       41188 non-null  float64\n",
      " 19  nr.employed     41188 non-null  float64\n",
      " 20  y               41188 non-null  object \n",
      "dtypes: float64(5), int64(5), object(11)\n",
      "memory usage: 6.6+ MB\n"
     ]
    }
   ],
   "source": [
    "bank_data_df.info()"
   ]
  },
  {
   "cell_type": "code",
   "execution_count": 6,
   "metadata": {},
   "outputs": [
    {
     "name": "stdout",
     "output_type": "stream",
     "text": [
      "   age          job  marital            education  default housing loan  \\\n",
      "0   56    housemaid  married             basic.4y       no      no   no   \n",
      "1   57     services  married          high.school  unknown      no   no   \n",
      "2   37     services  married          high.school       no     yes   no   \n",
      "3   40       admin.  married             basic.6y       no      no   no   \n",
      "4   56     services  married          high.school       no      no  yes   \n",
      "5   45     services  married             basic.9y  unknown      no   no   \n",
      "6   59       admin.  married  professional.course       no      no   no   \n",
      "7   41  blue-collar  married              unknown  unknown      no   no   \n",
      "8   24   technician   single  professional.course       no     yes   no   \n",
      "9   25     services   single          high.school       no     yes   no   \n",
      "\n",
      "     contact month day_of_week  ...  campaign  pdays  previous     poutcome  \\\n",
      "0  telephone   may         mon  ...         1    999         0  nonexistent   \n",
      "1  telephone   may         mon  ...         1    999         0  nonexistent   \n",
      "2  telephone   may         mon  ...         1    999         0  nonexistent   \n",
      "3  telephone   may         mon  ...         1    999         0  nonexistent   \n",
      "4  telephone   may         mon  ...         1    999         0  nonexistent   \n",
      "5  telephone   may         mon  ...         1    999         0  nonexistent   \n",
      "6  telephone   may         mon  ...         1    999         0  nonexistent   \n",
      "7  telephone   may         mon  ...         1    999         0  nonexistent   \n",
      "8  telephone   may         mon  ...         1    999         0  nonexistent   \n",
      "9  telephone   may         mon  ...         1    999         0  nonexistent   \n",
      "\n",
      "  emp.var.rate  cons.price.idx  cons.conf.idx  euribor3m  nr.employed   y  \n",
      "0          1.1          93.994          -36.4      4.857       5191.0  no  \n",
      "1          1.1          93.994          -36.4      4.857       5191.0  no  \n",
      "2          1.1          93.994          -36.4      4.857       5191.0  no  \n",
      "3          1.1          93.994          -36.4      4.857       5191.0  no  \n",
      "4          1.1          93.994          -36.4      4.857       5191.0  no  \n",
      "5          1.1          93.994          -36.4      4.857       5191.0  no  \n",
      "6          1.1          93.994          -36.4      4.857       5191.0  no  \n",
      "7          1.1          93.994          -36.4      4.857       5191.0  no  \n",
      "8          1.1          93.994          -36.4      4.857       5191.0  no  \n",
      "9          1.1          93.994          -36.4      4.857       5191.0  no  \n",
      "\n",
      "[10 rows x 21 columns]\n"
     ]
    }
   ],
   "source": [
    "print(bank_data_df.head(10))"
   ]
  },
  {
   "cell_type": "code",
   "execution_count": 7,
   "metadata": {},
   "outputs": [
    {
     "name": "stdout",
     "output_type": "stream",
     "text": [
      "Escribiendo en base de datos\n"
     ]
    }
   ],
   "source": [
    "print('Escribiendo en base de datos')\n",
    "engine = create_engine(SQLALCHEMY_DATABASE_URL)\n",
    "bank_data_df.to_sql(name=TABLE_NAME, con=engine, if_exists='replace', index=False)"
   ]
  },
  {
   "cell_type": "code",
   "execution_count": null,
   "metadata": {},
   "outputs": [],
   "source": [
    "# !pip install --upgrade nbconvert\n",
    "# !jupyter nbconvert --to script batch-data.ipynb"
   ]
  }
 ],
 "metadata": {
  "kernelspec": {
   "display_name": "Python 3 (ipykernel)",
   "language": "python",
   "name": "python3"
  },
  "language_info": {
   "codemirror_mode": {
    "name": "ipython",
    "version": 3
   },
   "file_extension": ".py",
   "mimetype": "text/x-python",
   "name": "python",
   "nbconvert_exporter": "python",
   "pygments_lexer": "ipython3",
   "version": "3.7.6"
  }
 },
 "nbformat": 4,
 "nbformat_minor": 4
}
