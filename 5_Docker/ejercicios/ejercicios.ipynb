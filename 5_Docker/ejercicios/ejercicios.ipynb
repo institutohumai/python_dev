{
 "cells": [
  {
   "cell_type": "markdown",
   "metadata": {},
   "source": [
    "# Ejercicio Docker"
   ]
  },
  {
   "cell_type": "markdown",
   "metadata": {},
   "source": [
    "- Definir un cluster en Docker Compose que contenga:\n",
    "\t- Un contenedor con PostgreSQL con un punto de montaje en el directorio local en el cual se guarden los datos de la Base de Datos.  \n",
    "\t- Un contenedor con pgAdmin con un volumen nombrado en el cual se guarden las conexiones a las Bases de Datos.  \n",
    "- Mediante el pgAdmin conectarse al PostgreSQL y crear una Base de Datos llamada `bank`  \n",
    "- Si detenemos el cluster y lo volvemos a levantar con `docker-compose up` deberiamos seguir viendo la conexion a la base de datos y la base de datos `bank`  \n",
    "- Definir un script de Python que mediante Pandas lea el CSV guardado en `https://bank-marketing.s3.amazonaws.com/bank-additional-full.csv` y lo escriba en una tabla llamada `clients` en la Base de Datos `bank`  \n",
    "- Definir un `Dockerfile` que contenga ese script y todas sus dependencias, cada vez que se lance el contenedor debe sobreescribir la tabla.  "
   ]
  }
 ],
 "metadata": {
  "kernelspec": {
   "display_name": "Python 3 (ipykernel)",
   "language": "python",
   "name": "python3"
  },
  "language_info": {
   "codemirror_mode": {
    "name": "ipython",
    "version": 3
   },
   "file_extension": ".py",
   "mimetype": "text/x-python",
   "name": "python",
   "nbconvert_exporter": "python",
   "pygments_lexer": "ipython3",
   "version": "3.7.6"
  }
 },
 "nbformat": 4,
 "nbformat_minor": 4
}
