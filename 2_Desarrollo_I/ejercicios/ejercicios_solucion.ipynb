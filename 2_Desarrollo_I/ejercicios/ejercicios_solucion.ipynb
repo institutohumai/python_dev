{
 "cells": [
  {
   "cell_type": "markdown",
   "metadata": {},
   "source": [
    "## Ejercicio\n",
    "\n",
    "Para la tarea de esta clase trabajaremos con esta [API](http://numbersapi.com) (te invito a que vayas entrando para poder ir viendo de qué se trata y cómo usarla).\n",
    "\n",
    "Vamos a realizar dos scripts: para el primero, usando Click, tu tarea es crear un script que al ejecutarlo desde el cli le puedas pasar de forma interactiva qué número se quiere consultar, y que devuelva ese resultado a la consola.\n",
    "\n",
    "Para el segundo script, tu tarea es modificar el script que creaste para que pueda correrse usando crontab, y ejecutándose cada minuto. El script tiene que tomar el valor del minuto actual, hacer una consulta y almacenar el resultado en una carpeta.\n",
    "\n",
    "¡Suerte! :)"
   ]
  },
  {
   "cell_type": "markdown",
   "metadata": {
    "tags": []
   },
   "source": [
    "### Bonus track: Un carpincho programador\n",
    "Sólo está acá para hacer espacio y que no veas las respuestas que están abajo. ¡Decime si no te alegró la notebook!\n",
    "\n",
    "![Carpincho Programador](./imgs/carpincho.png)"
   ]
  },
  {
   "cell_type": "markdown",
   "metadata": {},
   "source": [
    "## Resolución del ejercicio"
   ]
  },
  {
   "cell_type": "markdown",
   "metadata": {},
   "source": [
    "### Parte 1"
   ]
  },
  {
   "cell_type": "code",
   "execution_count": 2,
   "metadata": {},
   "outputs": [
    {
     "name": "stdout",
     "output_type": "stream",
     "text": [
      "Overwriting ejercicio.py\n"
     ]
    }
   ],
   "source": [
    "%%writefile ejercicio.py\n",
    "import click\n",
    "import requests\n",
    "\n",
    "@click.command()\n",
    "@click.option('--numero', type=int, default=1, help='El numero a buscar.')\n",
    "def numero_trivia(numero):\n",
    "    \"\"\"Programa que arma busca trivias sobre el número que se le indique.\"\"\"\n",
    "    # el endpoint de la API\n",
    "    key = f'http://numbersapi.com/{numero}/'\n",
    "    \n",
    "    data = requests.get(key)  \n",
    "    data = data.text\n",
    "    \n",
    "    click.echo(data)\n",
    "    \n",
    "if __name__ == '__main__':\n",
    "    numero_trivia()"
   ]
  },
  {
   "cell_type": "code",
   "execution_count": 5,
   "metadata": {},
   "outputs": [
    {
     "name": "stdout",
     "output_type": "stream",
     "text": [
      "42 is the number of museums in Amsterdam (Netherlands has the highest concentration of museums in the world).\n"
     ]
    }
   ],
   "source": [
    "!python3 ejercicio.py --numero=42"
   ]
  },
  {
   "cell_type": "markdown",
   "metadata": {},
   "source": [
    "### Parte 2"
   ]
  },
  {
   "cell_type": "code",
   "execution_count": 4,
   "metadata": {},
   "outputs": [
    {
     "data": {
      "text/plain": [
       "51"
      ]
     },
     "execution_count": 4,
     "metadata": {},
     "output_type": "execute_result"
    }
   ],
   "source": [
    "import datetime\n",
    "\n",
    "datetime.datetime.now().minute"
   ]
  },
  {
   "cell_type": "code",
   "execution_count": 13,
   "metadata": {},
   "outputs": [
    {
     "name": "stdout",
     "output_type": "stream",
     "text": [
      "Overwriting ejercicio2.py\n"
     ]
    }
   ],
   "source": [
    "%%writefile ejercicio2.py\n",
    "import os\n",
    "import click\n",
    "import requests\n",
    "import pandas as pd\n",
    "import datetime\n",
    "\n",
    "def numero_trivia():\n",
    "    \"\"\"Programa que arma busca trivias sobre el número que se le indique.\"\"\"\n",
    "    # usamos el modulo datetime para obtener el valor del minuto de la ejecucion\n",
    "    numero = datetime.datetime.now().minute\n",
    "    \n",
    "    # el endpoint de la API\n",
    "    key = f'http://numbersapi.com/{numero}/'\n",
    "    \n",
    "    data = requests.get(key)  \n",
    "    data = data.text\n",
    "    \n",
    "    # ahora necesitamos que la funcion devuelva el texto\n",
    "    return data\n",
    "    \n",
    "if __name__ == '__main__':\n",
    "    \n",
    "    # aplicamos la logica para construir las carpetas\n",
    "    path = 'trivia'\n",
    "    os.makedirs(path, exist_ok=True)\n",
    "    TIMESTAMP = datetime.datetime.now().strftime(\"%Y%m%d%H%M%S\")\n",
    "    \n",
    "    trivia = numero_trivia()\n",
    "    \n",
    "    # armamos el nombre del archivo usando el path con la carpeta que creamos y el timestamp\n",
    "    FILENAME = f'{path}/trivia_{TIMESTAMP}.txt'\n",
    "    text_file = open(FILENAME, 'w')\n",
    "    text_file.write(trivia)\n",
    "    text_file.close()\n",
    "    print(f'Creé el archivo {FILENAME}')\n",
    "    print(f'Trivia: {trivia}')\n",
    "    "
   ]
  },
  {
   "cell_type": "code",
   "execution_count": 14,
   "metadata": {},
   "outputs": [
    {
     "name": "stdout",
     "output_type": "stream",
     "text": [
      "Creé el archivo trivia/trivia_20220816151355.txt\n",
      "Trivia: 13 is the Youngest age a minor can rent or purchase a T rated game by the ESRB without parental (age 18 or older) consent.\n"
     ]
    }
   ],
   "source": [
    "!python3 ejercicio2.py"
   ]
  },
  {
   "cell_type": "code",
   "execution_count": null,
   "metadata": {},
   "outputs": [],
   "source": []
  }
 ],
 "metadata": {
  "kernelspec": {
   "display_name": "Python 3 (ipykernel)",
   "language": "python",
   "name": "python3"
  },
  "language_info": {
   "codemirror_mode": {
    "name": "ipython",
    "version": 3
   },
   "file_extension": ".py",
   "mimetype": "text/x-python",
   "name": "python",
   "nbconvert_exporter": "python",
   "pygments_lexer": "ipython3",
   "version": "3.7.6"
  },
  "vscode": {
   "interpreter": {
    "hash": "d27203dcce1218a35e5dd056f2e1158cfdf3a468b69181284abdce2479607453"
   }
  }
 },
 "nbformat": 4,
 "nbformat_minor": 5
}
