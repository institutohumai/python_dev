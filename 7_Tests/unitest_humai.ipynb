{
  "nbformat": 4,
  "nbformat_minor": 0,
  "metadata": {
    "colab": {
      "provenance": []
    },
    "kernelspec": {
      "name": "python3",
      "display_name": "Python 3"
    },
    "language_info": {
      "name": "python"
    }
  },
  "cells": [
    {
      "cell_type": "code",
      "source": [
        "!mkdir -p project\n",
        "!touch project/__init__.py"
      ],
      "metadata": {
        "id": "9W5rWy1EpLNS"
      },
      "execution_count": null,
      "outputs": []
    },
    {
      "cell_type": "markdown",
      "source": [
        "# Tests unitarios\n",
        "\n",
        "Los tests unitarios (o unit tests) son la forma más común de tests. En pocas palabras, estos actúan sobre las partes más pequeñas y testables de una aplicación para asegurarse de que esa funcionalidad en particular funciona correctamente. Esto implica recorrer las partes más pequeñas e individuales del código. Idealmente, se realiza una prueba unitaria para cada parte del código en la aplicación, de forma aislada. Las pruebas unitarias son únicas en que son:\n",
        "\n",
        "Muy rápidas: en milisegundos o incluso más rápidas.\n",
        "Aisladas de dependencias lentas y/o propensas a errores (llamados a la DB o a APIs, etc)\n",
        "Deterministas: Si bien nos gustaría que todas las pruebas fueran deterministas, lograrlo para pruebas de integración o de end to end, es difícil en la práctica. Este criterio es de vital importancia para las pruebas unitarias.\n"
      ],
      "metadata": {
        "id": "_edMIgu3bO54"
      }
    },
    {
      "cell_type": "markdown",
      "source": [
        "## Modulo python unittest\n",
        "\n",
        "El módulo unittest es un framework de pruebas unitarias integrado en Python. Proporciona una serie de clases y métodos que permiten escribir y ejecutar pruebas unitarias de manera eficiente y organizada. Este está inspirado en otros frameworks de testeo unitario, como JUnit en Java. Permite a los desarrolladores crear casos de prueba, agruparlos en suites de pruebas y ejecutarlos de manera automatizada."
      ],
      "metadata": {
        "id": "aXZ6NO9wbJlR"
      }
    },
    {
      "cell_type": "code",
      "execution_count": null,
      "metadata": {
        "id": "GybtGhABa21b"
      },
      "outputs": [],
      "source": [
        "# %%writefile project/person.py\n",
        "from dataclasses import dataclass\n",
        "\n",
        "@dataclass\n",
        "class Person:\n",
        "    name: str\n",
        "    surname: str\n",
        "    title: str\n",
        "\n",
        "    def set_name(self, user_name):\n",
        "        self.name = user_name\n",
        "        return self.name\n",
        "\n",
        "    def get_name(self):\n",
        "        if not self.name and not self.surname:\n",
        "            raise Exception('Esta persona no tiene nombre')\n",
        "        else:\n",
        "            return f\"{self.surname}, {self.name}\""
      ]
    },
    {
      "cell_type": "code",
      "source": [
        "# %%writefile project/test_person.py\n",
        "# from .person import Person\n",
        "import unittest\n",
        "import sys\n",
        "\n",
        "class TestPerson(unittest.TestCase):\n",
        "    def setUp(self):\n",
        "        print(\"Preparando la prueba\")\n",
        "        self.test_person = Person(\"Nachito\", \"Villaluenga\", \"Ingeniero de Software\")\n",
        "\n",
        "    def tearDown(self):\n",
        "        print(\"terminando la prueba\")\n",
        "        del self.test_person\n",
        "\n",
        "    def test_set_name(self):\n",
        "        # Arrange\n",
        "        print(\"Testeando test_set_name\")\n",
        "        persona = self.test_person\n",
        "        nombre_esperado = \"Jose Ignacio\"\n",
        "\n",
        "        # Act\n",
        "        nombre_obtenido = persona.set_name(nombre_esperado)\n",
        "\n",
        "        # Assert\n",
        "        self.assertEqual(nombre_esperado, nombre_obtenido, \"Los nombres no son iguales\")\n",
        "\n",
        "    def test_get_name(self):\n",
        "        # Arrange\n",
        "        print(\"Testeando test_get_name\")\n",
        "        persona = self.test_person\n",
        "        nombre_esperado = \"Villaluenga, Nachito\"\n",
        "\n",
        "        # Act\n",
        "        nombre_obtenido = persona.get_name()\n",
        "\n",
        "        # Assert\n",
        "        self.assertEqual(nombre_esperado, nombre_obtenido, \"Los nombres no son iguales\")\n",
        "\n",
        "    @unittest.skip(\"Salteamos este test\")\n",
        "    def test_nothing(self):\n",
        "        self.fail(\"Nunca va a llegar aca porque skipeamos\")\n",
        "\n",
        "    @unittest.skipIf(not sys.platform.startswith(\"win\"),\n",
        "                     \"Solo testeamos en windows\")\n",
        "    def test_format(self):\n",
        "        # Tests that work for only a certain version of the library.\n",
        "        pass\n"
      ],
      "metadata": {
        "id": "ZO-kgnO9cF3j"
      },
      "execution_count": null,
      "outputs": []
    },
    {
      "cell_type": "code",
      "source": [
        "unittest.main(argv=[''], verbosity=2, exit=False)"
      ],
      "metadata": {
        "id": "F64bTP_bga5f"
      },
      "execution_count": null,
      "outputs": []
    },
    {
      "cell_type": "markdown",
      "source": [
        "### Arrange-Act-Assert Pattern\n",
        "\n",
        "es una excelente manera de estructurar casos de prueba. Prescribe un orden de operaciones:\n",
        "\n",
        "1. Arrange: organiza las entradas y los objetivos, aqui se debe configurar el caso de prueba. ¿Requiere el test algún objeto o configuración especial? ¿Es necesario preparar una base de datos? ¿Es necesario iniciar sesión en una aplicación web? Realizamos todas estas operaciones aqui al principio de los tests.\n",
        "\n",
        "2. Act: Actuaa sobre el comportamiento que queremos probar, los pasos para cubrir lo que se va a probar. Esto podría ser llamar a una función o método, llamar a una API REST o interactuar con una página web, debemos mantener las acciones enfocadas en el comportamiento que queremos probar.\n",
        "\n",
        "3. Assert, probamos los resultados esperados, aqui debemos generar algún tipo de respuesta. Los pasos del assert verifican si esa respuesta es buena o mala, a veces, las afirmaciones son tan simples como verificar valores numéricos o de una lista, otras veces, pueden requerir verificar múltiples aspectos del sistema. Los asserts finalmente determinarán si el test aprueba o falla."
      ],
      "metadata": {
        "id": "0URj-7bSdrSg"
      }
    },
    {
      "cell_type": "markdown",
      "source": [
        "## Modulo python pytest\n",
        "\n",
        "Pytest es un framework de testeo de Python que se originó a partir del proyecto PyPy. Se puede usar para escribir varios tipos de pruebas de software, incluidas pruebas unitarias, pruebas de integración, pruebas de extremo a extremo y mas."
      ],
      "metadata": {
        "id": "3dpjzDWrmRG5"
      }
    },
    {
      "cell_type": "code",
      "source": [
        "!pip install pytest pytest-cov"
      ],
      "metadata": {
        "id": "aM_OXd8Kr86W"
      },
      "execution_count": null,
      "outputs": []
    },
    {
      "cell_type": "code",
      "source": [
        "# %%writefile project/test_person.py\n",
        "# from .person import Person\n",
        "import pytest\n",
        "import sys\n",
        "\n",
        "@pytest.fixture\n",
        "def get_person():\n",
        "    print(\"Preparando la prueba\")\n",
        "    yield Person(\"Nachito\", \"Villaluenga\", \"Ingeniero de Software\")\n",
        "    print(\"terminando la prueba\")\n",
        "\n",
        "\n",
        "def test_set_name(get_person):\n",
        "    # Arrange\n",
        "    print(\"Testeando test_set_name\")\n",
        "    nombre_esperado = \"Jose Ignacio\"\n",
        "\n",
        "    # Act\n",
        "    nombre_obtenido = get_person.set_name(nombre_esperado)\n",
        "\n",
        "    # Assert\n",
        "    assert nombre_esperado == nombre_obtenido, \"Los nombres no son iguales\"\n",
        "\n",
        "def test_get_name(get_person):\n",
        "    # Arrange\n",
        "    print(\"Testeando test_get_name\")\n",
        "    nombre_esperado = \"Villaluenga, Nachito\"\n",
        "\n",
        "    # Act\n",
        "    nombre_obtenido = get_person.get_name()\n",
        "\n",
        "    # Assert\n",
        "    assert nombre_esperado == nombre_obtenido, \"Los nombres no son iguales\"\n",
        "\n",
        "@pytest.mark.skip(\"Salteamos este test\")\n",
        "def test_nothing():\n",
        "    raise Exception(\"Nunca va a llegar aca porque skipeamo\")\n",
        "\n",
        "@pytest.mark.skipIf(not sys.platform.startswith(\"win\"),\n",
        "                    \"Solo testeamos en windows\")\n",
        "def test_format():\n",
        "    # Tests that work for only a certain version of the library.\n",
        "    pass\n"
      ],
      "metadata": {
        "id": "LOITBdOfv_38"
      },
      "execution_count": null,
      "outputs": []
    },
    {
      "cell_type": "code",
      "source": [
        "!pytest --cov project/"
      ],
      "metadata": {
        "id": "mPwSU3A9pHNv"
      },
      "execution_count": null,
      "outputs": []
    },
    {
      "cell_type": "code",
      "source": [
        "!pytest --cov --cov-report=html:coverage_re\n",
        "!tar -cvf coverage.tar coverage_re"
      ],
      "metadata": {
        "id": "1RN2hqUNstIN"
      },
      "execution_count": null,
      "outputs": []
    },
    {
      "cell_type": "code",
      "source": [
        "# %%writefile project/person_functions.py\n",
        "# from .person import Person\n",
        "import requests\n",
        "\n",
        "def create_person_with_input():\n",
        "    name = input(\"Escribre el nombre de la persona: \")\n",
        "    surname = input(\"Escribre el apellido de la persona: \")\n",
        "    title = input(\"Escribre el titulo de la persona: \")\n",
        "    return Person(name, surname, title)\n",
        "\n",
        "def tell_a_joke(person: Person):\n",
        "    result = requests.get(\"https://v2.jokeapi.dev/joke/Programming?lang=es&type=single\")\n",
        "    json = result.json()\n",
        "    if json[\"type\"] == \"single\":\n",
        "        joke = json[\"joke\"]\n",
        "    else:\n",
        "        joke = f'{json[\"setup\"]}\\n{json[\"delivery\"]}'\n",
        "    print(f\"{person.get_name()} dice una broma:\")\n",
        "    print(joke)"
      ],
      "metadata": {
        "id": "XLyAitR1e2FY"
      },
      "execution_count": null,
      "outputs": []
    },
    {
      "cell_type": "code",
      "source": [
        "person = create_person_with_input()\n",
        "tell_a_joke(person)"
      ],
      "metadata": {
        "id": "LAo5U9OL32jV"
      },
      "execution_count": null,
      "outputs": []
    },
    {
      "cell_type": "code",
      "source": [
        "# %%writefile project/test_person_functions.py\n",
        "# from .person_functions import create_person_with_input, tell_a_joke\n",
        "# from .person import Person\n",
        "from pytest import MonkeyPatch\n",
        "import pytest\n",
        "import sys\n",
        "import requests\n",
        "\n",
        "def test_create_person_with_input(monkeypatch: MonkeyPatch):\n",
        "    # Arrange\n",
        "    inputs = [\"Jose Ignacio\", \"Villaluenga\", \"Ingeniero de software\"]\n",
        "    monkeypatch.setattr(\"builtins.input\", lambda _: inputs.pop(0))\n",
        "    nombre = \"Jose Ignacio\"\n",
        "    apellido = \"Villaluenga\"\n",
        "    titulo = \"Ingeniero de software\"\n",
        "\n",
        "    # Act\n",
        "    persona_obtenida = create_person_with_input()\n",
        "\n",
        "    # Assert\n",
        "    assert nombre == persona_obtenida.name\n",
        "    assert apellido == persona_obtenida.surname\n",
        "    assert titulo == persona_obtenida.title\n",
        "\n",
        "class MockResponse:\n",
        "    def __init__(self, json):\n",
        "        self.json_data = json\n",
        "\n",
        "    def json(self):\n",
        "        return self.json_data\n",
        "\n",
        "def test_tell_a_joke():\n",
        "    # Arrange\n",
        "    mock_response = MockClient({\"type\": \"single\", \"joke\": \"mock jock\"})\n",
        "    monkeypatch.setattr(requests, \"get\", lambda _: mock_response)\n",
        "\n",
        "    # Act\n",
        "    tell_a_joke(Person(\"Nombre\", \"Apelldio\", \"titulo\"), mock_response)\n",
        "\n",
        "    # Assert\n",
        "\n",
        "def test_tell_a_joke_fail(monkeypatch: MonkeyPatch):\n",
        "    # Arrange\n",
        "    mock_response = MockResponse({\"type\": \"fail\", \"joke\": \"mock jock\"})\n",
        "    monkeypatch.setattr(requests, \"get\", lambda _: mock_response)\n",
        "\n",
        "    # Act and assert\n",
        "    with pytest.raises(KeyError):\n",
        "        tell_a_joke(Person(\"Nombre\", \"Apelldio\", \"titulo\"))\n"
      ],
      "metadata": {
        "id": "s_KmCz2F4gfT"
      },
      "execution_count": null,
      "outputs": []
    },
    {
      "cell_type": "code",
      "source": [
        "!pytest --cov project/"
      ],
      "metadata": {
        "id": "FIMpAXG__GnZ"
      },
      "execution_count": null,
      "outputs": []
    },
    {
      "cell_type": "code",
      "source": [],
      "metadata": {
        "id": "zA0jctJA_K_T"
      },
      "execution_count": null,
      "outputs": []
    }
  ]
}