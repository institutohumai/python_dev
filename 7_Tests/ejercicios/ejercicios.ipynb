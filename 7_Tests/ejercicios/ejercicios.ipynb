{
  "nbformat": 4,
  "nbformat_minor": 0,
  "metadata": {
    "colab": {
      "provenance": []
    },
    "kernelspec": {
      "name": "python3",
      "display_name": "Python 3"
    },
    "language_info": {
      "name": "python"
    }
  },
  "cells": [
    {
      "cell_type": "code",
      "source": [
        "#@title Requirements\n",
        "!pip install tinydb"
      ],
      "metadata": {
        "id": "bs4vXfFCxTCm"
      },
      "execution_count": null,
      "outputs": []
    },
    {
      "cell_type": "markdown",
      "source": [
        "## Clase practica\n",
        "\n",
        "Teniendo en cuenta el codigo aqui de bajo que busca gestionar el stock de una empresa"
      ],
      "metadata": {
        "id": "sUoc_uVVzorY"
      }
    },
    {
      "cell_type": "code",
      "execution_count": null,
      "metadata": {
        "id": "Ar_668TWw744"
      },
      "outputs": [],
      "source": [
        "from random import randint, random\n",
        "from tinydb import Query, TinyDB\n",
        "from tinydb.table import Document\n",
        "\n",
        "stock_table = TinyDB('stock.json').table('stock')\n",
        "\n",
        "def get_stock(product_id: int) -> dict:\n",
        "  stock = stock_table.get(doc_id=product_id)\n",
        "  return stock.copy()\n",
        "\n",
        "def update_stock(product_id: int, stock: int):\n",
        "  stock_table = TinyDB('stock.json').table('stock')\n",
        "  stock_table.update({\"stock\":stock}, doc_ids = [product_id])\n",
        "\n",
        "def insert_product(product_id: int, stock: int, price: float):\n",
        "    stock_table.insert(Document({\"stock\":stock, \"price\": price}, doc_id=i))\n",
        "\n",
        "for i in range(100):\n",
        "    stock = randint(1, 15)\n",
        "    price = round((random() * 100), 2)\n",
        "    insert_product(i, stock, price)"
      ]
    },
    {
      "cell_type": "markdown",
      "source": [
        "Ejercicio 1:\n",
        "\n",
        "- Implementa unit test para estas funciones Puedes elegir el modulo de python que mas te guste\n",
        "- Identifica y mejora el codigo con los resultados de tus tests (No tengamos miedo de modificar el codigo como pensemos tenga mas sentido)"
      ],
      "metadata": {
        "id": "f52FTz750uGf"
      }
    },
    {
      "cell_type": "code",
      "source": [],
      "metadata": {
        "id": "fJOuic9Hxr97"
      },
      "execution_count": null,
      "outputs": []
    },
    {
      "cell_type": "markdown",
      "source": [
        "Ejercicio 1.1:\n",
        "\n",
        "- Modifica los tests para que no accedan a la base de datos. Implementa mocks!"
      ],
      "metadata": {
        "id": "55FxBCU72whR"
      }
    },
    {
      "cell_type": "code",
      "source": [],
      "metadata": {
        "id": "BSborNW-x1Lq"
      },
      "execution_count": null,
      "outputs": []
    },
    {
      "cell_type": "markdown",
      "source": [
        "Ejercicio 2:\n",
        "- Utilizando TDD:\n",
        "    1. Implementa la funcionalidad para aumentar stock en una cantidad determinada, es decir, que si para un producto x tengo 5 de stock y quiero aumentar en 2, el stock final para el producto x deberia ser 7\n",
        "    2. Implementa la misma funcionalidad para disminuir stock\n",
        "    3. Implementa la capacidad de subir el precio de un elemento en x%"
      ],
      "metadata": {
        "id": "3HUkJiF13oHD"
      }
    },
    {
      "cell_type": "code",
      "source": [],
      "metadata": {
        "id": "S0qxsdXG42Nq"
      },
      "execution_count": null,
      "outputs": []
    },
    {
      "cell_type": "markdown",
      "source": [
        "Extra (Opcional):\n",
        "- Investiga como podriamos implementar tests de integracion (posiblemente tengamos que realizarlo en nuestra pc y no en colab)"
      ],
      "metadata": {
        "id": "8UNk4PZG45Vj"
      }
    },
    {
      "cell_type": "code",
      "source": [],
      "metadata": {
        "id": "upEU9C0R461S"
      },
      "execution_count": null,
      "outputs": []
    }
  ]
}